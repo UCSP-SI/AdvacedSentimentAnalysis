{
 "cells": [
  {
   "cell_type": "code",
   "execution_count": 1,
   "metadata": {},
   "outputs": [],
   "source": [
    "from __future__ import division, print_function\n",
    "\n",
    "import lib.xmlreader as xml\n",
    "import lib.utils as ut\n",
    "import numpy as np\n",
    "\n",
    "import gensim.models.word2vec\n",
    "import itertools\n",
    "from collections import Counter\n",
    "from nltk.tokenize import word_tokenize\n",
    "\n",
    "import re\n",
    "from nltk.corpus import stopwords\n",
    "from nltk.stem import SnowballStemmer\n",
    "from string import punctuation\n",
    "\n",
    "from sklearn.decomposition import TruncatedSVD\n",
    "from sklearn.feature_extraction.text import CountVectorizer\n",
    "from sklearn.metrics import accuracy_score, confusion_matrix, classification_report\n",
    "from sklearn.model_selection import KFold\n",
    "import collections\n",
    "import numpy as np\n",
    "import matplotlib.pyplot as plt\n",
    "import operator\n",
    "import os\n",
    "%matplotlib inline"
   ]
  },
  {
   "cell_type": "code",
   "execution_count": 2,
   "metadata": {},
   "outputs": [],
   "source": [
    "train_docs = xml.readXML(\"../database/TASS/TASS2017/task1-Training.xml\",[0,1,2,3])\n",
    "test_docs  = xml.readXML(\"../database/TASS/TASS2017/task1-Development.xml\",[0,1,2,3])"
   ]
  },
  {
   "cell_type": "code",
   "execution_count": 3,
   "metadata": {},
   "outputs": [],
   "source": [
    "corpus = []\n",
    "for doc in train_docs + test_docs:\n",
    "    corpus.append(doc.content)"
   ]
  },
  {
   "cell_type": "code",
   "execution_count": 4,
   "metadata": {},
   "outputs": [],
   "source": [
    "train_labels = []\n",
    "for doc in train_docs:\n",
    "    train_labels.append(doc.polarity)\n",
    "    \n",
    "test_labels = []\n",
    "for doc in test_docs:\n",
    "    test_labels.append(doc.polarity)"
   ]
  },
  {
   "cell_type": "code",
   "execution_count": 5,
   "metadata": {},
   "outputs": [],
   "source": [
    "def gensim_load_vec(path=\"../database/embeddings/SBW-vectors-300-min5.bin\"):\n",
    "    #use gensim_emb.wv.index2word if used this way to load vectors\n",
    "    #gensim_emb = gensim.models.word2vec.Word2Vec.load(path)\n",
    "    gensim_emb =  gensim.models.KeyedVectors.load_word2vec_format(path, binary=True)\n",
    "    vocab = gensim_emb.index2word\n",
    "    vec = gensim_emb.syn0\n",
    "    shape = gensim_emb.syn0.shape\n",
    "    return gensim_emb, vec, shape, vocab"
   ]
  },
  {
   "cell_type": "code",
   "execution_count": 6,
   "metadata": {},
   "outputs": [
    {
     "name": "stderr",
     "output_type": "stream",
     "text": [
      "/home/jose/.local/lib/python3.6/site-packages/ipykernel_launcher.py:6: DeprecationWarning: Call to deprecated `syn0` (Attribute will be removed in 4.0.0, use self.vectors instead).\n",
      "  \n",
      "/home/jose/.local/lib/python3.6/site-packages/ipykernel_launcher.py:7: DeprecationWarning: Call to deprecated `syn0` (Attribute will be removed in 4.0.0, use self.vectors instead).\n",
      "  import sys\n"
     ]
    }
   ],
   "source": [
    "gensim_emb, vec, shape, vocab = gensim_load_vec()"
   ]
  },
  {
   "cell_type": "code",
   "execution_count": 7,
   "metadata": {},
   "outputs": [],
   "source": [
    "counter = CountVectorizer(tokenizer=ut.tokenizer)"
   ]
  },
  {
   "cell_type": "code",
   "execution_count": 8,
   "metadata": {},
   "outputs": [
    {
     "name": "stdout",
     "output_type": "stream",
     "text": [
      "(1514, 5261)\n"
     ]
    }
   ],
   "source": [
    "X = counter.fit_transform(corpus)\n",
    "print(X.shape)"
   ]
  },
  {
   "cell_type": "code",
   "execution_count": 9,
   "metadata": {},
   "outputs": [
    {
     "data": {
      "image/png": "[encoded data removed]",
      "text/plain": [
       "<Figure size 432x288 with 1 Axes>"
      ]
     },
     "metadata": {
      "needs_background": "light"
     },
     "output_type": "display_data"
    }
   ],
   "source": [
    "counts = np.sum(X, axis=0).tolist()\n",
    "counts = sorted(counts[0], reverse=True)\n",
    "plt.plot(np.arange(len(counts)), counts)\n",
    "plt.title(\"word count distribution in corpus\")\n",
    "plt.ylabel(\"counts\")\n",
    "plt.xlabel(\"words\")\n",
    "acc = []"
   ]
  },
  {
   "cell_type": "code",
   "execution_count": 67,
   "metadata": {},
   "outputs": [
    {
     "name": "stdout",
     "output_type": "stream",
     "text": [
      "(1514, 5261)\n"
     ]
    }
   ],
   "source": [
    "# VOCAB_SIZE = 3000\n",
    "VOCAB_SIZE = X.shape[1]\n",
    "# counter = CountVectorizer(strip_accents=\"unicode\", max_features=VOCAB_SIZE)\n",
    "# counter = CountVectorizer(max_features=VOCAB_SIZE, tokenizer=ut.tokenizer)\n",
    "\n",
    "caption_texts = corpus\n",
    "Xc = counter.fit_transform(caption_texts).todense().astype(\"float\")\n",
    "print(Xc.shape)"
   ]
  },
  {
   "cell_type": "code",
   "execution_count": 68,
   "metadata": {},
   "outputs": [
    {
     "name": "stdout",
     "output_type": "stream",
     "text": [
      "(1514, 1)\n"
     ]
    }
   ],
   "source": [
    "sent_lens = np.sum(Xc, axis=1).astype(\"float\")\n",
    "sent_lens[sent_lens == 0] = 1e-14\n",
    "print(sent_lens.shape)"
   ]
  },
  {
   "cell_type": "code",
   "execution_count": 69,
   "metadata": {},
   "outputs": [
    {
     "name": "stdout",
     "output_type": "stream",
     "text": [
      "(5261, 300)\n"
     ]
    }
   ],
   "source": [
    "E = np.zeros((VOCAB_SIZE, 300))\n",
    "for word in list(counter.vocabulary_.keys()):\n",
    "    try:\n",
    "        i = counter.vocabulary_[word]\n",
    "        E[i] = gensim_emb[word]\n",
    "    except KeyError:\n",
    "        pass\n",
    "print(E.shape)"
   ]
  },
  {
   "cell_type": "code",
   "execution_count": 70,
   "metadata": {},
   "outputs": [
    {
     "name": "stdout",
     "output_type": "stream",
     "text": [
      "(1514, 300)\n"
     ]
    }
   ],
   "source": [
    "Xb = np.divide(np.dot(Xc, E), sent_lens)\n",
    "print(Xb.shape)"
   ]
  },
  {
   "cell_type": "code",
   "execution_count": 71,
   "metadata": {},
   "outputs": [
    {
     "name": "stdout",
     "output_type": "stream",
     "text": [
      "(1008, 300) (1008,) (506, 300) (506,)\n"
     ]
    }
   ],
   "source": [
    "Xtrain, Xtest = Xb[0:len(train_docs)], Xb[-len(test_docs):]\n",
    "ytrain, ytest = np.array(train_labels), np.array(test_labels)\n",
    "print(Xtrain.shape, ytrain.shape, Xtest.shape, ytest.shape)"
   ]
  },
  {
   "cell_type": "code",
   "execution_count": 72,
   "metadata": {},
   "outputs": [
    {
     "name": "stdout",
     "output_type": "stream",
     "text": [
      "['/job:localhost/replica:0/task:0/device:GPU:0']\n"
     ]
    }
   ],
   "source": [
    "import tensorflow as tf\n",
    "import keras \n",
    "\n",
    "from keras.utils import to_categorical\n",
    "from keras import backend as K\n",
    "\n",
    "from keras.models import Sequential\n",
    "from keras.layers import Dense, Dropout\n",
    "from keras.layers import Flatten\n",
    "from keras.layers.embeddings import Embedding\n",
    "\n",
    "from keras.layers import Input, Dense, concatenate, Activation\n",
    "from keras.models import Model\n",
    "from keras.layers import Conv1D, GlobalMaxPooling1D\n",
    "\n",
    "from keras.callbacks import ModelCheckpoint\n",
    "\n",
    "print(K.tensorflow_backend._get_available_gpus())\n",
    "\n",
    "\n",
    "config = tf.ConfigProto(intra_op_parallelism_threads=4, \\\n",
    "                        inter_op_parallelism_threads=4, \\\n",
    "                        allow_soft_placement=True,\\\n",
    "                        device_count = {'CPU' : 1, 'GPU' : 0})\n",
    "\n",
    "sess = tf.Session(config=config)\n",
    "K.set_session(sess)\n",
    "    \n",
    "seed = 7"
   ]
  },
  {
   "cell_type": "code",
   "execution_count": 111,
   "metadata": {},
   "outputs": [
    {
     "name": "stdout",
     "output_type": "stream",
     "text": [
      "_________________________________________________________________\n",
      "Layer (type)                 Output Shape              Param #   \n",
      "=================================================================\n",
      "input_42 (InputLayer)        (None, 300)               0         \n",
      "_________________________________________________________________\n",
      "dense_118 (Dense)            (None, 64)                19264     \n",
      "_________________________________________________________________\n",
      "dropout_83 (Dropout)         (None, 64)                0         \n",
      "_________________________________________________________________\n",
      "dense_119 (Dense)            (None, 4)                 260       \n",
      "_________________________________________________________________\n",
      "activation_36 (Activation)   (None, 4)                 0         \n",
      "=================================================================\n",
      "Total params: 19,524\n",
      "Trainable params: 19,524\n",
      "Non-trainable params: 0\n",
      "_________________________________________________________________\n"
     ]
    }
   ],
   "source": [
    "tweet_encoder   = Input(shape=(300,), dtype='float32')\n",
    "\n",
    "merged = Dense(128)(tweet_encoder)\n",
    "merged = Dropout(0.5)(merged)\n",
    "\n",
    "merged = Dense(64)(tweet_encoder)\n",
    "merged = Dropout(0.2)(merged)\n",
    "\n",
    "#merged = Dense(16)(tweet_encoder)\n",
    "#merged = Dropout(0.2)(merged)\n",
    "\n",
    "merged = Dense(4)(merged)\n",
    "output = Activation('softmax')(merged)\n",
    "model  = Model(inputs=[tweet_encoder], outputs=[output])\n",
    "\n",
    "model.compile(loss='categorical_crossentropy',\n",
    "                  optimizer='adam',\n",
    "                  metrics=['accuracy'])\n",
    "model.summary()"
   ]
  },
  {
   "cell_type": "code",
   "execution_count": 112,
   "metadata": {},
   "outputs": [
    {
     "name": "stdout",
     "output_type": "stream",
     "text": [
      "Train on 1008 samples, validate on 506 samples\n",
      "Epoch 1/50\n",
      "1008/1008 [==============================] - 1s 939us/step - loss: 1.2905 - acc: 0.4137 - val_loss: 1.2335 - val_acc: 0.4684\n",
      "\n",
      "Epoch 00001: val_acc improved from -inf to 0.46838, saving model to model/CNN_best_weights_NENO.01-0.4684.hdf5\n",
      "Epoch 2/50\n",
      "1008/1008 [==============================] - 0s 29us/step - loss: 1.2380 - acc: 0.4643 - val_loss: 1.2076 - val_acc: 0.4802\n",
      "\n",
      "Epoch 00002: val_acc improved from 0.46838 to 0.48024, saving model to model/CNN_best_weights_NENO.02-0.4802.hdf5\n",
      "Epoch 3/50\n",
      "1008/1008 [==============================] - 0s 37us/step - loss: 1.2094 - acc: 0.4921 - val_loss: 1.1856 - val_acc: 0.5178\n",
      "\n",
      "Epoch 00003: val_acc improved from 0.48024 to 0.51779, saving model to model/CNN_best_weights_NENO.03-0.5178.hdf5\n",
      "Epoch 4/50\n",
      "1008/1008 [==============================] - 0s 31us/step - loss: 1.1857 - acc: 0.5387 - val_loss: 1.1685 - val_acc: 0.5277\n",
      "\n",
      "Epoch 00004: val_acc improved from 0.51779 to 0.52767, saving model to model/CNN_best_weights_NENO.04-0.5277.hdf5\n",
      "Epoch 5/50\n",
      "1008/1008 [==============================] - 0s 33us/step - loss: 1.1561 - acc: 0.5337 - val_loss: 1.1535 - val_acc: 0.5435\n",
      "\n",
      "Epoch 00005: val_acc improved from 0.52767 to 0.54348, saving model to model/CNN_best_weights_NENO.05-0.5435.hdf5\n",
      "Epoch 6/50\n",
      "1008/1008 [==============================] - 0s 30us/step - loss: 1.1328 - acc: 0.5685 - val_loss: 1.1380 - val_acc: 0.5316\n",
      "\n",
      "Epoch 00006: val_acc did not improve from 0.54348\n",
      "Epoch 7/50\n",
      "1008/1008 [==============================] - 0s 32us/step - loss: 1.1168 - acc: 0.5704 - val_loss: 1.1271 - val_acc: 0.5435\n",
      "\n",
      "Epoch 00007: val_acc did not improve from 0.54348\n",
      "Epoch 8/50\n",
      "1008/1008 [==============================] - 0s 37us/step - loss: 1.0963 - acc: 0.5724 - val_loss: 1.1167 - val_acc: 0.5415\n",
      "\n",
      "Epoch 00008: val_acc did not improve from 0.54348\n",
      "Epoch 9/50\n",
      "1008/1008 [==============================] - 0s 34us/step - loss: 1.0774 - acc: 0.5883 - val_loss: 1.1078 - val_acc: 0.5553\n",
      "\n",
      "Epoch 00009: val_acc improved from 0.54348 to 0.55534, saving model to model/CNN_best_weights_NENO.09-0.5553.hdf5\n",
      "Epoch 10/50\n",
      "1008/1008 [==============================] - 0s 30us/step - loss: 1.0676 - acc: 0.5784 - val_loss: 1.1066 - val_acc: 0.5375\n",
      "\n",
      "Epoch 00010: val_acc did not improve from 0.55534\n",
      "Epoch 11/50\n",
      "1008/1008 [==============================] - 0s 31us/step - loss: 1.0464 - acc: 0.5893 - val_loss: 1.0949 - val_acc: 0.5573\n",
      "\n",
      "Epoch 00011: val_acc improved from 0.55534 to 0.55731, saving model to model/CNN_best_weights_NENO.11-0.5573.hdf5\n",
      "Epoch 12/50\n",
      "1008/1008 [==============================] - 0s 38us/step - loss: 1.0418 - acc: 0.5833 - val_loss: 1.0970 - val_acc: 0.5534\n",
      "\n",
      "Epoch 00012: val_acc did not improve from 0.55731\n",
      "Epoch 13/50\n",
      "1008/1008 [==============================] - 0s 49us/step - loss: 1.0292 - acc: 0.5992 - val_loss: 1.0858 - val_acc: 0.5711\n",
      "\n",
      "Epoch 00013: val_acc improved from 0.55731 to 0.57115, saving model to model/CNN_best_weights_NENO.13-0.5711.hdf5\n",
      "Epoch 14/50\n",
      "1008/1008 [==============================] - 0s 38us/step - loss: 1.0152 - acc: 0.5933 - val_loss: 1.0838 - val_acc: 0.5474\n",
      "\n",
      "Epoch 00014: val_acc did not improve from 0.57115\n",
      "Epoch 15/50\n",
      "1008/1008 [==============================] - 0s 35us/step - loss: 0.9974 - acc: 0.6161 - val_loss: 1.0785 - val_acc: 0.5573\n",
      "\n",
      "Epoch 00015: val_acc did not improve from 0.57115\n",
      "Epoch 16/50\n",
      "1008/1008 [==============================] - 0s 38us/step - loss: 0.9895 - acc: 0.6141 - val_loss: 1.0787 - val_acc: 0.5553\n",
      "\n",
      "Epoch 00016: val_acc did not improve from 0.57115\n",
      "Epoch 17/50\n",
      "1008/1008 [==============================] - 0s 36us/step - loss: 0.9819 - acc: 0.6190 - val_loss: 1.0755 - val_acc: 0.5632\n",
      "\n",
      "Epoch 00017: val_acc did not improve from 0.57115\n",
      "Epoch 18/50\n",
      "1008/1008 [==============================] - 0s 43us/step - loss: 0.9771 - acc: 0.6141 - val_loss: 1.0767 - val_acc: 0.5672\n",
      "\n",
      "Epoch 00018: val_acc did not improve from 0.57115\n",
      "Epoch 19/50\n",
      "1008/1008 [==============================] - 0s 33us/step - loss: 0.9645 - acc: 0.6121 - val_loss: 1.0803 - val_acc: 0.5652\n",
      "\n",
      "Epoch 00019: val_acc did not improve from 0.57115\n",
      "Epoch 20/50\n",
      "1008/1008 [==============================] - 0s 34us/step - loss: 0.9572 - acc: 0.6300 - val_loss: 1.0739 - val_acc: 0.5672\n",
      "\n",
      "Epoch 00020: val_acc did not improve from 0.57115\n",
      "Epoch 21/50\n",
      "1008/1008 [==============================] - 0s 43us/step - loss: 0.9429 - acc: 0.6399 - val_loss: 1.0730 - val_acc: 0.5672\n",
      "\n",
      "Epoch 00021: val_acc did not improve from 0.57115\n",
      "Epoch 22/50\n",
      "1008/1008 [==============================] - 0s 36us/step - loss: 0.9395 - acc: 0.6389 - val_loss: 1.0751 - val_acc: 0.5652\n",
      "\n",
      "Epoch 00022: val_acc did not improve from 0.57115\n",
      "Epoch 23/50\n",
      "1008/1008 [==============================] - 0s 38us/step - loss: 0.9300 - acc: 0.6300 - val_loss: 1.0809 - val_acc: 0.5632\n",
      "\n",
      "Epoch 00023: val_acc did not improve from 0.57115\n",
      "Epoch 24/50\n",
      "1008/1008 [==============================] - 0s 31us/step - loss: 0.9194 - acc: 0.6518 - val_loss: 1.0745 - val_acc: 0.5632\n",
      "\n",
      "Epoch 00024: val_acc did not improve from 0.57115\n",
      "Epoch 25/50\n",
      "1008/1008 [==============================] - 0s 32us/step - loss: 0.9155 - acc: 0.6478 - val_loss: 1.0814 - val_acc: 0.5593\n",
      "\n",
      "Epoch 00025: val_acc did not improve from 0.57115\n",
      "Epoch 26/50\n",
      "1008/1008 [==============================] - 0s 36us/step - loss: 0.9081 - acc: 0.6429 - val_loss: 1.0763 - val_acc: 0.5672\n",
      "\n",
      "Epoch 00026: val_acc did not improve from 0.57115\n",
      "Epoch 27/50\n",
      "1008/1008 [==============================] - 0s 35us/step - loss: 0.9035 - acc: 0.6488 - val_loss: 1.0828 - val_acc: 0.5573\n",
      "\n",
      "Epoch 00027: val_acc did not improve from 0.57115\n",
      "Epoch 28/50\n",
      "1008/1008 [==============================] - 0s 29us/step - loss: 0.8931 - acc: 0.6567 - val_loss: 1.0813 - val_acc: 0.5593\n",
      "\n",
      "Epoch 00028: val_acc did not improve from 0.57115\n",
      "Epoch 29/50\n",
      "1008/1008 [==============================] - 0s 31us/step - loss: 0.8853 - acc: 0.6587 - val_loss: 1.0932 - val_acc: 0.5672\n",
      "\n",
      "Epoch 00029: val_acc did not improve from 0.57115\n",
      "Epoch 30/50\n",
      "1008/1008 [==============================] - 0s 38us/step - loss: 0.8864 - acc: 0.6637 - val_loss: 1.0948 - val_acc: 0.5632\n",
      "\n",
      "Epoch 00030: val_acc did not improve from 0.57115\n",
      "Epoch 31/50\n",
      "1008/1008 [==============================] - 0s 45us/step - loss: 0.8817 - acc: 0.6498 - val_loss: 1.0883 - val_acc: 0.5593\n",
      "\n",
      "Epoch 00031: val_acc did not improve from 0.57115\n",
      "Epoch 32/50\n",
      "1008/1008 [==============================] - 0s 34us/step - loss: 0.8694 - acc: 0.6667 - val_loss: 1.0924 - val_acc: 0.5593\n",
      "\n",
      "Epoch 00032: val_acc did not improve from 0.57115\n",
      "Epoch 33/50\n",
      "1008/1008 [==============================] - 0s 31us/step - loss: 0.8585 - acc: 0.6577 - val_loss: 1.0935 - val_acc: 0.5455\n",
      "\n",
      "Epoch 00033: val_acc did not improve from 0.57115\n",
      "Epoch 34/50\n",
      "1008/1008 [==============================] - 0s 31us/step - loss: 0.8547 - acc: 0.6736 - val_loss: 1.0947 - val_acc: 0.5514\n",
      "\n",
      "Epoch 00034: val_acc did not improve from 0.57115\n",
      "Epoch 35/50\n",
      "1008/1008 [==============================] - 0s 31us/step - loss: 0.8534 - acc: 0.6796 - val_loss: 1.0971 - val_acc: 0.5296\n",
      "\n",
      "Epoch 00035: val_acc did not improve from 0.57115\n",
      "Epoch 36/50\n",
      "1008/1008 [==============================] - 0s 31us/step - loss: 0.8507 - acc: 0.6696 - val_loss: 1.1004 - val_acc: 0.5395\n",
      "\n",
      "Epoch 00036: val_acc did not improve from 0.57115\n",
      "Epoch 37/50\n",
      "1008/1008 [==============================] - 0s 36us/step - loss: 0.8462 - acc: 0.6806 - val_loss: 1.1040 - val_acc: 0.5514\n",
      "\n",
      "Epoch 00037: val_acc did not improve from 0.57115\n",
      "Epoch 38/50\n",
      "1008/1008 [==============================] - 0s 33us/step - loss: 0.8424 - acc: 0.6806 - val_loss: 1.1005 - val_acc: 0.5455\n",
      "\n",
      "Epoch 00038: val_acc did not improve from 0.57115\n",
      "Epoch 39/50\n",
      "1008/1008 [==============================] - 0s 34us/step - loss: 0.8325 - acc: 0.6855 - val_loss: 1.1035 - val_acc: 0.5455\n",
      "\n",
      "Epoch 00039: val_acc did not improve from 0.57115\n",
      "Epoch 40/50\n",
      "1008/1008 [==============================] - 0s 34us/step - loss: 0.8216 - acc: 0.6964 - val_loss: 1.1162 - val_acc: 0.5178\n",
      "\n",
      "Epoch 00040: val_acc did not improve from 0.57115\n",
      "Epoch 41/50\n",
      "1008/1008 [==============================] - 0s 35us/step - loss: 0.8109 - acc: 0.6895 - val_loss: 1.1105 - val_acc: 0.5375\n",
      "\n",
      "Epoch 00041: val_acc did not improve from 0.57115\n",
      "Epoch 42/50\n"
     ]
    },
    {
     "name": "stdout",
     "output_type": "stream",
     "text": [
      "1008/1008 [==============================] - 0s 30us/step - loss: 0.8124 - acc: 0.6865 - val_loss: 1.1162 - val_acc: 0.5494\n",
      "\n",
      "Epoch 00042: val_acc did not improve from 0.57115\n",
      "Epoch 43/50\n",
      "1008/1008 [==============================] - 0s 31us/step - loss: 0.8148 - acc: 0.6845 - val_loss: 1.1229 - val_acc: 0.5375\n",
      "\n",
      "Epoch 00043: val_acc did not improve from 0.57115\n",
      "Epoch 44/50\n",
      "1008/1008 [==============================] - 0s 31us/step - loss: 0.8119 - acc: 0.6915 - val_loss: 1.1168 - val_acc: 0.5455\n",
      "\n",
      "Epoch 00044: val_acc did not improve from 0.57115\n",
      "Epoch 45/50\n",
      "1008/1008 [==============================] - 0s 33us/step - loss: 0.8000 - acc: 0.6954 - val_loss: 1.1340 - val_acc: 0.5158\n",
      "\n",
      "Epoch 00045: val_acc did not improve from 0.57115\n",
      "Epoch 46/50\n",
      "1008/1008 [==============================] - 0s 29us/step - loss: 0.8041 - acc: 0.7024 - val_loss: 1.1399 - val_acc: 0.5277\n",
      "\n",
      "Epoch 00046: val_acc did not improve from 0.57115\n",
      "Epoch 47/50\n",
      "1008/1008 [==============================] - 0s 33us/step - loss: 0.7963 - acc: 0.6815 - val_loss: 1.1371 - val_acc: 0.5257\n",
      "\n",
      "Epoch 00047: val_acc did not improve from 0.57115\n",
      "Epoch 48/50\n",
      "1008/1008 [==============================] - 0s 32us/step - loss: 0.7937 - acc: 0.6925 - val_loss: 1.1341 - val_acc: 0.5158\n",
      "\n",
      "Epoch 00048: val_acc did not improve from 0.57115\n",
      "Epoch 49/50\n",
      "1008/1008 [==============================] - 0s 36us/step - loss: 0.7795 - acc: 0.7123 - val_loss: 1.1333 - val_acc: 0.5198\n",
      "\n",
      "Epoch 00049: val_acc did not improve from 0.57115\n",
      "Epoch 50/50\n",
      "1008/1008 [==============================] - 0s 35us/step - loss: 0.7711 - acc: 0.7103 - val_loss: 1.1369 - val_acc: 0.5336\n",
      "\n",
      "Epoch 00050: val_acc did not improve from 0.57115\n"
     ]
    },
    {
     "data": {
      "text/plain": [
       "<keras.callbacks.History at 0x7fac3ed91ba8>"
      ]
     },
     "execution_count": 112,
     "metadata": {},
     "output_type": "execute_result"
    }
   ],
   "source": [
    "filepath=\"model/CNN_best_weights_NENO.{epoch:02d}-{val_acc:.4f}.hdf5\"\n",
    "checkpoint = ModelCheckpoint(filepath, monitor='val_acc', verbose=1, save_best_only=True, mode='max')\n",
    "\n",
    "model.fit(Xtrain, to_categorical(ytrain), batch_size=64, epochs=50,\n",
    "                     validation_data=(Xtest, to_categorical(ytest)), callbacks = [checkpoint], verbose=1)"
   ]
  },
  {
   "cell_type": "code",
   "execution_count": null,
   "metadata": {},
   "outputs": [],
   "source": []
  },
  {
   "cell_type": "code",
   "execution_count": null,
   "metadata": {},
   "outputs": [],
   "source": []
  }
 ],
 "metadata": {
  "kernelspec": {
   "display_name": "Python 3",
   "language": "python",
   "name": "python3"
  },
  "language_info": {
   "codemirror_mode": {
    "name": "ipython",
    "version": 3
   },
   "file_extension": ".py",
   "mimetype": "text/x-python",
   "name": "python",
   "nbconvert_exporter": "python",
   "pygments_lexer": "ipython3",
   "version": "3.6.7"
  }
 },
 "nbformat": 4,
 "nbformat_minor": 2
}
