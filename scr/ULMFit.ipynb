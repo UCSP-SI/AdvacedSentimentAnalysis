{
 "cells": [
  {
   "cell_type": "code",
   "execution_count": 0,
   "metadata": {
    "colab": {},
    "colab_type": "code",
    "id": "NDA5PiL8ihQV"
   },
   "outputs": [],
   "source": [
    "#!pip3 install torch torchvision"
   ]
  },
  {
   "cell_type": "code",
   "execution_count": 0,
   "metadata": {
    "colab": {},
    "colab_type": "code",
    "id": "MZgiSj4jijOg"
   },
   "outputs": [],
   "source": [
    "#!pip3 install fastai==0.7.0"
   ]
  },
  {
   "cell_type": "code",
   "execution_count": 0,
   "metadata": {
    "colab": {},
    "colab_type": "code",
    "id": "WtsQy3zNijeq"
   },
   "outputs": [],
   "source": [
    "#!pip3 install torchtext==0.2.3"
   ]
  },
  {
   "cell_type": "code",
   "execution_count": 0,
   "metadata": {
    "colab": {},
    "colab_type": "code",
    "id": "lNGvgB__iqG1"
   },
   "outputs": [],
   "source": [
    "#from google.colab import drive\n",
    "\n",
    "#drive.mount('/content/gdrive')"
   ]
  },
  {
   "cell_type": "code",
   "execution_count": 0,
   "metadata": {
    "colab": {},
    "colab_type": "code",
    "id": "grPWzpGJiebw"
   },
   "outputs": [],
   "source": [
    "from fastai.text import * \n",
    "\n",
    "DATA_PATH = '/content/gdrive/My Drive/CS/SI/Proyecto/database/'"
   ]
  },
  {
   "cell_type": "code",
   "execution_count": 0,
   "metadata": {
    "colab": {},
    "colab_type": "code",
    "id": "paDoIW8viecT"
   },
   "outputs": [],
   "source": [
    "train_ids = np.load(DATA_PATH + 'ulmfit/tmp/train_lm.npy')\n",
    "test_ids  = np.load(DATA_PATH + 'ulmfit/tmp/test_lm.npy')\n",
    "itos      = pickle.load(open(DATA_PATH + 'ulmfit/tmp/itos.pkl', 'rb'))"
   ]
  },
  {
   "cell_type": "code",
   "execution_count": 86,
   "metadata": {
    "colab": {
     "base_uri": "https://localhost:8080/",
     "height": 34
    },
    "colab_type": "code",
    "id": "Wt1VluGViecY",
    "outputId": "21c67fed-55ce-44e9-d4d9-2bf552fe3f34"
   },
   "outputs": [
    {
     "data": {
      "text/plain": [
       "(1243, 736)"
      ]
     },
     "execution_count": 86,
     "metadata": {
      "tags": []
     },
     "output_type": "execute_result"
    }
   ],
   "source": [
    "vs=len(itos)\n",
    "vs,len(train_ids)"
   ]
  },
  {
   "cell_type": "markdown",
   "metadata": {
    "colab_type": "text",
    "id": "VKxRJB__iecg"
   },
   "source": [
    "## Wikitext103"
   ]
  },
  {
   "cell_type": "markdown",
   "metadata": {
    "colab_type": "text",
    "id": "6HsEV1NOiecj"
   },
   "source": [
    "We use a transfer learning method to learn the structure of the spanish language. In transfer learning (a fairly recent idea for NLP) a pre-trained LM that has been trained on a large generic corpus(like wikipedia articles) can be used to transfer it's knowledge to a target LM and the weights can be fine-tuned.\n",
    "\n",
    "Our source LM is the wikitext103 LM created by Stephen Merity @ Salesforce research. Link to dataset The language model for wikitext103 (AWD LSTM) has been pre-trained and the weights can be downloaded here: Link. Our target LM is the IMDB LM."
   ]
  },
  {
   "cell_type": "code",
   "execution_count": 0,
   "metadata": {
    "colab": {},
    "colab_type": "code",
    "id": "YrUDPGeHiecm"
   },
   "outputs": [],
   "source": [
    "WIKITEX = DATA_PATH + 'ulmfit/'"
   ]
  },
  {
   "cell_type": "code",
   "execution_count": 0,
   "metadata": {
    "colab": {},
    "colab_type": "code",
    "id": "tN0oN9x6iect"
   },
   "outputs": [],
   "source": [
    "#!wget -nH -r -np -P ../database/ulmfit/model/ http://files.fast.ai/models/wt103/fwd_wt103.h5"
   ]
  },
  {
   "cell_type": "code",
   "execution_count": 0,
   "metadata": {
    "colab": {},
    "colab_type": "code",
    "id": "ynXgqa-iiec9"
   },
   "outputs": [],
   "source": [
    "#!wget -nH -r -np -P ../database/ulmfit/model/ http://files.fast.ai/models/wt103/itos_wt103.pkl"
   ]
  },
  {
   "cell_type": "code",
   "execution_count": 0,
   "metadata": {
    "colab": {},
    "colab_type": "code",
    "id": "x7j1AhWJiedE"
   },
   "outputs": [],
   "source": [
    "em_sz, nh, nl = 400, 1150, 3"
   ]
  },
  {
   "cell_type": "code",
   "execution_count": 0,
   "metadata": {
    "colab": {},
    "colab_type": "code",
    "id": "wlRkaSXBiedJ"
   },
   "outputs": [],
   "source": [
    "PRE_PATH    = WIKITEX  + 'models/wt103/'\n",
    "PRE_LM_PATH = PRE_PATH + 'fwd_wt103.h5'"
   ]
  },
  {
   "cell_type": "code",
   "execution_count": 0,
   "metadata": {
    "colab": {},
    "colab_type": "code",
    "id": "VhghFIJBiedP"
   },
   "outputs": [],
   "source": [
    "wgts = torch.load(str(PRE_LM_PATH), map_location=lambda storage, loc: storage)"
   ]
  },
  {
   "cell_type": "code",
   "execution_count": 0,
   "metadata": {
    "colab": {},
    "colab_type": "code",
    "id": "Tp_198X5iedT"
   },
   "outputs": [],
   "source": [
    "enc_wgts = to_np(wgts['0.encoder.weight'])\n",
    "row_m    = enc_wgts.mean(0)"
   ]
  },
  {
   "cell_type": "code",
   "execution_count": 0,
   "metadata": {
    "colab": {},
    "colab_type": "code",
    "id": "E1PtfWYiiedZ"
   },
   "outputs": [],
   "source": [
    "itos2 = pickle.load(open(PRE_PATH + 'itos_wt103.pkl','rb'))\n",
    "stoi2 = collections.defaultdict(lambda:-1, {v:k for k,v in enumerate(itos2)})"
   ]
  },
  {
   "cell_type": "code",
   "execution_count": 0,
   "metadata": {
    "colab": {},
    "colab_type": "code",
    "id": "CcuOx4xhiede"
   },
   "outputs": [],
   "source": [
    "new_w = np.zeros((vs, em_sz), dtype=np.float32)\n",
    "\n",
    "c1 = 0\n",
    "c2 = 0\n",
    "for i,w in enumerate(itos):\n",
    "    r = stoi2[w]\n",
    "    \n",
    "    if r >= 0:\n",
    "      new_w[i] = enc_wgts[r]\n",
    "      c1+=1\n",
    "    else:\n",
    "      new_w[i] = row_m\n",
    "      c2+=1"
   ]
  },
  {
   "cell_type": "code",
   "execution_count": 91,
   "metadata": {
    "colab": {
     "base_uri": "https://localhost:8080/",
     "height": 52
    },
    "colab_type": "code",
    "id": "1Z0CJGabujZh",
    "outputId": "a9c21037-2949-4391-dbdd-c00072dc26d2"
   },
   "outputs": [
    {
     "name": "stdout",
     "output_type": "stream",
     "text": [
      "Número de palabras encontradas en el encoder    :  684\n",
      "Número de palabras no encontradas en el encoder :  559\n"
     ]
    }
   ],
   "source": [
    "print('Número de palabras encontradas en el encoder    : ', c1)\n",
    "print('Número de palabras no encontradas en el encoder : ', c2)"
   ]
  },
  {
   "cell_type": "code",
   "execution_count": 0,
   "metadata": {
    "colab": {},
    "colab_type": "code",
    "id": "dXrhTF9tiedi"
   },
   "outputs": [],
   "source": [
    "wgts['0.encoder.weight'] = T(new_w)\n",
    "wgts['0.encoder_with_dropout.embed.weight'] = T(np.copy(new_w))\n",
    "wgts['1.decoder.weight'] = T(np.copy(new_w))"
   ]
  },
  {
   "cell_type": "markdown",
   "metadata": {
    "colab_type": "text",
    "id": "3PB_Ebdriedv"
   },
   "source": [
    "## Training A new IMDB language model"
   ]
  },
  {
   "cell_type": "code",
   "execution_count": 0,
   "metadata": {
    "colab": {},
    "colab_type": "code",
    "id": "lFTvjpi4ied0"
   },
   "outputs": [],
   "source": [
    "wd=1e-7\n",
    "bptt=70\n",
    "bs=52\n",
    "opt_fn = partial(optim.Adam, betas=(0.8, 0.99))"
   ]
  },
  {
   "cell_type": "code",
   "execution_count": 0,
   "metadata": {
    "colab": {},
    "colab_type": "code",
    "id": "uWJ7w7eiied4"
   },
   "outputs": [],
   "source": [
    "ULMFIT_PATH = DATA_PATH + 'ulmfit/'\n",
    "TASS_PATH   = DATA_PATH + '/tass_model/'"
   ]
  },
  {
   "cell_type": "code",
   "execution_count": 0,
   "metadata": {
    "colab": {},
    "colab_type": "code",
    "id": "9pJTZJpeied9"
   },
   "outputs": [],
   "source": [
    "trn_dl = LanguageModelLoader(np.concatenate(train_ids), bs, bptt)\n",
    "val_dl = LanguageModelLoader(np.concatenate(test_ids), bs//4, bptt)\n",
    "md     = LanguageModelData(TASS_PATH, 1, vs, trn_dl, val_dl, bs=bs, bptt=bptt)"
   ]
  },
  {
   "cell_type": "code",
   "execution_count": 0,
   "metadata": {
    "colab": {},
    "colab_type": "code",
    "id": "v8BJ5WIlieeD"
   },
   "outputs": [],
   "source": [
    "drops = np.array([0.25, 0.1, 0.2, 0.02, 0.15])*0.7"
   ]
  },
  {
   "cell_type": "code",
   "execution_count": 0,
   "metadata": {
    "colab": {},
    "colab_type": "code",
    "id": "-Jv2m1f0ieeM"
   },
   "outputs": [],
   "source": [
    "learner= md.get_model(opt_fn, em_sz, nh, nl, dropouti=drops[0], dropout=drops[1], wdrop=drops[2], dropoute=drops[3], dropouth=drops[4])\n",
    "\n",
    "learner.metrics = [accuracy]\n",
    "learner.freeze_to(-1)"
   ]
  },
  {
   "cell_type": "code",
   "execution_count": 0,
   "metadata": {
    "colab": {},
    "colab_type": "code",
    "id": "XCt3pxN0ieeR"
   },
   "outputs": [],
   "source": [
    "learner.model.load_state_dict(wgts)"
   ]
  },
  {
   "cell_type": "code",
   "execution_count": 0,
   "metadata": {
    "colab": {},
    "colab_type": "code",
    "id": "wtTCLLrhieeT"
   },
   "outputs": [],
   "source": [
    "lr  = 1e-2\n",
    "lrs = lr"
   ]
  },
  {
   "cell_type": "markdown",
   "metadata": {
    "colab_type": "text",
    "id": "AyYU6IHeyviS"
   },
   "source": [
    "We set learning rates and fit our IMDB LM. We first run one epoch to tune the last layer which contains the embedding weights. This should help the missing tokens in the wikitext103 learn better weights."
   ]
  },
  {
   "cell_type": "code",
   "execution_count": 293,
   "metadata": {
    "colab": {
     "base_uri": "https://localhost:8080/",
     "height": 243
    },
    "colab_type": "code",
    "id": "UTHgZ_CLieeX",
    "outputId": "24f0b3b5-50f8-4d57-983f-c0ba4574ea9d"
   },
   "outputs": [
    {
     "data": {
      "application/vnd.jupyter.widget-view+json": {
       "model_id": "e077f074f6cf4affa242700743262548",
       "version_major": 2,
       "version_minor": 0
      },
      "text/plain": [
       "HBox(children=(IntProgress(value=0, description='Epoch', max=10, style=ProgressStyle(description_width='initia…"
      ]
     },
     "metadata": {
      "tags": []
     },
     "output_type": "display_data"
    },
    {
     "name": "stdout",
     "output_type": "stream",
     "text": [
      "epoch      trn_loss   val_loss   accuracy   \n",
      "    0      6.273668   6.228341   0.038562  \n",
      "    1      6.242661   5.984564   0.049896  \n",
      "    2      6.095892   5.716833   0.061627  \n",
      "    3      5.939519   5.506276   0.086764  \n",
      "    4      5.789856   5.445972   0.138161  \n",
      "    5      5.654947   5.481289   0.157729  \n",
      "    6      5.532014   5.467879   0.16426   \n",
      "    7      5.423908   5.448707   0.163462  \n",
      "    8      5.33299    5.446151   0.162824  \n",
      "    9      5.256924   5.448186   0.162073  \n"
     ]
    },
    {
     "data": {
      "text/plain": [
       "[array([5.44819]), 0.16207322147600153]"
      ]
     },
     "execution_count": 293,
     "metadata": {
      "tags": []
     },
     "output_type": "execute_result"
    }
   ],
   "source": [
    "learner.fit(lrs, 1 , wds=wd, use_clr=(32,2), cycle_len=10)"
   ]
  },
  {
   "cell_type": "code",
   "execution_count": 0,
   "metadata": {
    "colab": {},
    "colab_type": "code",
    "id": "hMgngB2Q1oWV"
   },
   "outputs": [],
   "source": [
    "learner.save(TASS_PATH + 'lm_last_ft')"
   ]
  },
  {
   "cell_type": "code",
   "execution_count": 0,
   "metadata": {
    "colab": {},
    "colab_type": "code",
    "id": "QZ0YTKSW1qET"
   },
   "outputs": [],
   "source": [
    "learner.load(TASS_PATH + 'lm_last_ft')"
   ]
  },
  {
   "cell_type": "code",
   "execution_count": 0,
   "metadata": {
    "colab": {},
    "colab_type": "code",
    "id": "3qhqW-fdih0R"
   },
   "outputs": [],
   "source": [
    "learner.unfreeze()"
   ]
  },
  {
   "cell_type": "code",
   "execution_count": 298,
   "metadata": {
    "colab": {
     "base_uri": "https://localhost:8080/",
     "height": 731
    },
    "colab_type": "code",
    "id": "sJExp5xqxihM",
    "outputId": "96907c78-e1a6-46fb-81bd-03f3628375f9"
   },
   "outputs": [
    {
     "data": {
      "application/vnd.jupyter.widget-view+json": {
       "model_id": "840420c79d8549d18f45b509d8b20a10",
       "version_major": 2,
       "version_minor": 0
      },
      "text/plain": [
       "HBox(children=(IntProgress(value=0, description='Epoch', max=51, style=ProgressStyle(description_width='initia…"
      ]
     },
     "metadata": {
      "tags": []
     },
     "output_type": "display_data"
    },
    {
     "name": "stdout",
     "output_type": "stream",
     "text": []
    },
    {
     "data": {
      "image/png": "[encoded data removed]",
      "text/plain": [
       "<Figure size 432x864 with 3 Axes>"
      ]
     },
     "metadata": {
      "tags": []
     },
     "output_type": "display_data"
    }
   ],
   "source": [
    "learner.lr_find2(start_lr=lrs/10, end_lr=lrs*10, num_it=100)\n",
    "learner.sched.plot()"
   ]
  },
  {
   "cell_type": "code",
   "execution_count": 301,
   "metadata": {
    "colab": {
     "base_uri": "https://localhost:8080/",
     "height": 590
    },
    "colab_type": "code",
    "id": "I3u-SWWq-TUW",
    "outputId": "5155e0f0-55c3-43e0-c098-d8da808376e8"
   },
   "outputs": [
    {
     "data": {
      "application/vnd.jupyter.widget-view+json": {
       "model_id": "f1bb160b6e9847f3a72806294f678efc",
       "version_major": 2,
       "version_minor": 0
      },
      "text/plain": [
       "HBox(children=(IntProgress(value=0, description='Epoch', max=30, style=ProgressStyle(description_width='initia…"
      ]
     },
     "metadata": {
      "tags": []
     },
     "output_type": "display_data"
    },
    {
     "name": "stdout",
     "output_type": "stream",
     "text": [
      "epoch      trn_loss   val_loss   accuracy   \n",
      "    0      2.407868   7.232825   0.117176  \n",
      "    1      2.440147   7.263969   0.121881  \n",
      "    2      2.385576   7.422978   0.127314  \n",
      "    3      2.36582    7.483007   0.122667  \n",
      "    4      2.342885   7.456886   0.115594  \n",
      "    5      2.314352   7.454492   0.117323  \n",
      "    6      2.268978   7.538301   0.123591  \n",
      "    7      2.249991   7.713232   0.115735  \n",
      "    8      2.213528   7.733872   0.116333  \n",
      "    9      2.218122   7.704105   0.115174  \n",
      "    10     2.180464   7.689431   0.114339  \n",
      "    11     2.144478   7.780492   0.115488  \n",
      "    12     2.115052   7.875275   0.118918  \n",
      "    13     2.085679   7.951004   0.114436  \n",
      "    14     2.055984   7.910011   0.111979  \n",
      "    15     2.028096   7.929762   0.110403  \n",
      "    16     2.005655   7.998807   0.111486  \n",
      "    17     1.977586   8.010865   0.111814  \n",
      "    18     1.952104   8.095935   0.108648  \n",
      "    19     1.934271   8.085641   0.110679  \n",
      "    20     1.911298   8.108245   0.114583  \n",
      "    21     1.89256    8.190028   0.109956  \n",
      "    22     1.882498   8.207322   0.110636  \n",
      "    23     1.863238   8.167265   0.110121  \n",
      "    24     1.847418   8.17056    0.109483  \n",
      "    25     1.834398   8.187286   0.106256  \n",
      "    26     1.816891   8.184375   0.106883  \n",
      "    27     1.807241   8.218111   0.105717  \n",
      "    28     1.79361    8.248941   0.105371  \n",
      "    29     1.776837   8.196873   0.109575  \n"
     ]
    },
    {
     "data": {
      "text/plain": [
       "[array([8.19687]), 0.10957532094713922]"
      ]
     },
     "execution_count": 301,
     "metadata": {
      "tags": []
     },
     "output_type": "execute_result"
    }
   ],
   "source": [
    "learner.fit(lrs/10, 1, wds=wd, use_clr=(20,10), cycle_len=30, best_save_name=TASS_PATH + 'lm1')"
   ]
  },
  {
   "cell_type": "code",
   "execution_count": 0,
   "metadata": {
    "colab": {},
    "colab_type": "code",
    "id": "tkiHMFNu-bRk"
   },
   "outputs": [],
   "source": [
    "#learner.save(TASS_PATH+'lm1')\n",
    "#learner.save_encoder(TASS_PATH+'lm1_enc')\n",
    "\n",
    "learner.load(TASS_PATH +'lm1')\n",
    "learner.save_encoder(TASS_PATH +'lm1_enc')"
   ]
  },
  {
   "cell_type": "code",
   "execution_count": 303,
   "metadata": {
    "colab": {
     "base_uri": "https://localhost:8080/",
     "height": 347
    },
    "colab_type": "code",
    "id": "Un4dBtEB-lhn",
    "outputId": "6f9b7e8f-b7a1-4879-ed3e-1dcbe7c638d6"
   },
   "outputs": [
    {
     "data": {
      "image/png": "[encoded data removed]",
      "text/plain": [
       "<Figure size 576x396 with 1 Axes>"
      ]
     },
     "metadata": {
      "tags": []
     },
     "output_type": "display_data"
    }
   ],
   "source": [
    "learner.sched.plot_loss()"
   ]
  },
  {
   "cell_type": "markdown",
   "metadata": {
    "colab_type": "text",
    "id": "i6SfE8Rd26uh"
   },
   "source": [
    "## Clasifier"
   ]
  },
  {
   "cell_type": "code",
   "execution_count": 0,
   "metadata": {
    "colab": {},
    "colab_type": "code",
    "id": "4LCiOSp7_g2z"
   },
   "outputs": [],
   "source": [
    "train_labels = np.squeeze(np.load(DATA_PATH + 'ulmfit/tmp/train_labels.npy'))\n",
    "test_labels  = np.squeeze(np.load(DATA_PATH + 'ulmfit/tmp/test_labels.npy'))"
   ]
  },
  {
   "cell_type": "code",
   "execution_count": 0,
   "metadata": {
    "colab": {},
    "colab_type": "code",
    "id": "_wYipWHb_y6b"
   },
   "outputs": [],
   "source": [
    "bptt,em_sz,nh,nl = 70,400,1150,3\n",
    "vs = len(itos)\n",
    "opt_fn = partial(optim.Adam, betas=(0.8, 0.99))\n",
    "bs = 48"
   ]
  },
  {
   "cell_type": "code",
   "execution_count": 306,
   "metadata": {
    "colab": {
     "base_uri": "https://localhost:8080/",
     "height": 52
    },
    "colab_type": "code",
    "id": "XFOkjB6E_5cT",
    "outputId": "6dab0752-8e3d-4b6d-decb-bb3f4044c632"
   },
   "outputs": [
    {
     "name": "stdout",
     "output_type": "stream",
     "text": [
      "0\n",
      "True\n"
     ]
    }
   ],
   "source": [
    "min_lbl = train_labels.min()\n",
    "print(min_lbl)\n",
    "c=int(train_labels.max())+1\n",
    "print(c == 2)"
   ]
  },
  {
   "cell_type": "code",
   "execution_count": 307,
   "metadata": {
    "colab": {
     "base_uri": "https://localhost:8080/",
     "height": 34
    },
    "colab_type": "code",
    "id": "yN8uQHcKWPgu",
    "outputId": "171678a2-bcf0-4040-8d2a-86a375437cc7"
   },
   "outputs": [
    {
     "data": {
      "text/plain": [
       "(736, 736, 375, 375)"
      ]
     },
     "execution_count": 307,
     "metadata": {
      "tags": []
     },
     "output_type": "execute_result"
    }
   ],
   "source": [
    "len(train_ids), len(train_labels), len(test_ids), len(test_labels)"
   ]
  },
  {
   "cell_type": "code",
   "execution_count": 0,
   "metadata": {
    "colab": {},
    "colab_type": "code",
    "id": "e-m3GWJqAa20"
   },
   "outputs": [],
   "source": [
    "trn_ds   = TextDataset(train_ids, train_labels)\n",
    "val_ds   = TextDataset(test_ids, test_labels)\n",
    "\n",
    "trn_samp = SortishSampler(train_ids, key=lambda x: len(train_ids[x]), bs=bs//2)\n",
    "val_samp = SortSampler(test_ids, key=lambda x: len(test_ids[x]))\n",
    "\n",
    "trn_dl   = DataLoader(trn_ds, bs//2, transpose=True, num_workers=1, pad_idx=1, sampler=trn_samp)\n",
    "val_dl   = DataLoader(val_ds, bs, transpose=True, num_workers=1, pad_idx=1, sampler=val_samp)\n",
    "\n",
    "md       = ModelData(ULMFIT_PATH, trn_dl, trn_dl)"
   ]
  },
  {
   "cell_type": "code",
   "execution_count": 0,
   "metadata": {
    "colab": {},
    "colab_type": "code",
    "id": "KgliSJbTBDjv"
   },
   "outputs": [],
   "source": [
    "dps = np.array([0.4,0.5,0.05,0.3,0.1])"
   ]
  },
  {
   "cell_type": "code",
   "execution_count": 0,
   "metadata": {
    "colab": {},
    "colab_type": "code",
    "id": "81IwE04cCHC8"
   },
   "outputs": [],
   "source": [
    "def get_rnn_classifier(bptt, max_seq, n_class, n_tok, emb_sz, n_hid, n_layers, pad_token, layers, drops, bidir=False,\n",
    "                       dropouth=0.3, dropouti=0.5, dropoute=0.1, wdrop=0.5):\n",
    "  \n",
    "  rnn_enc = MultiBatchRNN(bptt, max_seq, n_tok, emb_sz, n_hid, n_layers, pad_token=pad_token, bidir=bidir,\n",
    "                          dropouth=dropouth, dropouti=dropouti, dropoute=dropoute, wdrop=wdrop)\n",
    "  \n",
    "  return SequentialRNN(rnn_enc, PoolingLinearClassifier(layers, drops))"
   ]
  },
  {
   "cell_type": "code",
   "execution_count": 0,
   "metadata": {
    "colab": {},
    "colab_type": "code",
    "id": "g14tzfpVBDm3"
   },
   "outputs": [],
   "source": [
    "m = get_rnn_classifier(bptt, 20*70, c, vs, emb_sz=em_sz, n_hid=nh, n_layers=nl, pad_token=1,\n",
    "          layers=[em_sz*3, 50, c], drops=[dps[4], 0.1],\n",
    "          dropouti=dps[0], wdrop=dps[1], dropoute=dps[2], dropouth=dps[3])"
   ]
  },
  {
   "cell_type": "code",
   "execution_count": 0,
   "metadata": {
    "colab": {},
    "colab_type": "code",
    "id": "zkYfrRh9BDpy"
   },
   "outputs": [],
   "source": [
    "opt_fn = partial(optim.Adam, betas=(0.7, 0.99))"
   ]
  },
  {
   "cell_type": "code",
   "execution_count": 0,
   "metadata": {
    "colab": {},
    "colab_type": "code",
    "id": "lgeslpMSBr9y"
   },
   "outputs": [],
   "source": [
    "learn = RNN_Learner(md, TextModel(to_gpu(m)), opt_fn=opt_fn)\n",
    "learn.reg_fn = partial(seq2seq_reg, alpha=2, beta=1)\n",
    "learn.clip= .25\n",
    "learn.metrics = [accuracy]"
   ]
  },
  {
   "cell_type": "code",
   "execution_count": 0,
   "metadata": {
    "colab": {},
    "colab_type": "code",
    "id": "mVSz7IoVBukx"
   },
   "outputs": [],
   "source": [
    "lr  = 1e-4\n",
    "lrm = 2.6\n",
    "lrs = np.array([lr/(lrm**4), lr/(lrm**3), lr/(lrm**2), lr/lrm, lr])"
   ]
  },
  {
   "cell_type": "code",
   "execution_count": 0,
   "metadata": {
    "colab": {},
    "colab_type": "code",
    "id": "svvxesOfDK43"
   },
   "outputs": [],
   "source": [
    "lrs=np.array([1e-4,1e-4,1e-4,1e-3,1e-2])"
   ]
  },
  {
   "cell_type": "code",
   "execution_count": 0,
   "metadata": {
    "colab": {},
    "colab_type": "code",
    "id": "PdO4MIZDDO7d"
   },
   "outputs": [],
   "source": [
    "wd = 1e-3\n",
    "learn.load_encoder(TASS_PATH + 'lm1_enc')"
   ]
  },
  {
   "cell_type": "code",
   "execution_count": 0,
   "metadata": {
    "colab": {},
    "colab_type": "code",
    "id": "Qu0aC0_ADQ4U"
   },
   "outputs": [],
   "source": [
    "learn.freeze_to(-1)"
   ]
  },
  {
   "cell_type": "code",
   "execution_count": 318,
   "metadata": {
    "colab": {
     "base_uri": "https://localhost:8080/",
     "height": 86
    },
    "colab_type": "code",
    "id": "I4FWdY5XDX97",
    "outputId": "a6b4448a-ef34-47c5-c60e-a0738498c5b0"
   },
   "outputs": [
    {
     "data": {
      "application/vnd.jupyter.widget-view+json": {
       "model_id": "f1df1b6d0c8f4064853ddbbb5298b816",
       "version_major": 2,
       "version_minor": 0
      },
      "text/plain": [
       "HBox(children=(IntProgress(value=0, description='Epoch', max=1, style=ProgressStyle(description_width='initial…"
      ]
     },
     "metadata": {
      "tags": []
     },
     "output_type": "display_data"
    },
    {
     "name": "stdout",
     "output_type": "stream",
     "text": [
      "epoch      trn_loss   val_loss   accuracy   \n",
      "    0      0.703263   0.698546   0.531017  \n"
     ]
    },
    {
     "data": {
      "text/plain": [
       "[array([0.69855]), 0.5310167919899991]"
      ]
     },
     "execution_count": 318,
     "metadata": {
      "tags": []
     },
     "output_type": "execute_result"
    }
   ],
   "source": [
    "learn.fit(lrs, 1, wds=wd, cycle_len=1, use_clr=(8,3))"
   ]
  },
  {
   "cell_type": "code",
   "execution_count": 0,
   "metadata": {
    "colab": {},
    "colab_type": "code",
    "id": "PCbWSvmvOKi7"
   },
   "outputs": [],
   "source": [
    "learn.save(TASS_PATH + 'clas2_0')"
   ]
  },
  {
   "cell_type": "code",
   "execution_count": 0,
   "metadata": {
    "colab": {},
    "colab_type": "code",
    "id": "-hGDeJtlOL8e"
   },
   "outputs": [],
   "source": [
    "learn.load(TASS_PATH + 'clas2_0')"
   ]
  },
  {
   "cell_type": "code",
   "execution_count": 0,
   "metadata": {
    "colab": {},
    "colab_type": "code",
    "id": "JmoKmEHKDcsR"
   },
   "outputs": [],
   "source": [
    "learn.freeze_to(-2)"
   ]
  },
  {
   "cell_type": "code",
   "execution_count": 322,
   "metadata": {
    "colab": {
     "base_uri": "https://localhost:8080/",
     "height": 86
    },
    "colab_type": "code",
    "id": "Ge5ErmgADw8a",
    "outputId": "5fe70726-4f4e-4b1e-ff1c-74dbe6d5b4b5"
   },
   "outputs": [
    {
     "data": {
      "application/vnd.jupyter.widget-view+json": {
       "model_id": "d6df543d95004ebaba8914fdef350953",
       "version_major": 2,
       "version_minor": 0
      },
      "text/plain": [
       "HBox(children=(IntProgress(value=0, description='Epoch', max=1, style=ProgressStyle(description_width='initial…"
      ]
     },
     "metadata": {
      "tags": []
     },
     "output_type": "display_data"
    },
    {
     "name": "stdout",
     "output_type": "stream",
     "text": [
      "epoch      trn_loss   val_loss   accuracy   \n",
      "    0      0.663262   0.675816   0.571742  \n"
     ]
    },
    {
     "data": {
      "text/plain": [
       "[array([0.67582]), 0.5717418527132586]"
      ]
     },
     "execution_count": 322,
     "metadata": {
      "tags": []
     },
     "output_type": "execute_result"
    }
   ],
   "source": [
    "learn.fit(lrs, 1, wds=wd, cycle_len=1, use_clr=(8,3))"
   ]
  },
  {
   "cell_type": "code",
   "execution_count": 0,
   "metadata": {
    "colab": {},
    "colab_type": "code",
    "id": "OLc_4VToPJbu"
   },
   "outputs": [],
   "source": [
    "learn.save(TASS_PATH + 'clas2_1')"
   ]
  },
  {
   "cell_type": "code",
   "execution_count": 0,
   "metadata": {
    "colab": {},
    "colab_type": "code",
    "id": "NJogOQ69PQ0F"
   },
   "outputs": [],
   "source": [
    "learn.load(TASS_PATH + 'clas2_1')"
   ]
  },
  {
   "cell_type": "code",
   "execution_count": 0,
   "metadata": {
    "colab": {},
    "colab_type": "code",
    "id": "LiUQH46LDyUl"
   },
   "outputs": [],
   "source": [
    "learn.unfreeze()"
   ]
  },
  {
   "cell_type": "code",
   "execution_count": 326,
   "metadata": {
    "colab": {
     "base_uri": "https://localhost:8080/",
     "height": 590
    },
    "colab_type": "code",
    "id": "gTQ38y_QD0lr",
    "outputId": "7328dd8a-b05e-427a-ba12-ea316e9415f0"
   },
   "outputs": [
    {
     "data": {
      "application/vnd.jupyter.widget-view+json": {
       "model_id": "a4acda36ee4449e0b9765b69f35b813e",
       "version_major": 2,
       "version_minor": 0
      },
      "text/plain": [
       "HBox(children=(IntProgress(value=0, description='Epoch', max=30, style=ProgressStyle(description_width='initia…"
      ]
     },
     "metadata": {
      "tags": []
     },
     "output_type": "display_data"
    },
    {
     "name": "stdout",
     "output_type": "stream",
     "text": [
      "epoch      trn_loss   val_loss   accuracy   \n",
      "    0      0.663653   0.64159    0.607353  \n",
      "    1      0.658571   0.654972   0.618451  \n",
      "    2      0.671852   0.647021   0.664052  \n",
      "    3      0.672044   0.639192   0.611264  \n",
      "    4      0.665099   0.66602    0.601743  \n",
      "    5      0.6715     0.618399   0.666443  \n",
      "    6      0.657344   0.603699   0.681763  \n",
      "    7      0.646846   0.602369   0.683556  \n",
      "    8      0.645797   0.594193   0.697575  \n",
      "    9      0.649526   0.580844   0.708643  \n",
      "    10     0.649042   0.576127   0.730101  \n",
      "    11     0.642764   0.549882   0.740568  \n",
      "    12     0.644475   0.566977   0.757417  \n",
      "    13     0.629389   0.527899   0.766922  \n",
      "    14     0.631358   0.548857   0.739602  \n",
      "    15     0.625258   0.534043   0.773655  \n",
      "    16     0.609334   0.530474   0.742601  \n",
      "    17     0.601966   0.52727    0.738847  \n",
      "    18     0.589009   0.478197   0.788392  \n",
      "    19     0.597475   0.543863   0.733252  \n",
      "    20     0.593334   0.513201   0.771469  \n",
      "    21     0.59535    0.526002   0.74747   \n",
      "    22     0.596552   0.464382   0.800399  \n",
      "    23     0.598759   0.463809   0.813852  \n",
      "    24     0.597943   0.478311   0.809065  \n",
      "    25     0.594146   0.466814   0.803475  \n",
      "    26     0.585519   0.468751   0.821589  \n",
      "    27     0.568823   0.453036   0.818874  \n",
      "    28     0.57333    0.450952   0.816198  \n",
      "    29     0.57022    0.45406    0.804255  \n"
     ]
    },
    {
     "data": {
      "text/plain": [
       "[array([0.45406]), 0.8042550065913385]"
      ]
     },
     "execution_count": 326,
     "metadata": {
      "tags": []
     },
     "output_type": "execute_result"
    }
   ],
   "source": [
    "learn.fit(lrs, 1, wds=wd, cycle_len=30, use_clr=(32,10), best_save_name=TASS_PATH + 'clas2')"
   ]
  },
  {
   "cell_type": "code",
   "execution_count": 327,
   "metadata": {
    "colab": {
     "base_uri": "https://localhost:8080/",
     "height": 347
    },
    "colab_type": "code",
    "id": "4-lh9oEUD2DS",
    "outputId": "6a12a1d3-e905-4c2e-f60f-e67b6d6bb2a0"
   },
   "outputs": [
    {
     "data": {
      "image/png": "[encoded data removed]",
      "text/plain": [
       "<Figure size 576x396 with 1 Axes>"
      ]
     },
     "metadata": {
      "tags": []
     },
     "output_type": "display_data"
    }
   ],
   "source": [
    "learn.sched.plot_loss()"
   ]
  },
  {
   "cell_type": "code",
   "execution_count": 0,
   "metadata": {
    "colab": {},
    "colab_type": "code",
    "id": "ZAR0SYdLhsAJ"
   },
   "outputs": [],
   "source": [
    "learn2 = RNN_Learner(md, TextModel(to_gpu(m)), opt_fn=opt_fn)\n",
    "learn2.reg_fn = partial(seq2seq_reg, alpha=2, beta=1)\n",
    "learn2.clip=.12\n",
    "learn2.metrics = [accuracy]\n",
    "\n",
    "learn2.load(TASS_PATH + 'clas2')\n",
    "mev = learn2.model\n",
    "mev[0].bs=1"
   ]
  },
  {
   "cell_type": "code",
   "execution_count": 330,
   "metadata": {
    "colab": {
     "base_uri": "https://localhost:8080/",
     "height": 34
    },
    "colab_type": "code",
    "id": "sRvhzD1C-P7K",
    "outputId": "32425256-3d47-49a5-9c94-b674398cfcae"
   },
   "outputs": [
    {
     "name": "stdout",
     "output_type": "stream",
     "text": [
      "Train Accuracy =  82.7445652173913\n"
     ]
    }
   ],
   "source": [
    "c = 0\n",
    "\n",
    "train_ids_f = np.copy(train_ids)\n",
    "\n",
    "for i in range(len(train_ids_f)):\n",
    "  mev.eval()\n",
    "  mev.reset()\n",
    "  input_seq = np.array(train_ids_f[i]).reshape(-1,1)\n",
    "  p = mev(VV(input_seq))\n",
    " \n",
    "  if (to_np(torch.topk(p[0],1)[1])[0][0] == train_labels[i]):\n",
    "    c+=1\n",
    "\n",
    "print('Train Accuracy = ', 100*c / len(train_ids_f))"
   ]
  },
  {
   "cell_type": "code",
   "execution_count": 331,
   "metadata": {
    "colab": {
     "base_uri": "https://localhost:8080/",
     "height": 34
    },
    "colab_type": "code",
    "id": "d7wWd6hc_CoV",
    "outputId": "2b3b08b1-9d03-4c61-cd4f-a9cba6c14d3a"
   },
   "outputs": [
    {
     "name": "stdout",
     "output_type": "stream",
     "text": [
      "Test Accuracy =  62.4\n"
     ]
    }
   ],
   "source": [
    "c = 0\n",
    "\n",
    "test_ids_f = np.copy(test_ids)\n",
    "\n",
    "for i in range(len(test_ids_f)):\n",
    "  mev.eval()\n",
    "  mev.reset()\n",
    "  input_seq = np.array(test_ids_f[i]).reshape(-1,1)\n",
    "  p = mev(VV(input_seq))\n",
    " \n",
    "  if (to_np(torch.topk(p[0],1)[1])[0][0] == test_labels[i]):\n",
    "    c+=1\n",
    "\n",
    "print('Test Accuracy = ', 100*c / len(test_ids_f))"
   ]
  },
  {
   "cell_type": "code",
   "execution_count": 0,
   "metadata": {
    "colab": {},
    "colab_type": "code",
    "id": "13-76Jts_zWs"
   },
   "outputs": [],
   "source": []
  }
 ],
 "metadata": {
  "accelerator": "GPU",
  "colab": {
   "collapsed_sections": [],
   "name": "ULMFit.ipynb",
   "provenance": [],
   "version": "0.3.2"
  },
  "kernelspec": {
   "display_name": "Python 3",
   "language": "python",
   "name": "python3"
  },
  "language_info": {
   "codemirror_mode": {
    "name": "ipython",
    "version": 3
   },
   "file_extension": ".py",
   "mimetype": "text/x-python",
   "name": "python",
   "nbconvert_exporter": "python",
   "pygments_lexer": "ipython3",
   "version": "3.6.7"
  }
 },
 "nbformat": 4,
 "nbformat_minor": 1
}
