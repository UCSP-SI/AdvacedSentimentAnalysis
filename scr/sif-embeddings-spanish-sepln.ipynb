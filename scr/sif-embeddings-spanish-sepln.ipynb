{
 "cells": [
  {
   "cell_type": "code",
   "execution_count": 5,
   "metadata": {},
   "outputs": [],
   "source": [
    "from __future__ import division, print_function\n",
    "\n",
    "import lib.xmlreader as xml\n",
    "import lib.utils as ut\n",
    "import numpy as np\n",
    "\n",
    "import gensim.models.word2vec\n",
    "import itertools\n",
    "from collections import Counter\n",
    "from nltk.tokenize import word_tokenize\n",
    "\n",
    "import re\n",
    "from nltk.corpus import stopwords\n",
    "from nltk.stem import SnowballStemmer\n",
    "from string import punctuation\n",
    "\n",
    "from sklearn.decomposition import TruncatedSVD\n",
    "from sklearn.feature_extraction.text import CountVectorizer\n",
    "from sklearn.metrics import accuracy_score, confusion_matrix, classification_report\n",
    "from sklearn.model_selection import KFold\n",
    "import collections\n",
    "import numpy as np\n",
    "import matplotlib.pyplot as plt\n",
    "import operator\n",
    "import os\n",
    "%matplotlib inline"
   ]
  },
  {
   "cell_type": "code",
   "execution_count": 6,
   "metadata": {},
   "outputs": [],
   "source": [
    "train_docs= xml.readXML(\"../database/TASS/TASS2017/task1-Training.xml\")\n",
    "#len(train_docs)"
   ]
  },
  {
   "cell_type": "code",
   "execution_count": 7,
   "metadata": {},
   "outputs": [],
   "source": [
    "test_docs= xml.readXML(\"../database/TASS/TASS2017/task1-Development.xml\")\n",
    "# train_docs = train_docs[0:700]\n",
    "# test_docs = train_docs[-300:]"
   ]
  },
  {
   "cell_type": "code",
   "execution_count": 8,
   "metadata": {},
   "outputs": [],
   "source": [
    "corpus = []\n",
    "for doc in train_docs + test_docs:\n",
    "    corpus.append(doc.content)"
   ]
  },
  {
   "cell_type": "code",
   "execution_count": 9,
   "metadata": {},
   "outputs": [],
   "source": [
    "tokenized_train_docs = []\n",
    "for doc in train_docs:\n",
    "    tokenized_train_docs.append(ut.tokenize(doc.content, doc.polarity))\n",
    "    \n",
    "tokenized_test_docs = []\n",
    "for doc in test_docs:\n",
    "    tokenized_test_docs.append(ut.tokenize(doc.content, doc.polarity))"
   ]
  },
  {
   "cell_type": "code",
   "execution_count": 10,
   "metadata": {},
   "outputs": [],
   "source": [
    "train_tweets = []\n",
    "train_labels = []\n",
    "for tweet in tokenized_train_docs:\n",
    "    train_tweets.append(tweet['words'])\n",
    "    train_labels.append(tweet['class'])\n",
    "\n",
    "train_tweets = np.array(train_tweets)\n",
    "train_labels = np.array(train_labels)\n",
    "\n",
    "# train_tweets, test_tweets, train_labels, test_labels = ut.crossValidation2(tweets, labels, 3)"
   ]
  },
  {
   "cell_type": "code",
   "execution_count": 11,
   "metadata": {},
   "outputs": [],
   "source": [
    "test_tweets = []\n",
    "test_labels = []\n",
    "for tweet in tokenized_test_docs:\n",
    "    test_tweets.append(tweet['words'])\n",
    "    test_labels.append(tweet['class'])\n",
    "\n",
    "test_tweets = np.array(test_tweets)\n",
    "test_labels = np.array(test_labels)"
   ]
  },
  {
   "cell_type": "code",
   "execution_count": 12,
   "metadata": {},
   "outputs": [],
   "source": [
    "def CountFrequency(sentences): \n",
    "  \n",
    "    # Creating an empty dictionary  \n",
    "    freq = {} \n",
    "    for s in sentence:\n",
    "        for item in my_list: \n",
    "            if (item in freq): \n",
    "                freq[item] += 1\n",
    "            else: \n",
    "                freq[item] = 1\n",
    "                \n",
    "  \n",
    "    for key, value in freq.items(): \n",
    "        print (\"% d : % d\"%(key, value)) \n",
    "        \n",
    "    return freq"
   ]
  },
  {
   "cell_type": "code",
   "execution_count": 13,
   "metadata": {},
   "outputs": [],
   "source": [
    "def map_word_frequency(list_of_words):\n",
    "    return Counter(itertools.chain(*list_of_words))"
   ]
  },
  {
   "cell_type": "code",
   "execution_count": 14,
   "metadata": {},
   "outputs": [],
   "source": [
    "word_counts = map_word_frequency(np.concatenate([train_tweets, test_tweets]))"
   ]
  },
  {
   "cell_type": "code",
   "execution_count": 15,
   "metadata": {},
   "outputs": [
    {
     "data": {
      "text/plain": [
       "(736,)"
      ]
     },
     "execution_count": 15,
     "metadata": {},
     "output_type": "execute_result"
    }
   ],
   "source": [
    "train_labels.shape"
   ]
  },
  {
   "cell_type": "code",
   "execution_count": 16,
   "metadata": {},
   "outputs": [],
   "source": [
    "def gensim_load_vec(path=\"data/SBW-vectors-300-min5.bin\"):\n",
    "    #use gensim_emb.wv.index2word if used this way to load vectors\n",
    "    #gensim_emb = gensim.models.word2vec.Word2Vec.load(path)\n",
    "    gensim_emb =  gensim.models.KeyedVectors.load_word2vec_format(path, binary=True)\n",
    "    vocab = gensim_emb.index2word\n",
    "    vec = gensim_emb.syn0\n",
    "    shape = gensim_emb.syn0.shape\n",
    "    return gensim_emb, vec, shape, vocab"
   ]
  },
  {
   "cell_type": "code",
   "execution_count": 17,
   "metadata": {},
   "outputs": [
    {
     "name": "stderr",
     "output_type": "stream",
     "text": [
      "/home/jose/.local/lib/python3.6/site-packages/ipykernel_launcher.py:6: DeprecationWarning: Call to deprecated `syn0` (Attribute will be removed in 4.0.0, use self.vectors instead).\n",
      "  \n",
      "/home/jose/.local/lib/python3.6/site-packages/ipykernel_launcher.py:7: DeprecationWarning: Call to deprecated `syn0` (Attribute will be removed in 4.0.0, use self.vectors instead).\n",
      "  import sys\n"
     ]
    }
   ],
   "source": [
    "gensim_emb, vec, shape, vocab = gensim_load_vec(\"../database/embeddings/SBW-vectors-300-min5.bin\")"
   ]
  },
  {
   "cell_type": "code",
   "execution_count": null,
   "metadata": {},
   "outputs": [],
   "source": [
    "# sent_emb = sentence2vec(sent_list,300,gensim_emb)"
   ]
  },
  {
   "cell_type": "code",
   "execution_count": null,
   "metadata": {},
   "outputs": [],
   "source": []
  },
  {
   "cell_type": "markdown",
   "metadata": {},
   "source": [
    "## Estimate Vocabulary Size"
   ]
  },
  {
   "cell_type": "code",
   "execution_count": 18,
   "metadata": {},
   "outputs": [],
   "source": [
    "counter = CountVectorizer(strip_accents=\"unicode\")"
   ]
  },
  {
   "cell_type": "code",
   "execution_count": 19,
   "metadata": {},
   "outputs": [
    {
     "name": "stdout",
     "output_type": "stream",
     "text": [
      "(1111, 5081)\n"
     ]
    }
   ],
   "source": [
    "X = counter.fit_transform(corpus)\n",
    "print(X.shape)"
   ]
  },
  {
   "cell_type": "code",
   "execution_count": 20,
   "metadata": {},
   "outputs": [
    {
     "data": {
      "text/plain": [
       "Text(0.5, 0, 'words')"
      ]
     },
     "execution_count": 20,
     "metadata": {},
     "output_type": "execute_result"
    },
    {
     "data": {
      "image/png": "[encoded data removed]",
      "text/plain": [
       "<Figure size 432x288 with 1 Axes>"
      ]
     },
     "metadata": {
      "needs_background": "light"
     },
     "output_type": "display_data"
    }
   ],
   "source": [
    "counts = np.sum(X, axis=0).tolist()\n",
    "counts = sorted(counts[0], reverse=True)\n",
    "plt.plot(np.arange(len(counts)), counts)\n",
    "plt.title(\"word count distribution in corpus\")\n",
    "plt.ylabel(\"counts\")\n",
    "plt.xlabel(\"words\")"
   ]
  },
  {
   "cell_type": "markdown",
   "metadata": {},
   "source": [
    "## Compute Baseline Embedding (BoW)\n",
    "\n",
    "<a href=\"https://www.codecogs.com/eqnedit.php?latex=v_s&space;=&space;\\frac{1}{\\left&space;\\|&space;S&space;\\right&space;\\|}&space;\\sum_{w&space;\\in&space;S}&space;v_w\" target=\"_blank\"><img src=\"https://latex.codecogs.com/gif.latex?v_s&space;=&space;\\frac{1}{\\left&space;\\|&space;S&space;\\right&space;\\|}&space;\\sum_{w&space;\\in&space;S}&space;v_w\" title=\"v_s = \\frac{1}{\\left \\| S \\right \\|} \\sum_{w \\in S} v_w\" /></a>"
   ]
  },
  {
   "cell_type": "code",
   "execution_count": 21,
   "metadata": {},
   "outputs": [
    {
     "name": "stdout",
     "output_type": "stream",
     "text": [
      "(1111, 5081)\n"
     ]
    }
   ],
   "source": [
    "# VOCAB_SIZE = 5877\n",
    "# VOCAB_SIZE = 3313\n",
    "VOCAB_SIZE = X.shape[1]\n",
    "# counter = CountVectorizer(strip_accents=\"unicode\", max_features=VOCAB_SIZE)\n",
    "counter = CountVectorizer(max_features=VOCAB_SIZE)\n",
    "\n",
    "caption_texts = corpus\n",
    "Xc = counter.fit_transform(caption_texts).todense().astype(\"float\")\n",
    "print(Xc.shape)"
   ]
  },
  {
   "cell_type": "code",
   "execution_count": 22,
   "metadata": {},
   "outputs": [
    {
     "name": "stdout",
     "output_type": "stream",
     "text": [
      "(1111, 1)\n"
     ]
    }
   ],
   "source": [
    "sent_lens = np.sum(Xc, axis=1).astype(\"float\")\n",
    "sent_lens[sent_lens == 0] = 1e-14\n",
    "print(sent_lens.shape)"
   ]
  },
  {
   "cell_type": "code",
   "execution_count": 23,
   "metadata": {},
   "outputs": [
    {
     "name": "stdout",
     "output_type": "stream",
     "text": [
      "(5081, 300)\n"
     ]
    }
   ],
   "source": [
    "E = np.zeros((VOCAB_SIZE, 300))\n",
    "for word in list(counter.vocabulary_.keys()):\n",
    "    try:\n",
    "        i = counter.vocabulary_[word]\n",
    "        E[i] = gensim_emb[word]\n",
    "    except KeyError:\n",
    "        pass\n",
    "print(E.shape)"
   ]
  },
  {
   "cell_type": "code",
   "execution_count": 24,
   "metadata": {},
   "outputs": [
    {
     "name": "stdout",
     "output_type": "stream",
     "text": [
      "(1111, 300)\n"
     ]
    }
   ],
   "source": [
    "Xb = np.divide(np.dot(Xc, E), sent_lens)\n",
    "print(Xb.shape)"
   ]
  },
  {
   "cell_type": "code",
   "execution_count": 25,
   "metadata": {},
   "outputs": [
    {
     "name": "stdout",
     "output_type": "stream",
     "text": [
      "(736, 300) (736,) (375, 300) (375,)\n"
     ]
    }
   ],
   "source": [
    "Xtrain, Xtest = Xb[0:len(train_docs)], Xb[-len(test_docs):]\n",
    "ytrain, ytest = np.array(train_labels), np.array(test_labels)\n",
    "print(Xtrain.shape, ytrain.shape, Xtest.shape, ytest.shape)"
   ]
  },
  {
   "cell_type": "code",
   "execution_count": 26,
   "metadata": {},
   "outputs": [],
   "source": [
    "def cross_val(Xtrain, ytrain, clf):\n",
    "    best_clf = None\n",
    "    best_score = 0.0\n",
    "    num_folds = 0\n",
    "    \n",
    "    cv_scores = []\n",
    "    kfold = KFold(n_splits=10)\n",
    "    \n",
    "    for train, val in kfold.split(Xtrain):\n",
    "        Xctrain, Xctest, yctrain, yctest = Xtrain[train], Xtrain[val], ytrain[train], ytrain[val]\n",
    "        clf.fit(Xctrain, yctrain)\n",
    "        score = clf.score(Xctest, yctest)\n",
    "        if score > best_score:\n",
    "            best_score = score\n",
    "            best_clf = clf\n",
    "        print(\"fold {:d}, score: {:.3f}\".format(num_folds, score))\n",
    "        cv_scores.append(score)\n",
    "        num_folds += 1\n",
    "    return best_clf, cv_scores\n",
    "    \n",
    "\n",
    "def test_eval(Xtest, ytest, clf):\n",
    "    print(\"===\")\n",
    "    print(\"Test set results\")\n",
    "    ytest_ = clf.predict(Xtest)\n",
    "    accuracy = accuracy_score(ytest, ytest_)\n",
    "    print(\"Accuracy: {:.3f}\".format(accuracy))\n",
    "    print(\"---\")\n",
    "    print(\"Confusion Matrix\")\n",
    "    cm = confusion_matrix(ytest, ytest_)\n",
    "    print(cm)\n",
    "    print(\"---\")\n",
    "    print(\"Classification Report\")\n",
    "    cr = classification_report(ytest, ytest_)\n",
    "    print(cr)"
   ]
  },
  {
   "cell_type": "code",
   "execution_count": 27,
   "metadata": {},
   "outputs": [
    {
     "name": "stdout",
     "output_type": "stream",
     "text": [
      "fold 0, score: 0.635\n",
      "fold 1, score: 0.649\n",
      "fold 2, score: 0.757\n",
      "fold 3, score: 0.730\n",
      "fold 4, score: 0.757\n",
      "fold 5, score: 0.770\n",
      "fold 6, score: 0.712\n",
      "fold 7, score: 0.726\n",
      "fold 8, score: 0.630\n",
      "fold 9, score: 0.699\n",
      "===\n",
      "Test set results\n",
      "Accuracy: 0.661\n",
      "---\n",
      "Confusion Matrix\n",
      "[[158  61]\n",
      " [ 66  90]]\n",
      "---\n",
      "Classification Report\n",
      "              precision    recall  f1-score   support\n",
      "\n",
      "           1       0.71      0.72      0.71       219\n",
      "           2       0.60      0.58      0.59       156\n",
      "\n",
      "   micro avg       0.66      0.66      0.66       375\n",
      "   macro avg       0.65      0.65      0.65       375\n",
      "weighted avg       0.66      0.66      0.66       375\n",
      "\n"
     ]
    }
   ],
   "source": [
    "from sklearn.naive_bayes import GaussianNB\n",
    "\n",
    "clf = GaussianNB()\n",
    "\n",
    "best_clf, scores_nb = cross_val(Xtrain, ytrain, clf)\n",
    "test_eval(Xtest, ytest, best_clf)"
   ]
  },
  {
   "cell_type": "code",
   "execution_count": 28,
   "metadata": {},
   "outputs": [
    {
     "name": "stdout",
     "output_type": "stream",
     "text": [
      "fold 0, score: 0.730\n",
      "fold 1, score: 0.757\n",
      "fold 2, score: 0.770\n",
      "fold 3, score: 0.730\n",
      "fold 4, score: 0.824\n",
      "fold 5, score: 0.662\n",
      "fold 6, score: 0.712\n",
      "fold 7, score: 0.822\n",
      "fold 8, score: 0.685\n",
      "fold 9, score: 0.753\n",
      "===\n",
      "Test set results\n",
      "Accuracy: 0.717\n",
      "---\n",
      "Confusion Matrix\n",
      "[[170  49]\n",
      " [ 57  99]]\n",
      "---\n",
      "Classification Report\n",
      "              precision    recall  f1-score   support\n",
      "\n",
      "           1       0.75      0.78      0.76       219\n",
      "           2       0.67      0.63      0.65       156\n",
      "\n",
      "   micro avg       0.72      0.72      0.72       375\n",
      "   macro avg       0.71      0.71      0.71       375\n",
      "weighted avg       0.72      0.72      0.72       375\n",
      "\n"
     ]
    }
   ],
   "source": [
    "from sklearn.svm import LinearSVC\n",
    "\n",
    "clf = LinearSVC()\n",
    "best_clf, scores_svc = cross_val(Xtrain, ytrain, clf)\n",
    "test_eval(Xtest, ytest, best_clf)"
   ]
  },
  {
   "cell_type": "code",
   "execution_count": 29,
   "metadata": {},
   "outputs": [
    {
     "name": "stdout",
     "output_type": "stream",
     "text": [
      "fold 0, score: 0.743\n",
      "fold 1, score: 0.784\n",
      "fold 2, score: 0.757\n",
      "fold 3, score: 0.757\n",
      "fold 4, score: 0.838\n",
      "fold 5, score: 0.662\n",
      "fold 6, score: 0.685\n",
      "fold 7, score: 0.877\n",
      "fold 8, score: 0.644\n",
      "fold 9, score: 0.726\n",
      "===\n",
      "Test set results\n",
      "Accuracy: 0.709\n",
      "---\n",
      "Confusion Matrix\n",
      "[[167  52]\n",
      " [ 57  99]]\n",
      "---\n",
      "Classification Report\n",
      "              precision    recall  f1-score   support\n",
      "\n",
      "           1       0.75      0.76      0.75       219\n",
      "           2       0.66      0.63      0.64       156\n",
      "\n",
      "   micro avg       0.71      0.71      0.71       375\n",
      "   macro avg       0.70      0.70      0.70       375\n",
      "weighted avg       0.71      0.71      0.71       375\n",
      "\n"
     ]
    }
   ],
   "source": [
    "from sklearn.svm import SVC\n",
    "\n",
    "clf = SVC(kernel='linear', C=5)\n",
    "best_clf, scores_svc = cross_val(Xtrain, ytrain, clf)\n",
    "test_eval(Xtest, ytest, best_clf)"
   ]
  },
  {
   "cell_type": "markdown",
   "metadata": {},
   "source": [
    "## Smooth Inverse Frequency (SIF) Embedding\n",
    "\n",
    "<a href=\"https://www.codecogs.com/eqnedit.php?latex=v_s&space;=&space;\\frac{1}{\\left&space;\\|&space;S&space;\\right&space;\\|}&space;\\sum_{w&space;\\in&space;S}&space;\\frac{\\alpha}{\\alpha&space;&plus;&space;p_w}&space;v_w\" target=\"_blank\"><img src=\"https://latex.codecogs.com/gif.latex?v_s&space;=&space;\\frac{1}{\\left&space;\\|&space;S&space;\\right&space;\\|}&space;\\sum_{w&space;\\in&space;S}&space;\\frac{\\alpha}{\\alpha&space;&plus;&space;p_w}&space;v_w\" title=\"v_s = \\frac{1}{\\left \\| S \\right \\|} \\sum_{w \\in S} \\frac{\\alpha}{\\alpha + p_w} v_w\" /></a>"
   ]
  },
  {
   "cell_type": "code",
   "execution_count": 30,
   "metadata": {},
   "outputs": [],
   "source": [
    "# from paper\n",
    "ALPHA = 1e-3"
   ]
  },
  {
   "cell_type": "code",
   "execution_count": 31,
   "metadata": {},
   "outputs": [],
   "source": [
    "# # compute word probabilities from corpus\n",
    "freqs = np.sum(Xc, axis=0).astype(\"float\")\n",
    "probs = freqs / np.sum(freqs)"
   ]
  },
  {
   "cell_type": "code",
   "execution_count": 32,
   "metadata": {},
   "outputs": [],
   "source": [
    "# compute multiplier ALPHA / (ALPHA + probs)\n",
    "coeff = ALPHA / (ALPHA + probs)"
   ]
  },
  {
   "cell_type": "code",
   "execution_count": 33,
   "metadata": {},
   "outputs": [],
   "source": [
    "# compute weighted counts\n",
    "Xw = np.multiply(Xc, coeff)"
   ]
  },
  {
   "cell_type": "code",
   "execution_count": 34,
   "metadata": {},
   "outputs": [
    {
     "name": "stdout",
     "output_type": "stream",
     "text": [
      "(1111, 5081) (1, 5081) (1111, 300) (5081, 300)\n"
     ]
    }
   ],
   "source": [
    "# convert to SIF embeddings\n",
    "Xs = np.divide(np.dot(Xw, E), sent_lens)\n",
    "\n",
    "print(Xc.shape, coeff.shape, Xs.shape, E.shape)"
   ]
  },
  {
   "cell_type": "code",
   "execution_count": 35,
   "metadata": {},
   "outputs": [
    {
     "name": "stdout",
     "output_type": "stream",
     "text": [
      "(1, 300) [0.07982065]\n"
     ]
    }
   ],
   "source": [
    "# compute 1st principal component\n",
    "svd = TruncatedSVD(n_components=1, n_iter=20, random_state=0)\n",
    "svd.fit(Xs)\n",
    "pc = svd.components_\n",
    "print(pc.shape, svd.explained_variance_ratio_)"
   ]
  },
  {
   "cell_type": "code",
   "execution_count": 36,
   "metadata": {},
   "outputs": [
    {
     "name": "stdout",
     "output_type": "stream",
     "text": [
      "(1111, 300)\n"
     ]
    }
   ],
   "source": [
    "# remove it from the weighted counts\n",
    "Xr = Xs - Xs.dot(pc.T).dot(pc)\n",
    "print(Xr.shape)"
   ]
  },
  {
   "cell_type": "code",
   "execution_count": 37,
   "metadata": {},
   "outputs": [
    {
     "name": "stdout",
     "output_type": "stream",
     "text": [
      "(736, 300) (736,) (375, 300) (375,)\n"
     ]
    }
   ],
   "source": [
    "Xtrain, Xtest = Xr[0:len(train_docs)], Xr[-len(test_docs):]\n",
    "ytrain, ytest = np.array(train_labels), np.array(test_labels)\n",
    "print(Xtrain.shape, ytrain.shape, Xtest.shape, ytest.shape)"
   ]
  },
  {
   "cell_type": "code",
   "execution_count": 38,
   "metadata": {},
   "outputs": [
    {
     "name": "stdout",
     "output_type": "stream",
     "text": [
      "fold 0, score: 0.676\n",
      "fold 1, score: 0.662\n",
      "fold 2, score: 0.743\n",
      "fold 3, score: 0.689\n",
      "fold 4, score: 0.865\n",
      "fold 5, score: 0.649\n",
      "fold 6, score: 0.753\n",
      "fold 7, score: 0.795\n",
      "fold 8, score: 0.712\n",
      "fold 9, score: 0.753\n",
      "===\n",
      "Test set results\n",
      "Accuracy: 0.717\n",
      "---\n",
      "Confusion Matrix\n",
      "[[157  62]\n",
      " [ 44 112]]\n",
      "---\n",
      "Classification Report\n",
      "              precision    recall  f1-score   support\n",
      "\n",
      "           1       0.78      0.72      0.75       219\n",
      "           2       0.64      0.72      0.68       156\n",
      "\n",
      "   micro avg       0.72      0.72      0.72       375\n",
      "   macro avg       0.71      0.72      0.71       375\n",
      "weighted avg       0.72      0.72      0.72       375\n",
      "\n"
     ]
    }
   ],
   "source": [
    "from sklearn.naive_bayes import GaussianNB\n",
    "\n",
    "clf = GaussianNB()\n",
    "best_clf, scores_nb = cross_val(Xtrain, ytrain, clf)\n",
    "test_eval(Xtest, ytest, best_clf)"
   ]
  },
  {
   "cell_type": "code",
   "execution_count": 39,
   "metadata": {},
   "outputs": [
    {
     "name": "stdout",
     "output_type": "stream",
     "text": [
      "fold 0, score: 0.703\n",
      "fold 1, score: 0.730\n",
      "fold 2, score: 0.770\n",
      "fold 3, score: 0.757\n",
      "fold 4, score: 0.797\n",
      "fold 5, score: 0.635\n",
      "fold 6, score: 0.712\n",
      "fold 7, score: 0.808\n",
      "fold 8, score: 0.630\n",
      "fold 9, score: 0.753\n",
      "===\n",
      "Test set results\n",
      "Accuracy: 0.715\n",
      "---\n",
      "Confusion Matrix\n",
      "[[168  51]\n",
      " [ 56 100]]\n",
      "---\n",
      "Classification Report\n",
      "              precision    recall  f1-score   support\n",
      "\n",
      "           1       0.75      0.77      0.76       219\n",
      "           2       0.66      0.64      0.65       156\n",
      "\n",
      "   micro avg       0.71      0.71      0.71       375\n",
      "   macro avg       0.71      0.70      0.70       375\n",
      "weighted avg       0.71      0.71      0.71       375\n",
      "\n"
     ]
    }
   ],
   "source": [
    "from sklearn.svm import LinearSVC\n",
    "\n",
    "clf = LinearSVC()\n",
    "best_clf, scores_svc = cross_val(Xtrain, ytrain, clf)\n",
    "test_eval(Xtest, ytest, best_clf)"
   ]
  },
  {
   "cell_type": "code",
   "execution_count": 40,
   "metadata": {},
   "outputs": [
    {
     "name": "stdout",
     "output_type": "stream",
     "text": [
      "fold 0, score: 0.676\n",
      "fold 1, score: 0.730\n",
      "fold 2, score: 0.757\n",
      "fold 3, score: 0.743\n",
      "fold 4, score: 0.784\n",
      "fold 5, score: 0.703\n",
      "fold 6, score: 0.726\n",
      "fold 7, score: 0.740\n",
      "fold 8, score: 0.671\n",
      "fold 9, score: 0.753\n",
      "===\n",
      "Test set results\n",
      "Accuracy: 0.728\n",
      "---\n",
      "Confusion Matrix\n",
      "[[186  33]\n",
      " [ 69  87]]\n",
      "---\n",
      "Classification Report\n",
      "              precision    recall  f1-score   support\n",
      "\n",
      "           1       0.73      0.85      0.78       219\n",
      "           2       0.72      0.56      0.63       156\n",
      "\n",
      "   micro avg       0.73      0.73      0.73       375\n",
      "   macro avg       0.73      0.70      0.71       375\n",
      "weighted avg       0.73      0.73      0.72       375\n",
      "\n"
     ]
    }
   ],
   "source": [
    "from sklearn.svm import SVC\n",
    "\n",
    "clf = SVC(kernel='linear', C=0.9)\n",
    "best_clf, scores_svc = cross_val(Xtrain, ytrain, clf)\n",
    "test_eval(Xtest, ytest, best_clf)"
   ]
  },
  {
   "cell_type": "code",
   "execution_count": 41,
   "metadata": {},
   "outputs": [
    {
     "data": {
      "image/png": "[encoded data removed]",
      "text/plain": [
       "<Figure size 720x360 with 2 Axes>"
      ]
     },
     "metadata": {
      "needs_background": "light"
     },
     "output_type": "display_data"
    }
   ],
   "source": [
    "xlabels = [\"10k\", \"20k\", \"30k\", \"40k\", \"50k\", \"all\", \"all+stop\"]\n",
    "# xs = [10000, 20000, 30000, 40000, 50000, 64170, 64450]\n",
    "# we have changed the actual numbers to evenly space the points\n",
    "xs = [10000, 20000, 30000, 40000, 50000, 60000, 70000]\n",
    "\n",
    "ylabels = [\"BoW/NB\", \"BoW/SVM\", \"SIF/NB\", \"SIF/SVM\", \n",
    "           \"SIF+EP/NB\", \"SIF+EP/SVM\"]\n",
    "ys = np.array(\n",
    "        [[0.782, 0.784, 0.784, 0.785, 0.784, 0.782, 0.773],\n",
    "         [0.727, 0.728, 0.724, 0.728, 0.726, 0.727, 0.728],\n",
    "         [0.782, 0.787, 0.786, 0.786, 0.784, 0.782, 0.769],\n",
    "         [0.712, 0.710, 0.710, 0.711, 0.709, 0.712, 0.714],\n",
    "         [0.772, 0.779, 0.781, 0.782, 0.780, 0.777, 0.762],\n",
    "         [0.727, 0.729, 0.727, 0.732, 0.730, 0.726, 0.723]])\n",
    "ids_nb = [i for i, y in enumerate(ylabels) if y.endswith(\"/NB\")]\n",
    "labels_nb = [y.split(\"/\")[0] for y in ylabels if y.endswith(\"/NB\")]\n",
    "ids_svm = [i for i, y in enumerate(ylabels) if y.endswith(\"/SVM\")]\n",
    "labels_svm = [y.split(\"/\")[0] for y in ylabels if y.endswith(\"/SVM\")]\n",
    "colors = [\"r\", \"g\", \"b\"]\n",
    "\n",
    "plt.figure(figsize=(10, 5))\n",
    "\n",
    "plt.subplot(121)\n",
    "curr_row = 0\n",
    "for row in ids_nb:\n",
    "    plt.plot(xs, ys[row, :], marker=\"o\", \n",
    "             color=colors[curr_row], label=labels_nb[curr_row])\n",
    "    curr_row += 1\n",
    "plt.xticks(xs, xlabels)\n",
    "plt.title(\"Naive Bayes\")\n",
    "plt.ylabel(\"classification accuracy\")\n",
    "plt.xlabel(\"vocab size\")\n",
    "plt.legend(loc=\"best\")\n",
    "\n",
    "plt.subplot(122)\n",
    "curr_row = 0\n",
    "for row in ids_svm:\n",
    "    plt.plot(xs, ys[row, :], marker=\"o\", \n",
    "             color=colors[curr_row], label=labels_svm[curr_row])\n",
    "    curr_row += 1\n",
    "plt.xticks(xs, xlabels)\n",
    "plt.title(\"Support Vector Machine\")\n",
    "plt.ylabel(\"classification accuracy\")\n",
    "plt.xlabel(\"vocab size\")\n",
    "plt.legend(loc=\"best\")\n",
    "\n",
    "plt.tight_layout()\n",
    "plt.show()"
   ]
  },
  {
   "cell_type": "code",
   "execution_count": null,
   "metadata": {},
   "outputs": [],
   "source": []
  },
  {
   "cell_type": "code",
   "execution_count": null,
   "metadata": {},
   "outputs": [],
   "source": []
  }
 ],
 "metadata": {
  "kernelspec": {
   "display_name": "Python 3",
   "language": "python",
   "name": "python3"
  },
  "language_info": {
   "codemirror_mode": {
    "name": "ipython",
    "version": 3
   },
   "file_extension": ".py",
   "mimetype": "text/x-python",
   "name": "python",
   "nbconvert_exporter": "python",
   "pygments_lexer": "ipython3",
   "version": "3.6.7"
  }
 },
 "nbformat": 4,
 "nbformat_minor": 2
}
