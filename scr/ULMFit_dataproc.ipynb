{
 "cells": [
  {
   "cell_type": "code",
   "execution_count": 1,
   "metadata": {},
   "outputs": [],
   "source": [
    "import xmlreader as xml\n",
    "import re\n",
    "import pandas as pd\n",
    "import os\n",
    "import gensim\n",
    "import sys\n",
    "import numpy as np\n",
    "import pickle\n",
    "from utils import tokenize\n",
    "from collections import Counter\n",
    "\n",
    "DATA_PATH = '../database/'"
   ]
  },
  {
   "cell_type": "code",
   "execution_count": 2,
   "metadata": {},
   "outputs": [],
   "source": [
    "train_docs = xml.readXML(DATA_PATH + \"intertass2018-PE-train-tagged.xml\")\n",
    "test_docs  = xml.readXMLTest(DATA_PATH + \"intertass2018-PE-test.xml\" )"
   ]
  },
  {
   "cell_type": "code",
   "execution_count": 3,
   "metadata": {},
   "outputs": [],
   "source": [
    "trn_text   = [t.content  for t in train_docs]\n",
    "trn_label  = [t.polarity for t in train_docs]\n",
    "\n",
    "test_text   = [t.content  for t in test_docs]\n",
    "test_label  = [t.polarity for t in test_docs]"
   ]
  },
  {
   "cell_type": "code",
   "execution_count": 4,
   "metadata": {},
   "outputs": [],
   "source": [
    "col_names = ['labels','text']"
   ]
  },
  {
   "cell_type": "code",
   "execution_count": 5,
   "metadata": {},
   "outputs": [],
   "source": [
    "df_train = pd.DataFrame({'text':trn_text, 'labels':trn_label}, columns=col_names)\n",
    "df_test  = pd.DataFrame({'text':test_text, 'labels':test_label}, columns=col_names)"
   ]
  },
  {
   "cell_type": "code",
   "execution_count": 6,
   "metadata": {},
   "outputs": [],
   "source": [
    "CSV_PATH = DATA_PATH + 'csv_data/'\n",
    "\n",
    "if not os.path.exists(CSV_PATH):\n",
    "    os.makedirs(CSV_PATH)"
   ]
  },
  {
   "cell_type": "code",
   "execution_count": 7,
   "metadata": {},
   "outputs": [],
   "source": [
    "df_train.to_csv(DATA_PATH + 'csv_data/train.csv', index=False)\n",
    "df_test.to_csv(DATA_PATH  + 'csv_data/test.csv',  index=False)"
   ]
  },
  {
   "cell_type": "code",
   "execution_count": 8,
   "metadata": {},
   "outputs": [],
   "source": [
    "df_train = pd.read_csv(DATA_PATH + 'csv_data/train.csv')\n",
    "df_test = pd.read_csv(DATA_PATH + 'csv_data/test.csv')"
   ]
  },
  {
   "cell_type": "code",
   "execution_count": 9,
   "metadata": {},
   "outputs": [
    {
     "name": "stdout",
     "output_type": "stream",
     "text": [
      "<class 'pandas.core.frame.DataFrame'>\n",
      "RangeIndex: 1000 entries, 0 to 999\n",
      "Data columns (total 2 columns):\n",
      "labels    1000 non-null int64\n",
      "text      1000 non-null object\n",
      "dtypes: int64(1), object(1)\n",
      "memory usage: 15.7+ KB\n"
     ]
    }
   ],
   "source": [
    "df_train.info()"
   ]
  },
  {
   "cell_type": "code",
   "execution_count": 10,
   "metadata": {},
   "outputs": [
    {
     "name": "stdout",
     "output_type": "stream",
     "text": [
      "<class 'pandas.core.frame.DataFrame'>\n",
      "RangeIndex: 1428 entries, 0 to 1427\n",
      "Data columns (total 2 columns):\n",
      "labels    1428 non-null object\n",
      "text      1428 non-null object\n",
      "dtypes: object(2)\n",
      "memory usage: 22.4+ KB\n"
     ]
    }
   ],
   "source": [
    "df_test.info()"
   ]
  },
  {
   "cell_type": "code",
   "execution_count": 11,
   "metadata": {},
   "outputs": [
    {
     "data": {
      "text/plain": [
       "{'original': 'Sin ser fan de Juan Gabriel, siempre supe que era una fuerza de la naturaleza. Hoy escuché \"Querida\", y me dio una ternura enorme.',\n",
       " 'words': ['sin',\n",
       "  'ser',\n",
       "  'fan',\n",
       "  'de',\n",
       "  'juan',\n",
       "  'gabriel',\n",
       "  'siempre',\n",
       "  'supe',\n",
       "  'que',\n",
       "  'era',\n",
       "  'una',\n",
       "  'fuerza',\n",
       "  'de',\n",
       "  'la',\n",
       "  'naturaleza',\n",
       "  'hoy',\n",
       "  'escuche',\n",
       "  'querida',\n",
       "  'y',\n",
       "  'me',\n",
       "  'dio',\n",
       "  'una',\n",
       "  'ternura',\n",
       "  'enorme'],\n",
       " 'ratio': 0.05,\n",
       " 'clean': 'sin ser fan de juan gabriel, siempre supe que era una fuerza de la naturaleza. hoy escuche querida , y me dio una ternura enorme',\n",
       " 'class': None}"
      ]
     },
     "execution_count": 11,
     "metadata": {},
     "output_type": "execute_result"
    }
   ],
   "source": [
    "tokenize(df_train['text'][0], None)"
   ]
  },
  {
   "cell_type": "code",
   "execution_count": 12,
   "metadata": {},
   "outputs": [
    {
     "data": {
      "text/plain": [
       "1000"
      ]
     },
     "execution_count": 12,
     "metadata": {},
     "output_type": "execute_result"
    }
   ],
   "source": [
    "len(df_train['text'])"
   ]
  },
  {
   "cell_type": "code",
   "execution_count": 13,
   "metadata": {},
   "outputs": [],
   "source": [
    "LOF_train = []\n",
    "LOF_test  = []\n",
    "\n",
    "for i in range(len(df_train['text'])):\n",
    "    LOF_train.append(tokenize(df_train['text'][i], None)['words'])\n",
    "    \n",
    "for i in range(len(df_test['text'])):\n",
    "    LOF_test.append(tokenize(df_test['text'][i], None)['words'])"
   ]
  },
  {
   "cell_type": "code",
   "execution_count": 14,
   "metadata": {},
   "outputs": [
    {
     "name": "stdout",
     "output_type": "stream",
     "text": [
      "Size of List Of Words (Train) :  1000\n",
      "Size of List Of Words (Test)  :  1428\n"
     ]
    }
   ],
   "source": [
    "print(\"Size of List Of Words (Train) : \", len(LOF_train))\n",
    "print(\"Size of List Of Words (Test)  : \", len(LOF_test))"
   ]
  },
  {
   "cell_type": "code",
   "execution_count": 15,
   "metadata": {},
   "outputs": [
    {
     "data": {
      "text/plain": [
       "['siempre', 'hermosa', 'maria', 'gabriel']"
      ]
     },
     "execution_count": 15,
     "metadata": {},
     "output_type": "execute_result"
    }
   ],
   "source": [
    "LOF_test[0]"
   ]
  },
  {
   "cell_type": "code",
   "execution_count": 16,
   "metadata": {},
   "outputs": [],
   "source": [
    "cnt = Counter(word for doc in LOF_train + LOF_test for word in doc )"
   ]
  },
  {
   "cell_type": "code",
   "execution_count": 17,
   "metadata": {},
   "outputs": [
    {
     "data": {
      "text/plain": [
       "7861"
      ]
     },
     "execution_count": 17,
     "metadata": {},
     "output_type": "execute_result"
    }
   ],
   "source": [
    "len(cnt)"
   ]
  },
  {
   "cell_type": "code",
   "execution_count": 18,
   "metadata": {},
   "outputs": [
    {
     "data": {
      "text/plain": [
       "[('que', 1341),\n",
       " ('de', 1198),\n",
       " ('y', 991),\n",
       " ('no', 777),\n",
       " ('la', 770),\n",
       " ('a', 769),\n",
       " ('me', 666),\n",
       " ('el', 662),\n",
       " ('en', 608),\n",
       " ('es', 506)]"
      ]
     },
     "execution_count": 18,
     "metadata": {},
     "output_type": "execute_result"
    }
   ],
   "source": [
    "cnt.most_common()[:10]"
   ]
  },
  {
   "cell_type": "code",
   "execution_count": 19,
   "metadata": {},
   "outputs": [],
   "source": [
    "max_vocab = 7000\n",
    "min_freq = 2\n",
    "\n",
    "itos = [o for o,c in cnt.most_common(max_vocab) if c > min_freq]"
   ]
  },
  {
   "cell_type": "code",
   "execution_count": 20,
   "metadata": {},
   "outputs": [],
   "source": [
    "itos.insert(0, '_pad_')\n",
    "itos.insert(0, '_unk_')"
   ]
  },
  {
   "cell_type": "code",
   "execution_count": 21,
   "metadata": {},
   "outputs": [
    {
     "data": {
      "text/plain": [
       "1504"
      ]
     },
     "execution_count": 21,
     "metadata": {},
     "output_type": "execute_result"
    }
   ],
   "source": [
    "len(itos)"
   ]
  },
  {
   "cell_type": "code",
   "execution_count": 22,
   "metadata": {},
   "outputs": [
    {
     "data": {
      "text/plain": [
       "1504"
      ]
     },
     "execution_count": 22,
     "metadata": {},
     "output_type": "execute_result"
    }
   ],
   "source": [
    "import collections\n",
    "\n",
    "stoi = collections.defaultdict(lambda:0, {v:k for k,v in enumerate(itos)})\n",
    "len(itos)"
   ]
  },
  {
   "cell_type": "code",
   "execution_count": 24,
   "metadata": {},
   "outputs": [],
   "source": [
    "train_lm = np.array([[stoi[o] for o in p] for p in LOF_train])\n",
    "test_lm  = np.array([[stoi[o] for o in p] for p in LOF_test])"
   ]
  },
  {
   "cell_type": "code",
   "execution_count": 28,
   "metadata": {},
   "outputs": [],
   "source": [
    "np.savez(DATA_PATH + 'tmp/train_labels.npz', trn_label=trn_label)\n",
    "np.savez(DATA_PATH + 'tmp/test_labels.npz', test_label=test_label)"
   ]
  },
  {
   "cell_type": "code",
   "execution_count": 25,
   "metadata": {},
   "outputs": [],
   "source": [
    "np.savez(DATA_PATH + 'tmp/train_lm.npz', train_lm=train_lm)\n",
    "np.savez(DATA_PATH + 'tmp/test_lm.npz', test_lm=test_lm)\n",
    "pickle.dump(itos, open(DATA_PATH + 'tmp/itos.pkl', 'wb'))"
   ]
  },
  {
   "cell_type": "code",
   "execution_count": 26,
   "metadata": {},
   "outputs": [
    {
     "data": {
      "text/plain": [
       "[64,\n",
       " 51,\n",
       " 1056,\n",
       " 3,\n",
       " 825,\n",
       " 0,\n",
       " 45,\n",
       " 0,\n",
       " 2,\n",
       " 127,\n",
       " 24,\n",
       " 0,\n",
       " 3,\n",
       " 6,\n",
       " 579,\n",
       " 41,\n",
       " 0,\n",
       " 1057,\n",
       " 4,\n",
       " 8,\n",
       " 249,\n",
       " 24,\n",
       " 0,\n",
       " 0]"
      ]
     },
     "execution_count": 26,
     "metadata": {},
     "output_type": "execute_result"
    }
   ],
   "source": [
    "train_lm[0]"
   ]
  },
  {
   "cell_type": "code",
   "execution_count": 91,
   "metadata": {},
   "outputs": [],
   "source": [
    "tok_train = np.array(trn_lm)\n",
    "tok_test  = np.array(val_lm)\n",
    "\n",
    "#np.save(DATA_PATH + 'tmp/train_ids.npy', tok_train)\n",
    "#np.save(DATA_PATH + 'tmp/test_ids.npy' , tok_test)"
   ]
  },
  {
   "cell_type": "code",
   "execution_count": 54,
   "metadata": {},
   "outputs": [],
   "source": [
    "#train_ids = np.load(DATA_PATH + 'tmp/train_ids.npy')\n",
    "#test_ids  = np.load(DATA_PATH + 'tmp/test_ids.npy')"
   ]
  },
  {
   "cell_type": "code",
   "execution_count": 55,
   "metadata": {},
   "outputs": [
    {
     "name": "stdout",
     "output_type": "stream",
     "text": [
      "sin ser fan de juan gabriel siempre supe que era una fuerza de la naturaleza hoy escuche querida y me dio una ternura enorme "
     ]
    }
   ],
   "source": [
    "for idx in tok_train[0]:\n",
    "    print(vocab[idx], end =' ')"
   ]
  },
  {
   "cell_type": "code",
   "execution_count": 56,
   "metadata": {},
   "outputs": [
    {
     "data": {
      "text/plain": [
       "'Sin ser fan de Juan Gabriel, siempre supe que era una fuerza de la naturaleza. Hoy escuché \"Querida\", y me dio una ternura enorme.'"
      ]
     },
     "execution_count": 56,
     "metadata": {},
     "output_type": "execute_result"
    }
   ],
   "source": [
    "df_train['text'][0]"
   ]
  },
  {
   "cell_type": "code",
   "execution_count": 17,
   "metadata": {},
   "outputs": [
    {
     "data": {
      "text/plain": [
       "1"
      ]
     },
     "execution_count": 17,
     "metadata": {},
     "output_type": "execute_result"
    }
   ],
   "source": [
    "trn_label[0]"
   ]
  },
  {
   "cell_type": "code",
   "execution_count": 57,
   "metadata": {},
   "outputs": [
    {
     "name": "stdout",
     "output_type": "stream",
     "text": [
      "siempre hermosa maria gabriel "
     ]
    }
   ],
   "source": [
    "for idx in tok_test[0]:\n",
    "    print(vocab[idx], end =' ')"
   ]
  },
  {
   "cell_type": "code",
   "execution_count": 58,
   "metadata": {},
   "outputs": [],
   "source": [
    "cntIdx = Counter(idx for doc in list(tok_train) + list(tok_test) for idx in doc ).most_common()"
   ]
  },
  {
   "cell_type": "code",
   "execution_count": 59,
   "metadata": {},
   "outputs": [
    {
     "data": {
      "text/plain": [
       "6151"
      ]
     },
     "execution_count": 59,
     "metadata": {},
     "output_type": "execute_result"
    }
   ],
   "source": [
    "len(cntIdx)"
   ]
  },
  {
   "cell_type": "code",
   "execution_count": 60,
   "metadata": {},
   "outputs": [
    {
     "data": {
      "text/plain": [
       "[(148439, 2180),\n",
       " (6, 1341),\n",
       " (0, 1198),\n",
       " (5, 991),\n",
       " (19, 777),\n",
       " (2, 770),\n",
       " (7, 769),\n",
       " (189, 666),\n",
       " (4, 662),\n",
       " (3, 608)]"
      ]
     },
     "execution_count": 60,
     "metadata": {},
     "output_type": "execute_result"
    }
   ],
   "source": [
    "cntIdx[:10]"
   ]
  },
  {
   "cell_type": "code",
   "execution_count": 24,
   "metadata": {},
   "outputs": [
    {
     "data": {
      "text/plain": [
       "'UNK'"
      ]
     },
     "execution_count": 24,
     "metadata": {},
     "output_type": "execute_result"
    }
   ],
   "source": [
    "itos = [vocab[idx] for idx, _ in cntIdx]\n",
    "\n",
    "itos.insert(0, '_pad_')\n",
    "itos.insert(0, '_unk_')\n",
    "itos.pop(2)"
   ]
  },
  {
   "cell_type": "code",
   "execution_count": 26,
   "metadata": {},
   "outputs": [
    {
     "data": {
      "text/plain": [
       "6152"
      ]
     },
     "execution_count": 26,
     "metadata": {},
     "output_type": "execute_result"
    }
   ],
   "source": [
    "len(itos)"
   ]
  },
  {
   "cell_type": "code",
   "execution_count": 27,
   "metadata": {},
   "outputs": [],
   "source": [
    "pickle.dump(itos, open(DATA_PATH + 'tmp/itos.pkl', 'wb'))"
   ]
  },
  {
   "cell_type": "code",
   "execution_count": 28,
   "metadata": {},
   "outputs": [
    {
     "data": {
      "text/plain": [
       "['_unk_', '_pad_', 'que', 'de', 'y', 'no', 'la', 'a', 'me', 'el']"
      ]
     },
     "execution_count": 28,
     "metadata": {},
     "output_type": "execute_result"
    }
   ],
   "source": [
    "itos[:10]"
   ]
  },
  {
   "cell_type": "code",
   "execution_count": 29,
   "metadata": {},
   "outputs": [],
   "source": [
    "itos = pickle.load(open(DATA_PATH + 'tmp/itos.pkl', 'rb'))"
   ]
  },
  {
   "cell_type": "code",
   "execution_count": 30,
   "metadata": {},
   "outputs": [
    {
     "data": {
      "text/plain": [
       "['_unk_', '_pad_', 'que', 'de', 'y', 'no', 'la', 'a', 'me', 'el']"
      ]
     },
     "execution_count": 30,
     "metadata": {},
     "output_type": "execute_result"
    }
   ],
   "source": [
    "itos[:10]"
   ]
  },
  {
   "cell_type": "code",
   "execution_count": 31,
   "metadata": {},
   "outputs": [
    {
     "data": {
      "text/plain": [
       "6152"
      ]
     },
     "execution_count": 31,
     "metadata": {},
     "output_type": "execute_result"
    }
   ],
   "source": [
    "import collections\n",
    "\n",
    "stoi = collections.defaultdict(lambda:0, {v:k for k,v in enumerate(itos)})\n",
    "len(itos)"
   ]
  },
  {
   "cell_type": "code",
   "execution_count": 32,
   "metadata": {},
   "outputs": [],
   "source": [
    "train_ids = np.array([[stoi[o] for o in p] for p in train_ids])\n",
    "test_ids  = np.array([[stoi[o] for o in p] for p in test_ids])"
   ]
  },
  {
   "cell_type": "code",
   "execution_count": 85,
   "metadata": {},
   "outputs": [],
   "source": [
    "np.savez(DATA_PATH + 'tmp/train_ids.npz', train_ids)\n",
    "np.savez(DATA_PATH + 'tmp/test_ids.npz' , train_ids)"
   ]
  },
  {
   "cell_type": "code",
   "execution_count": 35,
   "metadata": {},
   "outputs": [
    {
     "data": {
      "text/plain": [
       "[0, 0, 0, 0, 0, 0, 0, 0, 0, 0, 0, 0, 0, 0, 0, 0, 0, 0, 0, 0, 0, 0, 0, 0]"
      ]
     },
     "execution_count": 35,
     "metadata": {},
     "output_type": "execute_result"
    }
   ],
   "source": [
    "train_ids[0]"
   ]
  },
  {
   "cell_type": "code",
   "execution_count": 100,
   "metadata": {},
   "outputs": [],
   "source": [
    "train_ids = np.load(DATA_PATH + 'tmp/train_lm.npz')\n",
    "test_ids  = np.load(DATA_PATH + 'tmp/test_lm.npz')\n",
    "itos = pickle.load(open(DATA_PATH + 'tmp/itos.pkl', 'rb'))"
   ]
  },
  {
   "cell_type": "code",
   "execution_count": 102,
   "metadata": {},
   "outputs": [
    {
     "data": {
      "text/plain": [
       "[64,\n",
       " 51,\n",
       " 1056,\n",
       " 3,\n",
       " 825,\n",
       " 0,\n",
       " 45,\n",
       " 0,\n",
       " 2,\n",
       " 127,\n",
       " 24,\n",
       " 0,\n",
       " 3,\n",
       " 6,\n",
       " 579,\n",
       " 41,\n",
       " 0,\n",
       " 1057,\n",
       " 4,\n",
       " 8,\n",
       " 249,\n",
       " 24,\n",
       " 0,\n",
       " 0]"
      ]
     },
     "execution_count": 102,
     "metadata": {},
     "output_type": "execute_result"
    }
   ],
   "source": [
    "train_ids['train_lm'][0]"
   ]
  },
  {
   "cell_type": "code",
   "execution_count": null,
   "metadata": {},
   "outputs": [],
   "source": []
  }
 ],
 "metadata": {
  "kernelspec": {
   "display_name": "Python 3",
   "language": "python",
   "name": "python3"
  },
  "language_info": {
   "codemirror_mode": {
    "name": "ipython",
    "version": 3
   },
   "file_extension": ".py",
   "mimetype": "text/x-python",
   "name": "python",
   "nbconvert_exporter": "python",
   "pygments_lexer": "ipython3",
   "version": "3.6.7"
  }
 },
 "nbformat": 4,
 "nbformat_minor": 2
}
