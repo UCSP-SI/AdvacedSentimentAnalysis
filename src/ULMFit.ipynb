{
 "cells": [
  {
   "cell_type": "code",
   "execution_count": 0,
   "metadata": {
    "colab": {},
    "colab_type": "code",
    "id": "NDA5PiL8ihQV"
   },
   "outputs": [],
   "source": [
    "#!pip3 install torch torchvision"
   ]
  },
  {
   "cell_type": "code",
   "execution_count": 0,
   "metadata": {
    "colab": {},
    "colab_type": "code",
    "id": "MZgiSj4jijOg"
   },
   "outputs": [],
   "source": [
    "#!pip3 install fastai==0.7.0"
   ]
  },
  {
   "cell_type": "code",
   "execution_count": 0,
   "metadata": {
    "colab": {},
    "colab_type": "code",
    "id": "WtsQy3zNijeq"
   },
   "outputs": [],
   "source": [
    "#!pip3 install torchtext==0.2.3"
   ]
  },
  {
   "cell_type": "code",
   "execution_count": 0,
   "metadata": {
    "colab": {},
    "colab_type": "code",
    "id": "lNGvgB__iqG1"
   },
   "outputs": [],
   "source": [
    "#from google.colab import drive\n",
    "\n",
    "#drive.mount('/content/gdrive')"
   ]
  },
  {
   "cell_type": "code",
   "execution_count": 0,
   "metadata": {
    "colab": {},
    "colab_type": "code",
    "id": "grPWzpGJiebw"
   },
   "outputs": [],
   "source": [
    "from fastai.text import * \n",
    "\n",
    "DATA_PATH = '/content/gdrive/My Drive/CS/SI/Proyecto/database/'"
   ]
  },
  {
   "cell_type": "code",
   "execution_count": 0,
   "metadata": {
    "colab": {},
    "colab_type": "code",
    "id": "paDoIW8viecT"
   },
   "outputs": [],
   "source": [
    "train_ids = np.load(DATA_PATH + 'ulmfit/tmp/train_lm.npy')\n",
    "test_ids  = np.load(DATA_PATH + 'ulmfit/tmp/test_lm.npy')\n",
    "itos      = pickle.load(open(DATA_PATH + 'ulmfit/tmp/itos.pkl', 'rb'))"
   ]
  },
  {
   "cell_type": "code",
   "execution_count": 3,
   "metadata": {
    "colab": {
     "base_uri": "https://localhost:8080/",
     "height": 34
    },
    "colab_type": "code",
    "id": "Wt1VluGViecY",
    "outputId": "3a68da44-604b-4249-dc92-beacce77004b"
   },
   "outputs": [
    {
     "data": {
      "text/plain": [
       "(715, 736)"
      ]
     },
     "execution_count": 3,
     "metadata": {
      "tags": []
     },
     "output_type": "execute_result"
    }
   ],
   "source": [
    "vs=len(itos)\n",
    "vs,len(train_ids)"
   ]
  },
  {
   "cell_type": "markdown",
   "metadata": {
    "colab_type": "text",
    "id": "VKxRJB__iecg"
   },
   "source": [
    "## Wikitext103"
   ]
  },
  {
   "cell_type": "markdown",
   "metadata": {
    "colab_type": "text",
    "id": "6HsEV1NOiecj"
   },
   "source": [
    "We use a transfer learning method to learn the structure of the spanish language. In transfer learning (a fairly recent idea for NLP) a pre-trained LM that has been trained on a large generic corpus(like wikipedia articles) can be used to transfer it's knowledge to a target LM and the weights can be fine-tuned.\n",
    "\n",
    "Our source LM is the wikitext103 LM created by Stephen Merity @ Salesforce research. Link to dataset The language model for wikitext103 (AWD LSTM) has been pre-trained and the weights can be downloaded here: Link. Our target LM is the IMDB LM."
   ]
  },
  {
   "cell_type": "code",
   "execution_count": 0,
   "metadata": {
    "colab": {},
    "colab_type": "code",
    "id": "YrUDPGeHiecm"
   },
   "outputs": [],
   "source": [
    "WIKITEX = DATA_PATH + 'ulmfit/'"
   ]
  },
  {
   "cell_type": "code",
   "execution_count": 0,
   "metadata": {
    "colab": {},
    "colab_type": "code",
    "id": "tN0oN9x6iect"
   },
   "outputs": [],
   "source": [
    "#!wget -nH -r -np -P ../database/ulmfit/model/ http://files.fast.ai/models/wt103/fwd_wt103.h5"
   ]
  },
  {
   "cell_type": "code",
   "execution_count": 0,
   "metadata": {
    "colab": {},
    "colab_type": "code",
    "id": "ynXgqa-iiec9"
   },
   "outputs": [],
   "source": [
    "#!wget -nH -r -np -P ../database/ulmfit/model/ http://files.fast.ai/models/wt103/itos_wt103.pkl"
   ]
  },
  {
   "cell_type": "code",
   "execution_count": 0,
   "metadata": {
    "colab": {},
    "colab_type": "code",
    "id": "x7j1AhWJiedE"
   },
   "outputs": [],
   "source": [
    "em_sz, nh, nl = 400, 1150, 3"
   ]
  },
  {
   "cell_type": "code",
   "execution_count": 0,
   "metadata": {
    "colab": {},
    "colab_type": "code",
    "id": "wlRkaSXBiedJ"
   },
   "outputs": [],
   "source": [
    "PRE_PATH    = WIKITEX  + 'models/wt103/'\n",
    "PRE_LM_PATH = PRE_PATH + 'fwd_wt103.h5'"
   ]
  },
  {
   "cell_type": "code",
   "execution_count": 0,
   "metadata": {
    "colab": {},
    "colab_type": "code",
    "id": "VhghFIJBiedP"
   },
   "outputs": [],
   "source": [
    "wgts = torch.load(str(PRE_LM_PATH), map_location=lambda storage, loc: storage)"
   ]
  },
  {
   "cell_type": "code",
   "execution_count": 0,
   "metadata": {
    "colab": {},
    "colab_type": "code",
    "id": "Tp_198X5iedT"
   },
   "outputs": [],
   "source": [
    "enc_wgts = to_np(wgts['0.encoder.weight'])\n",
    "row_m    = enc_wgts.mean(0)"
   ]
  },
  {
   "cell_type": "code",
   "execution_count": 0,
   "metadata": {
    "colab": {},
    "colab_type": "code",
    "id": "E1PtfWYiiedZ"
   },
   "outputs": [],
   "source": [
    "itos2 = pickle.load(open(PRE_PATH + 'itos_wt103.pkl','rb'))\n",
    "stoi2 = collections.defaultdict(lambda:-1, {v:k for k,v in enumerate(itos2)})"
   ]
  },
  {
   "cell_type": "code",
   "execution_count": 0,
   "metadata": {
    "colab": {},
    "colab_type": "code",
    "id": "CcuOx4xhiede"
   },
   "outputs": [],
   "source": [
    "new_w = np.zeros((vs, em_sz), dtype=np.float32)\n",
    "\n",
    "c1 = 0\n",
    "c2 = 0\n",
    "for i,w in enumerate(itos):\n",
    "    r = stoi2[w]\n",
    "    \n",
    "    if r >= 0:\n",
    "      new_w[i] = enc_wgts[r]\n",
    "      c1+=1\n",
    "    else:\n",
    "      new_w[i] = row_m\n",
    "      c2+=1"
   ]
  },
  {
   "cell_type": "code",
   "execution_count": 13,
   "metadata": {
    "colab": {
     "base_uri": "https://localhost:8080/",
     "height": 52
    },
    "colab_type": "code",
    "id": "1Z0CJGabujZh",
    "outputId": "9b1d5d0a-5952-43cb-c77d-4115f99cff17"
   },
   "outputs": [
    {
     "name": "stdout",
     "output_type": "stream",
     "text": [
      "Número de palabras encontradas en el encoder    :  456\n",
      "Número de palabras no encontradas en el encoder :  259\n"
     ]
    }
   ],
   "source": [
    "print('Número de palabras encontradas en el encoder    : ', c1)\n",
    "print('Número de palabras no encontradas en el encoder : ', c2)"
   ]
  },
  {
   "cell_type": "code",
   "execution_count": 0,
   "metadata": {
    "colab": {},
    "colab_type": "code",
    "id": "dXrhTF9tiedi"
   },
   "outputs": [],
   "source": [
    "wgts['0.encoder.weight'] = T(new_w)\n",
    "wgts['0.encoder_with_dropout.embed.weight'] = T(np.copy(new_w))\n",
    "wgts['1.decoder.weight'] = T(np.copy(new_w))"
   ]
  },
  {
   "cell_type": "markdown",
   "metadata": {
    "colab_type": "text",
    "id": "3PB_Ebdriedv"
   },
   "source": [
    "## Training A new IMDB language model"
   ]
  },
  {
   "cell_type": "code",
   "execution_count": 0,
   "metadata": {
    "colab": {},
    "colab_type": "code",
    "id": "lFTvjpi4ied0"
   },
   "outputs": [],
   "source": [
    "wd=1e-7\n",
    "bptt=70\n",
    "bs=52\n",
    "opt_fn = partial(optim.Adam, betas=(0.8, 0.99))"
   ]
  },
  {
   "cell_type": "code",
   "execution_count": 0,
   "metadata": {
    "colab": {},
    "colab_type": "code",
    "id": "uWJ7w7eiied4"
   },
   "outputs": [],
   "source": [
    "ULMFIT_PATH = DATA_PATH + 'ulmfit/'\n",
    "TASS_PATH   = DATA_PATH + '/tass_model/'"
   ]
  },
  {
   "cell_type": "code",
   "execution_count": 0,
   "metadata": {
    "colab": {},
    "colab_type": "code",
    "id": "9pJTZJpeied9"
   },
   "outputs": [],
   "source": [
    "trn_dl = LanguageModelLoader(np.concatenate(train_ids), bs, bptt)\n",
    "val_dl = LanguageModelLoader(np.concatenate(test_ids), bs//4, bptt)\n",
    "md     = LanguageModelData(TASS_PATH, 1, vs, trn_dl, val_dl, bs=bs, bptt=bptt)"
   ]
  },
  {
   "cell_type": "code",
   "execution_count": 0,
   "metadata": {
    "colab": {},
    "colab_type": "code",
    "id": "v8BJ5WIlieeD"
   },
   "outputs": [],
   "source": [
    "drops = np.array([0.25, 0.1, 0.2, 0.02, 0.15])*0.7"
   ]
  },
  {
   "cell_type": "code",
   "execution_count": 0,
   "metadata": {
    "colab": {},
    "colab_type": "code",
    "id": "-Jv2m1f0ieeM"
   },
   "outputs": [],
   "source": [
    "learner= md.get_model(opt_fn, em_sz, nh, nl, dropouti=drops[0], dropout=drops[1], wdrop=drops[2], dropoute=drops[3], dropouth=drops[4])\n",
    "\n",
    "learner.metrics = [accuracy]\n",
    "learner.freeze_to(-1)"
   ]
  },
  {
   "cell_type": "code",
   "execution_count": 0,
   "metadata": {
    "colab": {},
    "colab_type": "code",
    "id": "XCt3pxN0ieeR"
   },
   "outputs": [],
   "source": [
    "learner.model.load_state_dict(wgts)"
   ]
  },
  {
   "cell_type": "code",
   "execution_count": 0,
   "metadata": {
    "colab": {},
    "colab_type": "code",
    "id": "wtTCLLrhieeT"
   },
   "outputs": [],
   "source": [
    "lr  = 1e-2\n",
    "lrs = lr"
   ]
  },
  {
   "cell_type": "markdown",
   "metadata": {
    "colab_type": "text",
    "id": "AyYU6IHeyviS"
   },
   "source": [
    "We set learning rates and fit our IMDB LM. We first run one epoch to tune the last layer which contains the embedding weights. This should help the missing tokens in the wikitext103 learn better weights."
   ]
  },
  {
   "cell_type": "code",
   "execution_count": 22,
   "metadata": {
    "colab": {
     "base_uri": "https://localhost:8080/",
     "height": 260
    },
    "colab_type": "code",
    "id": "UTHgZ_CLieeX",
    "outputId": "6165dd04-f91d-4d81-a4fb-528e6ee06c31"
   },
   "outputs": [
    {
     "data": {
      "application/vnd.jupyter.widget-view+json": {
       "model_id": "0f86c3dd919d445e804cdf15c8029d58",
       "version_major": 2,
       "version_minor": 0
      },
      "text/plain": [
       "HBox(children=(IntProgress(value=0, description='Epoch', max=10, style=ProgressStyle(description_width='initia…"
      ]
     },
     "metadata": {
      "tags": []
     },
     "output_type": "display_data"
    },
    {
     "name": "stdout",
     "output_type": "stream",
     "text": [
      "epoch      trn_loss   val_loss   accuracy   \n",
      "    0      5.794668   5.757877   0.039089  \n",
      "    1      5.867703   5.456882   0.053946  \n",
      "    2      5.673241   5.114542   0.113563  \n",
      "    3      5.49237    4.919507   0.203094  \n",
      "    4      5.345495   4.882925   0.221854  \n",
      "    5      5.224612   4.870755   0.199376  \n",
      "    6      5.109615   4.833202   0.213745  \n",
      "    7      5.012044   4.807715   0.221781  \n",
      "    8      4.93055    4.792758   0.223433  \n",
      "    9      4.862013   4.782744   0.223659  \n",
      "\n"
     ]
    },
    {
     "data": {
      "text/plain": [
       "[array([4.78274]), 0.22365869531611435]"
      ]
     },
     "execution_count": 22,
     "metadata": {
      "tags": []
     },
     "output_type": "execute_result"
    }
   ],
   "source": [
    "learner.fit(lrs, 1 , wds=wd, use_clr=(32,2), cycle_len=10)"
   ]
  },
  {
   "cell_type": "code",
   "execution_count": 0,
   "metadata": {
    "colab": {},
    "colab_type": "code",
    "id": "hMgngB2Q1oWV"
   },
   "outputs": [],
   "source": [
    "learner.save(TASS_PATH + 'lm_last_ft')"
   ]
  },
  {
   "cell_type": "code",
   "execution_count": 0,
   "metadata": {
    "colab": {},
    "colab_type": "code",
    "id": "QZ0YTKSW1qET"
   },
   "outputs": [],
   "source": [
    "learner.load(TASS_PATH + 'lm_last_ft')"
   ]
  },
  {
   "cell_type": "code",
   "execution_count": 0,
   "metadata": {
    "colab": {},
    "colab_type": "code",
    "id": "3qhqW-fdih0R"
   },
   "outputs": [],
   "source": [
    "learner.unfreeze()"
   ]
  },
  {
   "cell_type": "code",
   "execution_count": 26,
   "metadata": {
    "colab": {
     "base_uri": "https://localhost:8080/",
     "height": 731
    },
    "colab_type": "code",
    "id": "sJExp5xqxihM",
    "outputId": "d64ba06c-8524-4b4f-ca11-615483a2e729"
   },
   "outputs": [
    {
     "data": {
      "application/vnd.jupyter.widget-view+json": {
       "model_id": "50ce84c6ed3545fba27caf91046cf9c1",
       "version_major": 2,
       "version_minor": 0
      },
      "text/plain": [
       "HBox(children=(IntProgress(value=0, description='Epoch', max=51, style=ProgressStyle(description_width='initia…"
      ]
     },
     "metadata": {
      "tags": []
     },
     "output_type": "display_data"
    },
    {
     "name": "stdout",
     "output_type": "stream",
     "text": []
    },
    {
     "data": {
      "image/png": "[encoded data removed]",
      "text/plain": [
       "<Figure size 432x864 with 3 Axes>"
      ]
     },
     "metadata": {
      "tags": []
     },
     "output_type": "display_data"
    }
   ],
   "source": [
    "learner.lr_find2(start_lr=lrs/10, end_lr=lrs*10, num_it=100)\n",
    "learner.sched.plot()"
   ]
  },
  {
   "cell_type": "code",
   "execution_count": 27,
   "metadata": {
    "colab": {
     "base_uri": "https://localhost:8080/",
     "height": 590
    },
    "colab_type": "code",
    "id": "I3u-SWWq-TUW",
    "outputId": "31a677b8-3c10-44fe-ba4e-4717775ff099"
   },
   "outputs": [
    {
     "data": {
      "application/vnd.jupyter.widget-view+json": {
       "model_id": "1b9d4050963a4b7bba841c1a3bc119a0",
       "version_major": 2,
       "version_minor": 0
      },
      "text/plain": [
       "HBox(children=(IntProgress(value=0, description='Epoch', max=30, style=ProgressStyle(description_width='initia…"
      ]
     },
     "metadata": {
      "tags": []
     },
     "output_type": "display_data"
    },
    {
     "name": "stdout",
     "output_type": "stream",
     "text": [
      "epoch      trn_loss   val_loss   accuracy   \n",
      "    0      4.398858   6.162366   0.242515  \n",
      "    1      4.774429   5.176517   0.084413  \n",
      "    2      4.75143    6.183654   0.242338  \n",
      "    3      4.892504   4.791582   0.167504  \n",
      "    4      4.814917   4.677708   0.242539  \n",
      "    5      4.733163   4.690414   0.224532  \n",
      "    6      4.652516   4.662025   0.236994  \n",
      "    7      4.576716   4.744849   0.227191  \n",
      "    8      4.508265   4.789712   0.229408  \n",
      "    9      4.440038   4.839679   0.229545  \n",
      "    10     4.373217   4.934      0.220831  \n",
      "    11     4.307525   5.023801   0.215993  \n",
      "    12     4.240831   5.10902    0.195639  \n",
      "    13     4.179318   5.040099   0.223841  \n",
      "    14     4.111548   5.475753   0.210773  \n",
      "    15     4.041824   5.31291    0.206215  \n",
      "    16     3.970997   5.517832   0.195876  \n",
      "    17     3.898507   5.616692   0.205196  \n",
      "    18     3.82098    5.719591   0.179646  \n",
      "    19     3.742105   5.837067   0.17847   \n",
      "    20     3.66939    6.076741   0.194596  \n",
      "    21     3.596446   6.05939    0.151282  \n",
      "    22     3.525808   6.106098   0.192622  \n",
      "    23     3.451497   6.255061   0.156757  \n",
      "    24     3.41616    5.590469   0.193336  \n",
      "    25     3.370441   5.776149   0.195032  \n",
      "    26     3.308501   5.939992   0.172379  \n",
      "    27     3.244687   6.115145   0.17941   \n",
      "    28     3.18286    6.205917   0.1834    \n",
      "    29     3.122091   6.183411   0.177301  \n"
     ]
    },
    {
     "data": {
      "text/plain": [
       "[array([6.18341]), 0.1773007354224991]"
      ]
     },
     "execution_count": 27,
     "metadata": {
      "tags": []
     },
     "output_type": "execute_result"
    }
   ],
   "source": [
    "learner.fit(lrs/10, 1, wds=wd, use_clr=(20,10), cycle_len=30, best_save_name=TASS_PATH + 'lm1')"
   ]
  },
  {
   "cell_type": "code",
   "execution_count": 0,
   "metadata": {
    "colab": {},
    "colab_type": "code",
    "id": "tkiHMFNu-bRk"
   },
   "outputs": [],
   "source": [
    "#learner.save(TASS_PATH+'lm1')\n",
    "#learner.save_encoder(TASS_PATH+'lm1_enc')\n",
    "\n",
    "learner.load(TASS_PATH +'lm1')\n",
    "learner.save_encoder(TASS_PATH +'lm1_enc')"
   ]
  },
  {
   "cell_type": "code",
   "execution_count": 29,
   "metadata": {
    "colab": {
     "base_uri": "https://localhost:8080/",
     "height": 347
    },
    "colab_type": "code",
    "id": "Un4dBtEB-lhn",
    "outputId": "09108154-4aad-493d-c0ad-c42f3b469def"
   },
   "outputs": [
    {
     "data": {
      "image/png": "[encoded data removed]",
      "text/plain": [
       "<Figure size 576x396 with 1 Axes>"
      ]
     },
     "metadata": {
      "tags": []
     },
     "output_type": "display_data"
    }
   ],
   "source": [
    "learner.sched.plot_loss()"
   ]
  },
  {
   "cell_type": "markdown",
   "metadata": {
    "colab_type": "text",
    "id": "i6SfE8Rd26uh"
   },
   "source": [
    "## Clasifier"
   ]
  },
  {
   "cell_type": "code",
   "execution_count": 0,
   "metadata": {
    "colab": {},
    "colab_type": "code",
    "id": "4LCiOSp7_g2z"
   },
   "outputs": [],
   "source": [
    "train_labels = np.squeeze(np.load(DATA_PATH + 'ulmfit/tmp/train_labels.npy'))\n",
    "test_labels  = np.squeeze(np.load(DATA_PATH + 'ulmfit/tmp/test_labels.npy'))"
   ]
  },
  {
   "cell_type": "code",
   "execution_count": 0,
   "metadata": {
    "colab": {},
    "colab_type": "code",
    "id": "_wYipWHb_y6b"
   },
   "outputs": [],
   "source": [
    "bptt,em_sz,nh,nl = 70,400,1150,3\n",
    "vs = len(itos)\n",
    "opt_fn = partial(optim.Adam, betas=(0.8, 0.99))\n",
    "bs = 48"
   ]
  },
  {
   "cell_type": "code",
   "execution_count": 32,
   "metadata": {
    "colab": {
     "base_uri": "https://localhost:8080/",
     "height": 52
    },
    "colab_type": "code",
    "id": "XFOkjB6E_5cT",
    "outputId": "21d8bc63-4cee-42df-8097-5133ed498005"
   },
   "outputs": [
    {
     "name": "stdout",
     "output_type": "stream",
     "text": [
      "0\n",
      "True\n"
     ]
    }
   ],
   "source": [
    "min_lbl = train_labels.min()\n",
    "print(min_lbl)\n",
    "c=int(train_labels.max())+1\n",
    "print(c == 2)"
   ]
  },
  {
   "cell_type": "code",
   "execution_count": 33,
   "metadata": {
    "colab": {
     "base_uri": "https://localhost:8080/",
     "height": 34
    },
    "colab_type": "code",
    "id": "yN8uQHcKWPgu",
    "outputId": "1df95a80-f9d0-4950-c3ca-4455952ed001"
   },
   "outputs": [
    {
     "data": {
      "text/plain": [
       "(736, 736, 375, 375)"
      ]
     },
     "execution_count": 33,
     "metadata": {
      "tags": []
     },
     "output_type": "execute_result"
    }
   ],
   "source": [
    "len(train_ids), len(train_labels), len(test_ids), len(test_labels)"
   ]
  },
  {
   "cell_type": "code",
   "execution_count": 0,
   "metadata": {
    "colab": {},
    "colab_type": "code",
    "id": "e-m3GWJqAa20"
   },
   "outputs": [],
   "source": [
    "trn_ds   = TextDataset(train_ids, train_labels)\n",
    "val_ds   = TextDataset(test_ids, test_labels)\n",
    "\n",
    "trn_samp = SortishSampler(train_ids, key=lambda x: len(train_ids[x]), bs=bs//2)\n",
    "val_samp = SortSampler(test_ids, key=lambda x: len(test_ids[x]))\n",
    "\n",
    "trn_dl   = DataLoader(trn_ds, bs//2, transpose=True, num_workers=1, pad_idx=1, sampler=trn_samp)\n",
    "val_dl   = DataLoader(val_ds, bs, transpose=True, num_workers=1, pad_idx=1, sampler=val_samp)\n",
    "\n",
    "md       = ModelData(ULMFIT_PATH, trn_dl, trn_dl)"
   ]
  },
  {
   "cell_type": "code",
   "execution_count": 0,
   "metadata": {
    "colab": {},
    "colab_type": "code",
    "id": "KgliSJbTBDjv"
   },
   "outputs": [],
   "source": [
    "dps = np.array([0.4,0.5,0.05,0.3,0.1])"
   ]
  },
  {
   "cell_type": "code",
   "execution_count": 0,
   "metadata": {
    "colab": {},
    "colab_type": "code",
    "id": "81IwE04cCHC8"
   },
   "outputs": [],
   "source": [
    "def get_rnn_classifier(bptt, max_seq, n_class, n_tok, emb_sz, n_hid, n_layers, pad_token, layers, drops, bidir=False,\n",
    "                       dropouth=0.3, dropouti=0.5, dropoute=0.1, wdrop=0.5):\n",
    "  \n",
    "  rnn_enc = MultiBatchRNN(bptt, max_seq, n_tok, emb_sz, n_hid, n_layers, pad_token=pad_token, bidir=bidir,\n",
    "                          dropouth=dropouth, dropouti=dropouti, dropoute=dropoute, wdrop=wdrop)\n",
    "  \n",
    "  return SequentialRNN(rnn_enc, PoolingLinearClassifier(layers, drops))"
   ]
  },
  {
   "cell_type": "code",
   "execution_count": 0,
   "metadata": {
    "colab": {},
    "colab_type": "code",
    "id": "g14tzfpVBDm3"
   },
   "outputs": [],
   "source": [
    "m = get_rnn_classifier(bptt, 20*70, c, vs, emb_sz=em_sz, n_hid=nh, n_layers=nl, pad_token=1,\n",
    "          layers=[em_sz*3, 50, c], drops=[dps[4], 0.1],\n",
    "          dropouti=dps[0], wdrop=dps[1], dropoute=dps[2], dropouth=dps[3])"
   ]
  },
  {
   "cell_type": "code",
   "execution_count": 0,
   "metadata": {
    "colab": {},
    "colab_type": "code",
    "id": "zkYfrRh9BDpy"
   },
   "outputs": [],
   "source": [
    "opt_fn = partial(optim.Adam, betas=(0.7, 0.99))"
   ]
  },
  {
   "cell_type": "code",
   "execution_count": 0,
   "metadata": {
    "colab": {},
    "colab_type": "code",
    "id": "lgeslpMSBr9y"
   },
   "outputs": [],
   "source": [
    "learn = RNN_Learner(md, TextModel(to_gpu(m)), opt_fn=opt_fn)\n",
    "learn.reg_fn = partial(seq2seq_reg, alpha=2, beta=1)\n",
    "learn.clip= .25\n",
    "learn.metrics = [accuracy]"
   ]
  },
  {
   "cell_type": "code",
   "execution_count": 0,
   "metadata": {
    "colab": {},
    "colab_type": "code",
    "id": "mVSz7IoVBukx"
   },
   "outputs": [],
   "source": [
    "lr  = 1e-4\n",
    "lrm = 2.6\n",
    "lrs = np.array([lr/(lrm**4), lr/(lrm**3), lr/(lrm**2), lr/lrm, lr])"
   ]
  },
  {
   "cell_type": "code",
   "execution_count": 0,
   "metadata": {
    "colab": {},
    "colab_type": "code",
    "id": "svvxesOfDK43"
   },
   "outputs": [],
   "source": [
    "lrs=np.array([1e-4,1e-4,1e-4,1e-3,1e-2])"
   ]
  },
  {
   "cell_type": "code",
   "execution_count": 0,
   "metadata": {
    "colab": {},
    "colab_type": "code",
    "id": "PdO4MIZDDO7d"
   },
   "outputs": [],
   "source": [
    "wd = 1e-3\n",
    "learn.load_encoder(TASS_PATH + 'lm1_enc')"
   ]
  },
  {
   "cell_type": "code",
   "execution_count": 0,
   "metadata": {
    "colab": {},
    "colab_type": "code",
    "id": "Qu0aC0_ADQ4U"
   },
   "outputs": [],
   "source": [
    "learn.freeze_to(-1)"
   ]
  },
  {
   "cell_type": "code",
   "execution_count": 44,
   "metadata": {
    "colab": {
     "base_uri": "https://localhost:8080/",
     "height": 86
    },
    "colab_type": "code",
    "id": "I4FWdY5XDX97",
    "outputId": "aac657dc-51c6-4ec2-c149-1e0fb3140ba7"
   },
   "outputs": [
    {
     "data": {
      "application/vnd.jupyter.widget-view+json": {
       "model_id": "5981c723c48946b8974e56c222be0dc8",
       "version_major": 2,
       "version_minor": 0
      },
      "text/plain": [
       "HBox(children=(IntProgress(value=0, description='Epoch', max=1, style=ProgressStyle(description_width='initial…"
      ]
     },
     "metadata": {
      "tags": []
     },
     "output_type": "display_data"
    },
    {
     "name": "stdout",
     "output_type": "stream",
     "text": [
      "epoch      trn_loss   val_loss   accuracy   \n",
      "    0      0.70513    0.674016   0.601838  \n"
     ]
    },
    {
     "data": {
      "text/plain": [
       "[array([0.67402]), 0.601837737470623]"
      ]
     },
     "execution_count": 44,
     "metadata": {
      "tags": []
     },
     "output_type": "execute_result"
    }
   ],
   "source": [
    "learn.fit(lrs, 1, wds=wd, cycle_len=1, use_clr=(8,3))"
   ]
  },
  {
   "cell_type": "code",
   "execution_count": 0,
   "metadata": {
    "colab": {},
    "colab_type": "code",
    "id": "PCbWSvmvOKi7"
   },
   "outputs": [],
   "source": [
    "learn.save(TASS_PATH + 'clas2_0')"
   ]
  },
  {
   "cell_type": "code",
   "execution_count": 0,
   "metadata": {
    "colab": {},
    "colab_type": "code",
    "id": "-hGDeJtlOL8e"
   },
   "outputs": [],
   "source": [
    "learn.load(TASS_PATH + 'clas2_0')"
   ]
  },
  {
   "cell_type": "code",
   "execution_count": 0,
   "metadata": {
    "colab": {},
    "colab_type": "code",
    "id": "JmoKmEHKDcsR"
   },
   "outputs": [],
   "source": [
    "learn.freeze_to(-2)"
   ]
  },
  {
   "cell_type": "code",
   "execution_count": 48,
   "metadata": {
    "colab": {
     "base_uri": "https://localhost:8080/",
     "height": 86
    },
    "colab_type": "code",
    "id": "Ge5ErmgADw8a",
    "outputId": "81743c27-4b3c-49c2-b1d1-ba423f6f403d"
   },
   "outputs": [
    {
     "data": {
      "application/vnd.jupyter.widget-view+json": {
       "model_id": "339d11832f7347baa919a729108e39ac",
       "version_major": 2,
       "version_minor": 0
      },
      "text/plain": [
       "HBox(children=(IntProgress(value=0, description='Epoch', max=1, style=ProgressStyle(description_width='initial…"
      ]
     },
     "metadata": {
      "tags": []
     },
     "output_type": "display_data"
    },
    {
     "name": "stdout",
     "output_type": "stream",
     "text": [
      "epoch      trn_loss   val_loss   accuracy   \n",
      "    0      0.687288   0.670961   0.59867   \n"
     ]
    },
    {
     "data": {
      "text/plain": [
       "[array([0.67096]), 0.5986700511066676]"
      ]
     },
     "execution_count": 48,
     "metadata": {
      "tags": []
     },
     "output_type": "execute_result"
    }
   ],
   "source": [
    "learn.fit(lrs, 1, wds=wd, cycle_len=1, use_clr=(8,3))"
   ]
  },
  {
   "cell_type": "code",
   "execution_count": 0,
   "metadata": {
    "colab": {},
    "colab_type": "code",
    "id": "OLc_4VToPJbu"
   },
   "outputs": [],
   "source": [
    "learn.save(TASS_PATH + 'clas2_1')"
   ]
  },
  {
   "cell_type": "code",
   "execution_count": 0,
   "metadata": {
    "colab": {},
    "colab_type": "code",
    "id": "NJogOQ69PQ0F"
   },
   "outputs": [],
   "source": [
    "learn.load(TASS_PATH + 'clas2_1')"
   ]
  },
  {
   "cell_type": "code",
   "execution_count": 0,
   "metadata": {
    "colab": {},
    "colab_type": "code",
    "id": "LiUQH46LDyUl"
   },
   "outputs": [],
   "source": [
    "learn.unfreeze()"
   ]
  },
  {
   "cell_type": "code",
   "execution_count": 58,
   "metadata": {
    "colab": {
     "base_uri": "https://localhost:8080/",
     "height": 764
    },
    "colab_type": "code",
    "id": "gTQ38y_QD0lr",
    "outputId": "6e415c5e-7284-445b-da20-b9ea4b28beb5"
   },
   "outputs": [
    {
     "data": {
      "application/vnd.jupyter.widget-view+json": {
       "model_id": "da5cd7c41518408d83f81aed8275471e",
       "version_major": 2,
       "version_minor": 0
      },
      "text/plain": [
       "HBox(children=(IntProgress(value=0, description='Epoch', max=40, style=ProgressStyle(description_width='initia…"
      ]
     },
     "metadata": {
      "tags": []
     },
     "output_type": "display_data"
    },
    {
     "name": "stdout",
     "output_type": "stream",
     "text": [
      "epoch      trn_loss   val_loss   accuracy   \n",
      "    0      0.53627    0.511174   0.749259  \n",
      "    1      0.558794   1.176536   0.422909  \n",
      "    2      0.576526   0.449654   0.812241  \n",
      "    3      0.57779    1.339003   0.5868    \n",
      "    4      0.57007    0.470206   0.770571  \n",
      "    5      0.55503    1.900282   0.443874  \n",
      "    6      0.550846   0.41218    0.800839  \n",
      "    7      0.521616   0.273318   0.898102  \n",
      "    8      0.511804   0.399333   0.841888  \n",
      "    9      0.492181   0.378301   0.832693  \n",
      "    10     0.487898   0.48334    0.833854  \n",
      "    11     0.468844   0.362321   0.840376  \n",
      "    12     0.464449   0.305735   0.877404  \n",
      "    13     0.43719    0.261425   0.912657  \n",
      "    14     0.439512   0.47822    0.739675  \n",
      "    15     0.42874    0.210226   0.937973  \n",
      "    16     0.416082   0.255656   0.92677   \n",
      "    17     0.391713   0.235278   0.924206  \n",
      "    18     0.388203   0.321785   0.865272  \n",
      "    19     0.388207   0.182314   0.934875  \n",
      "    20     0.392771   0.184788   0.932995  \n",
      "    21     0.38939    0.286756   0.868917  \n",
      "    22     0.365835   0.766947   0.726048  \n",
      "    23     0.373306   0.259606   0.952145  \n",
      "    24     0.365519   0.85534    0.657643  \n",
      "    25     0.36853    0.175588   0.951931  \n",
      "    26     0.369641   0.336198   0.852932  \n",
      "    27     0.359394   0.18254    0.949354  \n",
      "    28     0.353081   0.180495   0.934359  \n",
      "    29     0.331189   0.276926   0.860876  \n",
      "    30     0.33438    0.253376   0.916833  \n",
      "    31     0.327897   0.125704   0.964137  \n",
      "    32     0.31614    0.155901   0.961179  \n",
      "    33     0.322236   0.182804   0.93791   \n",
      "    34     0.315425   0.113675   0.974168  \n",
      "    35     0.29142    0.116452   0.966997  \n",
      "    36     0.28058    0.144118   0.956585  \n",
      "    37     0.293179   0.106495   0.970313  \n",
      "    38     0.278899   0.109405   0.976803  \n",
      "    39     0.2683     0.097207   0.979416  \n"
     ]
    },
    {
     "data": {
      "text/plain": [
       "[array([0.09721]), 0.9794159508159018]"
      ]
     },
     "execution_count": 58,
     "metadata": {
      "tags": []
     },
     "output_type": "execute_result"
    }
   ],
   "source": [
    "learn.fit(lrs*5, 1, wds=wd, cycle_len=40, use_clr=(32,10), best_save_name=TASS_PATH + 'clas2')"
   ]
  },
  {
   "cell_type": "code",
   "execution_count": 59,
   "metadata": {
    "colab": {
     "base_uri": "https://localhost:8080/",
     "height": 347
    },
    "colab_type": "code",
    "id": "4-lh9oEUD2DS",
    "outputId": "3b14de0d-7e9a-4139-a854-26bee6ef6621"
   },
   "outputs": [
    {
     "data": {
      "image/png": "[encoded data removed]",
      "text/plain": [
       "<Figure size 576x396 with 1 Axes>"
      ]
     },
     "metadata": {
      "tags": []
     },
     "output_type": "display_data"
    }
   ],
   "source": [
    "learn.sched.plot_loss()"
   ]
  },
  {
   "cell_type": "code",
   "execution_count": 0,
   "metadata": {
    "colab": {},
    "colab_type": "code",
    "id": "ZAR0SYdLhsAJ"
   },
   "outputs": [],
   "source": [
    "learn2 = RNN_Learner(md, TextModel(to_gpu(m)), opt_fn=opt_fn)\n",
    "learn2.reg_fn = partial(seq2seq_reg, alpha=2, beta=1)\n",
    "learn2.clip=.12\n",
    "learn2.metrics = [accuracy]\n",
    "\n",
    "learn2.load(TASS_PATH + 'clas2')\n",
    "mev = learn2.model\n",
    "mev[0].bs=1"
   ]
  },
  {
   "cell_type": "code",
   "execution_count": 61,
   "metadata": {
    "colab": {
     "base_uri": "https://localhost:8080/",
     "height": 34
    },
    "colab_type": "code",
    "id": "sRvhzD1C-P7K",
    "outputId": "f8da1087-210e-4125-9986-b0de56cef432"
   },
   "outputs": [
    {
     "name": "stdout",
     "output_type": "stream",
     "text": [
      "Train Accuracy =  97.14673913043478\n"
     ]
    }
   ],
   "source": [
    "c = 0\n",
    "\n",
    "train_ids_f = np.copy(train_ids)\n",
    "\n",
    "for i in range(len(train_ids_f)):\n",
    "  mev.eval()\n",
    "  mev.reset()\n",
    "  input_seq = np.array(train_ids_f[i]).reshape(-1,1)\n",
    "  p = mev(VV(input_seq))\n",
    " \n",
    "  if (to_np(torch.topk(p[0],1)[1])[0][0] == train_labels[i]):\n",
    "    c+=1\n",
    "\n",
    "print('Train Accuracy = ', 100*c / len(train_ids_f))"
   ]
  },
  {
   "cell_type": "code",
   "execution_count": 62,
   "metadata": {
    "colab": {
     "base_uri": "https://localhost:8080/",
     "height": 34
    },
    "colab_type": "code",
    "id": "d7wWd6hc_CoV",
    "outputId": "a287ec33-23d6-4c03-cda8-e2f04cb7fa07"
   },
   "outputs": [
    {
     "name": "stdout",
     "output_type": "stream",
     "text": [
      "Test Accuracy =  69.6\n"
     ]
    }
   ],
   "source": [
    "c = 0\n",
    "\n",
    "test_ids_f = np.copy(test_ids)\n",
    "\n",
    "for i in range(len(test_ids_f)):\n",
    "  mev.eval()\n",
    "  mev.reset()\n",
    "  input_seq = np.array(test_ids_f[i]).reshape(-1,1)\n",
    "  p = mev(VV(input_seq))\n",
    " \n",
    "  if (to_np(torch.topk(p[0],1)[1])[0][0] == test_labels[i]):\n",
    "    c+=1\n",
    "\n",
    "print('Test Accuracy = ', 100*c / len(test_ids_f))"
   ]
  },
  {
   "cell_type": "code",
   "execution_count": 0,
   "metadata": {
    "colab": {},
    "colab_type": "code",
    "id": "13-76Jts_zWs"
   },
   "outputs": [],
   "source": []
  }
 ],
 "metadata": {
  "accelerator": "GPU",
  "colab": {
   "collapsed_sections": [],
   "name": "ULMFit.ipynb",
   "provenance": [],
   "version": "0.3.2"
  },
  "kernelspec": {
   "display_name": "Python 3",
   "language": "python",
   "name": "python3"
  },
  "language_info": {
   "codemirror_mode": {
    "name": "ipython",
    "version": 3
   },
   "file_extension": ".py",
   "mimetype": "text/x-python",
   "name": "python",
   "nbconvert_exporter": "python",
   "pygments_lexer": "ipython3",
   "version": "3.6.7"
  }
 },
 "nbformat": 4,
 "nbformat_minor": 1
}
