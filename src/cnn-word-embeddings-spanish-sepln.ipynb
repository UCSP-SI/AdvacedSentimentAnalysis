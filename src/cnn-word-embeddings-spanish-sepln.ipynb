{
 "cells": [
  {
   "cell_type": "markdown",
   "metadata": {},
   "source": [
    "# Sentiment Analysis usando Deep Learning para español en textos cortos"
   ]
  },
  {
   "cell_type": "markdown",
   "metadata": {},
   "source": [
    "# 1. Data Cleaning "
   ]
  },
  {
   "cell_type": "markdown",
   "metadata": {},
   "source": [
    "We work on a dataset of tweets labelled as positive or negative, more information about the dataset \n",
    "can be found on http://www.sepln.org/workshops/tass/. "
   ]
  },
  {
   "cell_type": "markdown",
   "metadata": {},
   "source": [
    "# 2. Vocabulary"
   ]
  },
  {
   "cell_type": "markdown",
   "metadata": {},
   "source": [
    "## 2.2 Getting train, validation and test subsets"
   ]
  },
  {
   "cell_type": "code",
   "execution_count": 1,
   "metadata": {},
   "outputs": [
    {
     "name": "stderr",
     "output_type": "stream",
     "text": [
      "D:\\opt\\Anaconda3\\envs\\py3.7\\lib\\site-packages\\gensim\\utils.py:1197: UserWarning: detected Windows; aliasing chunkize to chunkize_serial\n",
      "  warnings.warn(\"detected Windows; aliasing chunkize to chunkize_serial\")\n"
     ]
    }
   ],
   "source": [
    "import lib.xmlreader as xml\n",
    "import lib.utils as ut\n",
    "import numpy as np\n",
    "import pandas as pd\n",
    "from sklearn.feature_extraction.text import CountVectorizer\n",
    "import gensim.models.word2vec"
   ]
  },
  {
   "cell_type": "code",
   "execution_count": 2,
   "metadata": {},
   "outputs": [],
   "source": [
    "train_docs = xml.readXML(\"../database/TASS/TASS2018/task1-Training.xml\",[0,1,2,3])\n",
    "val_docs   = xml.readXML(\"../database/TASS/TASS2018/task1-Development.xml\",[0,1,2,3])"
   ]
  },
  {
   "cell_type": "code",
   "execution_count": 3,
   "metadata": {},
   "outputs": [],
   "source": [
    "train_tweets = []\n",
    "train_labels = []\n",
    "for doc in train_docs:\n",
    "    # train_tweets.append(ut.tokenize(doc.content, 0)['clean'])\n",
    "    train_tweets.append(doc.content)\n",
    "    train_labels.append(doc.polarity)\n",
    "\n",
    "val_tweets = []\n",
    "val_labels = []\n",
    "for doc in val_docs:\n",
    "    # test_tweets.append(ut.tokenize(doc.content, 0)['clean'])\n",
    "    val_tweets.append(doc.content)\n",
    "    val_labels.append(doc.polarity)"
   ]
  },
  {
   "cell_type": "code",
   "execution_count": 4,
   "metadata": {},
   "outputs": [
    {
     "data": {
      "text/plain": [
       "(1000, 500)"
      ]
     },
     "execution_count": 4,
     "metadata": {},
     "output_type": "execute_result"
    }
   ],
   "source": [
    "len(train_tweets), len(val_tweets)"
   ]
  },
  {
   "cell_type": "code",
   "execution_count": 5,
   "metadata": {},
   "outputs": [
    {
     "name": "stdout",
     "output_type": "stream",
     "text": [
      "Positive Sentences = 242\n",
      "Negative Sentences = 231\n",
      "Neutral  Sentences = 166\n",
      "None Values        = 361\n"
     ]
    }
   ],
   "source": [
    "POSI_train_docs = [train_docs[i] for i in range(len(train_labels)) if train_labels[i] == 0]\n",
    "NEGA_train_docs = [train_docs[i] for i in range(len(train_labels)) if train_labels[i] == 1]\n",
    "NEUT_train_docs = [train_docs[i] for i in range(len(train_labels)) if train_labels[i] == 2]\n",
    "NONE_train_docs = [train_docs[i] for i in range(len(train_labels)) if train_labels[i] == 3]\n",
    "\n",
    "level_train_docs = [POSI_train_docs,NEGA_train_docs,NEUT_train_docs,NONE_train_docs]\n",
    "\n",
    "fmt = \"\"\"Positive Sentences = {:d}\n",
    "       \\rNegative Sentences = {:d}\n",
    "       \\rNeutral  Sentences = {:d}\n",
    "       \\rNone Values        = {:d}\"\"\"\n",
    "\n",
    "print(fmt.format(len(POSI_train_docs),\n",
    "                 len(NEGA_train_docs),\n",
    "                 len(NEUT_train_docs),\n",
    "                 len(NONE_train_docs)))"
   ]
  },
  {
   "cell_type": "code",
   "execution_count": 6,
   "metadata": {},
   "outputs": [
    {
     "name": "stdout",
     "output_type": "stream",
     "text": [
      "Minimum number of sentences per level :  166\n"
     ]
    }
   ],
   "source": [
    "minSentLvl = min(len(POSI_train_docs),len(NEGA_train_docs),len(NEUT_train_docs),len(NONE_train_docs))\n",
    "\n",
    "print('Minimum number of sentences per level : ', minSentLvl)"
   ]
  },
  {
   "cell_type": "code",
   "execution_count": 7,
   "metadata": {},
   "outputs": [
    {
     "name": "stdout",
     "output_type": "stream",
     "text": [
      "Maximum number of sentences per level :  361\n"
     ]
    }
   ],
   "source": [
    "maxSentLvl = max(len(POSI_train_docs),len(NEGA_train_docs),len(NEUT_train_docs),len(NONE_train_docs))\n",
    "\n",
    "print('Maximum number of sentences per level : ', maxSentLvl)"
   ]
  },
  {
   "cell_type": "code",
   "execution_count": 8,
   "metadata": {},
   "outputs": [],
   "source": [
    "maxSentLvl = max(len(POSI_train_docs), len(NEGA_train_docs),)"
   ]
  },
  {
   "cell_type": "code",
   "execution_count": 9,
   "metadata": {},
   "outputs": [],
   "source": [
    "import random\n",
    "\n",
    "new_train_docs = []\n",
    "for i in range(len(level_train_docs)):\n",
    "    level_per = random.sample(level_train_docs[i],len(level_train_docs[i]))\n",
    "    \n",
    "    if (maxSentLvl > len(level_train_docs[i])):\n",
    "        new_train_docs.append(level_train_docs[i] + level_per[: (maxSentLvl -len(level_train_docs[i]))])\n",
    "    else:\n",
    "        new_train_docs.append(level_per[:maxSentLvl])"
   ]
  },
  {
   "cell_type": "code",
   "execution_count": 10,
   "metadata": {},
   "outputs": [
    {
     "name": "stdout",
     "output_type": "stream",
     "text": [
      "New size of sentences:\n",
      "\n",
      "Positive Sentences = 242\n",
      "Negative Sentences = 242\n",
      "Neutral  Sentences = 242\n",
      "None Values        = 242\n"
     ]
    }
   ],
   "source": [
    "print(\"New size of sentences:\\n\")\n",
    "fmt = \"\"\"Positive Sentences = {:d}\n",
    "       \\rNegative Sentences = {:d}\n",
    "       \\rNeutral  Sentences = {:d}\n",
    "       \\rNone Values        = {:d}\"\"\"\n",
    "\n",
    "print(fmt.format(len(new_train_docs[0]),\n",
    "                 len(new_train_docs[1]),\n",
    "                 len(new_train_docs[2]),\n",
    "                 len(new_train_docs[3])))"
   ]
  },
  {
   "cell_type": "code",
   "execution_count": 11,
   "metadata": {},
   "outputs": [],
   "source": [
    "#flat_train_docs = [item for sublist in new_train_docs for item in sublist]\n",
    "#shuf_train_docs = random.sample(flat_train_docs,len(flat_train_docs))\n",
    "\n",
    "#assert (len(shuf_train_docs) == 4 * minSentLvl)\n",
    "#print(\"shuf_train_docs size = \", len(shuf_train_docs))"
   ]
  },
  {
   "cell_type": "code",
   "execution_count": 12,
   "metadata": {},
   "outputs": [
    {
     "name": "stdout",
     "output_type": "stream",
     "text": [
      "shuf_train_docs size =  968\n"
     ]
    }
   ],
   "source": [
    "flat_train_docs = [item for sublist in new_train_docs for item in sublist]\n",
    "shuf_train_docs = random.sample(flat_train_docs,len(flat_train_docs))\n",
    "\n",
    "assert (len(shuf_train_docs) == 4 * maxSentLvl)\n",
    "print(\"shuf_train_docs size = \", len(shuf_train_docs))"
   ]
  },
  {
   "cell_type": "code",
   "execution_count": 13,
   "metadata": {},
   "outputs": [],
   "source": [
    "corpus = []\n",
    "for doc in shuf_train_docs + val_docs:\n",
    "    corpus.append(doc.content)"
   ]
  },
  {
   "cell_type": "code",
   "execution_count": 14,
   "metadata": {},
   "outputs": [
    {
     "name": "stdout",
     "output_type": "stream",
     "text": [
      "Sentences =  1468\n"
     ]
    }
   ],
   "source": [
    "print(\"Sentences = \", (len(shuf_train_docs + val_docs)))"
   ]
  },
  {
   "cell_type": "code",
   "execution_count": 15,
   "metadata": {},
   "outputs": [],
   "source": [
    "shuf_train_labels = []\n",
    "for doc in shuf_train_docs:\n",
    "    shuf_train_labels.append(doc.polarity)\n",
    "    \n",
    "assert (len(shuf_train_labels) == len(shuf_train_docs))"
   ]
  },
  {
   "cell_type": "markdown",
   "metadata": {},
   "source": [
    "# 3. Preparing Data"
   ]
  },
  {
   "cell_type": "code",
   "execution_count": 16,
   "metadata": {},
   "outputs": [],
   "source": [
    "from gensim.models import KeyedVectors\n",
    "\n",
    "def gensim_load_vec(path=\"../database/embeddings/cc.es.300.bin\"):\n",
    "    #use gensim_emb.wv.index2word if used this way to load vectors\n",
    "    #gensim_emb = gensim.models.word2vec.Word2Vec.load(path)\n",
    "    gensim_emb =  gensim.models.KeyedVectors.load_word2vec_format(path, binary=True)\n",
    "    vocab = gensim_emb.index2word\n",
    "    vec = gensim_emb.syn0\n",
    "    shape = gensim_emb.syn0.shape\n",
    "    return gensim_emb, vec, shape, vocab\n",
    "\n",
    "from gensim.models.wrappers import FastText\n",
    "\n",
    "def gensim_load_fasttext(path=\"../database/embeddings/cc.es.300.bin\"):\n",
    "    gensim_emb = FastText.load_fasttext_format(path)\n",
    "    return gensim_emb"
   ]
  },
  {
   "cell_type": "code",
   "execution_count": 19,
   "metadata": {},
   "outputs": [],
   "source": [
    "# gensim_emb, vec, shape, vocab = gensim_load_vec()\n",
    "gensim_emb = gensim_load_fasttext()"
   ]
  },
  {
   "cell_type": "code",
   "execution_count": 20,
   "metadata": {},
   "outputs": [],
   "source": [
    "counter = CountVectorizer(tokenizer=ut.tokenizer)"
   ]
  },
  {
   "cell_type": "code",
   "execution_count": 21,
   "metadata": {},
   "outputs": [
    {
     "name": "stdout",
     "output_type": "stream",
     "text": [
      "(1468, 5213)\n"
     ]
    }
   ],
   "source": [
    "X = counter.fit_transform(corpus)\n",
    "print(X.shape)"
   ]
  },
  {
   "cell_type": "code",
   "execution_count": null,
   "metadata": {},
   "outputs": [],
   "source": []
  },
  {
   "cell_type": "code",
   "execution_count": 23,
   "metadata": {},
   "outputs": [
    {
     "name": "stdout",
     "output_type": "stream",
     "text": [
      "(5213, 300)\n"
     ]
    }
   ],
   "source": [
    "VOCAB_SIZE = X.shape[1]\n",
    "embedding_matrix = np.ones((VOCAB_SIZE, 300))\n",
    "for word in list(counter.vocabulary_.keys()):\n",
    "    try:\n",
    "        i = counter.vocabulary_[word]\n",
    "        embedding_matrix[i] = gensim_emb[word]\n",
    "    except KeyError:\n",
    "        pass\n",
    "print(embedding_matrix.shape)"
   ]
  },
  {
   "cell_type": "code",
   "execution_count": 24,
   "metadata": {},
   "outputs": [
    {
     "data": {
      "text/plain": [
       "True"
      ]
     },
     "execution_count": 24,
     "metadata": {},
     "output_type": "execute_result"
    }
   ],
   "source": [
    "np.array_equal(embedding_matrix[counter.vocabulary_['hola']], gensim_emb['hola'])"
   ]
  },
  {
   "cell_type": "code",
   "execution_count": 25,
   "metadata": {},
   "outputs": [],
   "source": [
    "test_docs   = xml.readXMLTest(\"../database/TASS/TASS2018/task1-Test.xml\")"
   ]
  },
  {
   "cell_type": "code",
   "execution_count": 26,
   "metadata": {},
   "outputs": [],
   "source": [
    "test_tweets = []\n",
    "for doc in test_docs:\n",
    "    test_tweets.append(doc.content)"
   ]
  },
  {
   "cell_type": "code",
   "execution_count": 27,
   "metadata": {},
   "outputs": [],
   "source": [
    "assert (len(test_tweets) == 1428)"
   ]
  },
  {
   "cell_type": "code",
   "execution_count": 28,
   "metadata": {},
   "outputs": [],
   "source": [
    "sequences = []\n",
    "maxlen    = []\n",
    "\n",
    "for tweet in corpus + test_tweets:\n",
    "    sentence = []\n",
    "    for word in ut.tokenizer(tweet):\n",
    "        try:\n",
    "            i = counter.vocabulary_[word]\n",
    "            sentence.append(i)\n",
    "        except KeyError:\n",
    "            pass\n",
    "    maxlen.append(len(sentence))\n",
    "    sequences.append(sentence)"
   ]
  },
  {
   "cell_type": "code",
   "execution_count": 29,
   "metadata": {},
   "outputs": [
    {
     "name": "stdout",
     "output_type": "stream",
     "text": [
      "maxlen :  30\n",
      "minlen :  2\n"
     ]
    }
   ],
   "source": [
    "print(\"maxlen : \", max(maxlen))\n",
    "print(\"minlen : \", min(maxlen))"
   ]
  },
  {
   "cell_type": "code",
   "execution_count": 30,
   "metadata": {},
   "outputs": [],
   "source": [
    "assert (len(sequences) == (len(shuf_train_docs) + len(val_docs) + len(test_tweets)))"
   ]
  },
  {
   "cell_type": "code",
   "execution_count": 31,
   "metadata": {},
   "outputs": [
    {
     "name": "stderr",
     "output_type": "stream",
     "text": [
      "Using TensorFlow backend.\n"
     ]
    },
    {
     "name": "stdout",
     "output_type": "stream",
     "text": [
      "Shape of data train tensor: (968, 30)\n",
      "Shape of data val  tensor: (500, 30)\n",
      "Shape of data test  tensor: (1428, 30)\n"
     ]
    }
   ],
   "source": [
    "from keras.preprocessing.sequence import pad_sequences\n",
    "x_train_seq = pad_sequences(sequences[:len(shuf_train_docs)], maxlen=30)\n",
    "x_val_seq   = pad_sequences(sequences[len(shuf_train_docs):len(shuf_train_docs)+len(val_docs)], maxlen=30)\n",
    "x_test_seq  = pad_sequences(sequences[(len(shuf_train_docs)+len(val_docs)):], maxlen=30)\n",
    "print('Shape of data train tensor:', x_train_seq.shape)\n",
    "print('Shape of data val  tensor:', x_val_seq.shape)\n",
    "print('Shape of data test  tensor:', x_test_seq.shape)"
   ]
  },
  {
   "cell_type": "markdown",
   "metadata": {},
   "source": [
    "# Model: Convolutional Neural Network"
   ]
  },
  {
   "cell_type": "code",
   "execution_count": 32,
   "metadata": {},
   "outputs": [
    {
     "name": "stdout",
     "output_type": "stream",
     "text": [
      "['/job:localhost/replica:0/task:0/device:GPU:0']\n",
      "WARNING:tensorflow:From D:\\opt\\Anaconda3\\envs\\py3.7\\lib\\site-packages\\tensorflow\\python\\framework\\op_def_library.py:263: colocate_with (from tensorflow.python.framework.ops) is deprecated and will be removed in a future version.\n",
      "Instructions for updating:\n",
      "Colocations handled automatically by placer.\n",
      "WARNING:tensorflow:From D:\\opt\\Anaconda3\\envs\\py3.7\\lib\\site-packages\\keras\\backend\\tensorflow_backend.py:3445: calling dropout (from tensorflow.python.ops.nn_ops) with keep_prob is deprecated and will be removed in a future version.\n",
      "Instructions for updating:\n",
      "Please use `rate` instead of `keep_prob`. Rate should be set to `rate = 1 - keep_prob`.\n",
      "__________________________________________________________________________________________________\n",
      "Layer (type)                    Output Shape         Param #     Connected to                     \n",
      "==================================================================================================\n",
      "input_1 (InputLayer)            (None, 30)           0                                            \n",
      "__________________________________________________________________________________________________\n",
      "embedding_1 (Embedding)         (None, 30, 300)      1563900     input_1[0][0]                    \n",
      "__________________________________________________________________________________________________\n",
      "conv1d_1 (Conv1D)               (None, 29, 100)      60100       embedding_1[0][0]                \n",
      "__________________________________________________________________________________________________\n",
      "conv1d_2 (Conv1D)               (None, 28, 100)      90100       embedding_1[0][0]                \n",
      "__________________________________________________________________________________________________\n",
      "global_max_pooling1d_1 (GlobalM (None, 100)          0           conv1d_1[0][0]                   \n",
      "__________________________________________________________________________________________________\n",
      "global_max_pooling1d_2 (GlobalM (None, 100)          0           conv1d_2[0][0]                   \n",
      "__________________________________________________________________________________________________\n",
      "concatenate_1 (Concatenate)     (None, 200)          0           global_max_pooling1d_1[0][0]     \n",
      "                                                                 global_max_pooling1d_2[0][0]     \n",
      "__________________________________________________________________________________________________\n",
      "dense_1 (Dense)                 (None, 64)           12864       concatenate_1[0][0]              \n",
      "__________________________________________________________________________________________________\n",
      "dropout_1 (Dropout)             (None, 64)           0           dense_1[0][0]                    \n",
      "__________________________________________________________________________________________________\n",
      "dense_2 (Dense)                 (None, 4)            260         dropout_1[0][0]                  \n",
      "__________________________________________________________________________________________________\n",
      "activation_1 (Activation)       (None, 4)            0           dense_2[0][0]                    \n",
      "==================================================================================================\n",
      "Total params: 1,727,224\n",
      "Trainable params: 1,727,224\n",
      "Non-trainable params: 0\n",
      "__________________________________________________________________________________________________\n"
     ]
    }
   ],
   "source": [
    "import tensorflow as tf\n",
    "import keras \n",
    "\n",
    "from keras import backend as K\n",
    "print(K.tensorflow_backend._get_available_gpus())\n",
    "\n",
    "\n",
    "config = tf.ConfigProto(intra_op_parallelism_threads=4, \\\n",
    "                        inter_op_parallelism_threads=4, \\\n",
    "                        allow_soft_placement=True,\\\n",
    "                        device_count = {'CPU' : 1, 'GPU' : 0})\n",
    "\n",
    "sess = tf.Session(config=config)\n",
    "K.set_session(sess)\n",
    "    \n",
    "seed = 0\n",
    "\n",
    "from keras.models import Sequential\n",
    "from keras.layers import Dense, Dropout\n",
    "from keras.layers import Flatten\n",
    "from keras.layers.embeddings import Embedding\n",
    "\n",
    "from keras.layers import Input, Dense, concatenate, Activation\n",
    "from keras.models import Model\n",
    "from keras.layers import Conv1D, GlobalMaxPooling1D\n",
    "\n",
    "tweet_input = Input(shape=(30,), dtype='int32')\n",
    "\n",
    "tweet_encoder   = Embedding(VOCAB_SIZE, 300, weights=[embedding_matrix], input_length=30, trainable=True)(tweet_input)\n",
    "bigram_branch   = Conv1D(filters=100, kernel_size=2, padding='valid', activation='relu', strides=1)(tweet_encoder)\n",
    "bigram_branch   = GlobalMaxPooling1D()(bigram_branch)\n",
    "trigram_branch  = Conv1D(filters=100, kernel_size=3, padding='valid', activation='relu', strides=1)(tweet_encoder)\n",
    "trigram_branch  = GlobalMaxPooling1D()(trigram_branch)\n",
    "fourgram_branch = Conv1D(filters=100, kernel_size=4, padding='valid', activation='relu', strides=1)(tweet_encoder)\n",
    "fourgram_branch = GlobalMaxPooling1D()(fourgram_branch)\n",
    "#merged = concatenate([bigram_branch, trigram_branch, fourgram_branch], axis=1)\n",
    "\n",
    "merged = concatenate([bigram_branch, trigram_branch], axis=1)\n",
    "merged = Dense(64, activation='relu')(merged)\n",
    "merged = Dropout(0.5)(merged)\n",
    "\n",
    "merged = Dense(4)(merged)\n",
    "output = Activation('softmax')(merged)\n",
    "model = Model(inputs=[tweet_input], outputs=[output])\n",
    "model.compile(loss='binary_crossentropy',\n",
    "                  optimizer='adam',\n",
    "                  metrics=['accuracy'])\n",
    "model.summary()"
   ]
  },
  {
   "cell_type": "code",
   "execution_count": 33,
   "metadata": {},
   "outputs": [
    {
     "name": "stdout",
     "output_type": "stream",
     "text": [
      "Positive Sentences = 106\n",
      "Negative Sentences = 95\n",
      "Neutral  Sentences = 61\n",
      "None Values        = 238\n"
     ]
    }
   ],
   "source": [
    "import random\n",
    "\n",
    "POSI_val_docs = [val_docs[i] for i in range(len(val_labels)) if val_labels[i] == 0]\n",
    "NEGA_val_docs = [val_docs[i] for i in range(len(val_labels)) if val_labels[i] == 1]\n",
    "NEUT_val_docs = [val_docs[i] for i in range(len(val_labels)) if val_labels[i] == 2]\n",
    "NONE_val_docs = [val_docs[i] for i in range(len(val_labels)) if val_labels[i] == 3]\n",
    "\n",
    "level_val_docs = [POSI_val_docs,NEGA_val_docs,NEUT_val_docs,NONE_val_docs]\n",
    "\n",
    "fmt = \"\"\"Positive Sentences = {:d}\n",
    "       \\rNegative Sentences = {:d}\n",
    "       \\rNeutral  Sentences = {:d}\n",
    "       \\rNone Values        = {:d}\"\"\"\n",
    "\n",
    "print(fmt.format(len(POSI_val_docs),\n",
    "                 len(NEGA_val_docs),\n",
    "                 len(NEUT_val_docs),\n",
    "                 len(NONE_val_docs)))\n",
    "\n"
   ]
  },
  {
   "cell_type": "code",
   "execution_count": 34,
   "metadata": {},
   "outputs": [],
   "source": [
    "minSentLvl = min(len(POSI_val_docs), len(NEGA_val_docs),len(NEUT_val_docs),len(NONE_val_docs))"
   ]
  },
  {
   "cell_type": "code",
   "execution_count": 35,
   "metadata": {},
   "outputs": [],
   "source": [
    "new_val_docs = []\n",
    "for i in range(len(level_val_docs)):\n",
    "    level_per = random.sample(level_val_docs[i],len(level_val_docs[i]))\n",
    "    \n",
    "    new_val_docs.append(level_per[:minSentLvl])"
   ]
  },
  {
   "cell_type": "code",
   "execution_count": 36,
   "metadata": {},
   "outputs": [
    {
     "name": "stdout",
     "output_type": "stream",
     "text": [
      "New size of sentences:\n",
      "\n",
      "Positive Sentences = 61\n",
      "Negative Sentences = 61\n",
      "Neutral  Sentences = 61\n",
      "None Values        = 61\n"
     ]
    }
   ],
   "source": [
    "print(\"New size of sentences:\\n\")\n",
    "fmt = \"\"\"Positive Sentences = {:d}\n",
    "       \\rNegative Sentences = {:d}\n",
    "       \\rNeutral  Sentences = {:d}\n",
    "       \\rNone Values        = {:d}\"\"\"\n",
    "\n",
    "print(fmt.format(len(new_val_docs[0]),\n",
    "                 len(new_val_docs[1]),\n",
    "                 len(new_val_docs[2]),\n",
    "                 len(new_val_docs[3])))"
   ]
  },
  {
   "cell_type": "code",
   "execution_count": 37,
   "metadata": {},
   "outputs": [],
   "source": [
    "flat_val_docs = [item for sublist in new_val_docs for item in sublist]"
   ]
  },
  {
   "cell_type": "code",
   "execution_count": 38,
   "metadata": {},
   "outputs": [],
   "source": [
    "val_corpus  = []\n",
    "new_val_lab = []\n",
    "for doc in flat_val_docs:\n",
    "    val_corpus.append(doc.content)\n",
    "    new_val_lab.append(doc.polarity)"
   ]
  },
  {
   "cell_type": "code",
   "execution_count": 39,
   "metadata": {},
   "outputs": [],
   "source": [
    "seq_val = []\n",
    "\n",
    "for tweet in val_corpus:\n",
    "    sentence = []\n",
    "    for word in ut.tokenizer(tweet):\n",
    "        try:\n",
    "            i = counter.vocabulary_[word]\n",
    "            sentence.append(i)\n",
    "        except KeyError:\n",
    "            pass\n",
    "    seq_val.append(sentence)"
   ]
  },
  {
   "cell_type": "code",
   "execution_count": 40,
   "metadata": {},
   "outputs": [],
   "source": [
    "# seq_val"
   ]
  },
  {
   "cell_type": "code",
   "execution_count": 41,
   "metadata": {},
   "outputs": [],
   "source": [
    "x_eq_val_seq   = pad_sequences(seq_val, maxlen=30)"
   ]
  },
  {
   "cell_type": "code",
   "execution_count": 42,
   "metadata": {},
   "outputs": [
    {
     "name": "stdout",
     "output_type": "stream",
     "text": [
      "WARNING:tensorflow:From D:\\opt\\Anaconda3\\envs\\py3.7\\lib\\site-packages\\tensorflow\\python\\ops\\math_ops.py:3066: to_int32 (from tensorflow.python.ops.math_ops) is deprecated and will be removed in a future version.\n",
      "Instructions for updating:\n",
      "Use tf.cast instead.\n",
      "WARNING:tensorflow:From D:\\opt\\Anaconda3\\envs\\py3.7\\lib\\site-packages\\tensorflow\\python\\ops\\math_grad.py:102: div (from tensorflow.python.ops.math_ops) is deprecated and will be removed in a future version.\n",
      "Instructions for updating:\n",
      "Deprecated in favor of operator or tf.math.divide.\n",
      "Train on 968 samples, validate on 500 samples\n",
      "Epoch 1/50\n",
      "968/968 [==============================] - 2s 2ms/step - loss: 0.5789 - acc: 0.7477 - val_loss: 0.5486 - val_acc: 0.7500\n",
      "\n",
      "Epoch 00001: val_acc improved from -inf to 0.75000, saving model to model/CNN_2018_best_weights.01-0.7500.hdf5\n",
      "Epoch 2/50\n",
      "968/968 [==============================] - 1s 859us/step - loss: 0.5489 - acc: 0.7492 - val_loss: 0.5720 - val_acc: 0.7500\n",
      "\n",
      "Epoch 00002: val_acc did not improve from 0.75000\n",
      "Epoch 3/50\n",
      "968/968 [==============================] - 1s 1ms/step - loss: 0.5296 - acc: 0.7500 - val_loss: 0.5486 - val_acc: 0.7500\n",
      "\n",
      "Epoch 00003: val_acc did not improve from 0.75000\n",
      "Epoch 4/50\n",
      "968/968 [==============================] - 1s 1ms/step - loss: 0.4856 - acc: 0.7660 - val_loss: 0.5582 - val_acc: 0.7470\n",
      "\n",
      "Epoch 00004: val_acc did not improve from 0.75000\n",
      "Epoch 5/50\n",
      "968/968 [==============================] - 1s 872us/step - loss: 0.4471 - acc: 0.7893 - val_loss: 0.5584 - val_acc: 0.7455\n",
      "\n",
      "Epoch 00005: val_acc did not improve from 0.75000\n",
      "Epoch 6/50\n",
      "968/968 [==============================] - 1s 942us/step - loss: 0.3702 - acc: 0.8376 - val_loss: 0.5322 - val_acc: 0.7495\n",
      "\n",
      "Epoch 00006: val_acc did not improve from 0.75000\n",
      "Epoch 7/50\n",
      "968/968 [==============================] - 1s 932us/step - loss: 0.2972 - acc: 0.8869 - val_loss: 0.5533 - val_acc: 0.7385\n",
      "\n",
      "Epoch 00007: val_acc did not improve from 0.75000\n",
      "Epoch 8/50\n",
      "968/968 [==============================] - 1s 1ms/step - loss: 0.2226 - acc: 0.9349 - val_loss: 0.5380 - val_acc: 0.7420\n",
      "\n",
      "Epoch 00008: val_acc did not improve from 0.75000\n",
      "Epoch 9/50\n",
      "968/968 [==============================] - 1s 1ms/step - loss: 0.1418 - acc: 0.9724 - val_loss: 0.5731 - val_acc: 0.7315\n",
      "\n",
      "Epoch 00009: val_acc did not improve from 0.75000\n",
      "Epoch 10/50\n",
      "968/968 [==============================] - 1s 970us/step - loss: 0.0942 - acc: 0.9837 - val_loss: 0.5697 - val_acc: 0.7305\n",
      "\n",
      "Epoch 00010: val_acc did not improve from 0.75000\n",
      "Epoch 11/50\n",
      "968/968 [==============================] - 1s 899us/step - loss: 0.0646 - acc: 0.9892 - val_loss: 0.5687 - val_acc: 0.7395\n",
      "\n",
      "Epoch 00011: val_acc did not improve from 0.75000\n",
      "Epoch 12/50\n",
      "968/968 [==============================] - 1s 936us/step - loss: 0.0473 - acc: 0.9923 - val_loss: 0.5887 - val_acc: 0.7450\n",
      "\n",
      "Epoch 00012: val_acc did not improve from 0.75000\n",
      "Epoch 13/50\n",
      "968/968 [==============================] - 1s 990us/step - loss: 0.0343 - acc: 0.9969 - val_loss: 0.6185 - val_acc: 0.7255\n",
      "\n",
      "Epoch 00013: val_acc did not improve from 0.75000\n",
      "Epoch 14/50\n",
      "968/968 [==============================] - 1s 1ms/step - loss: 0.0258 - acc: 0.9966 - val_loss: 0.6247 - val_acc: 0.7345\n",
      "\n",
      "Epoch 00014: val_acc did not improve from 0.75000\n",
      "Epoch 15/50\n",
      "968/968 [==============================] - 1s 1ms/step - loss: 0.0192 - acc: 0.9982 - val_loss: 0.6216 - val_acc: 0.7300\n",
      "\n",
      "Epoch 00015: val_acc did not improve from 0.75000\n",
      "Epoch 16/50\n",
      "968/968 [==============================] - 1s 1ms/step - loss: 0.0156 - acc: 0.9979 - val_loss: 0.6779 - val_acc: 0.7165\n",
      "\n",
      "Epoch 00016: val_acc did not improve from 0.75000\n",
      "Epoch 17/50\n",
      "968/968 [==============================] - 1s 1ms/step - loss: 0.0132 - acc: 0.9987 - val_loss: 0.6611 - val_acc: 0.7305\n",
      "\n",
      "Epoch 00017: val_acc did not improve from 0.75000\n",
      "Epoch 18/50\n",
      "968/968 [==============================] - 1s 1ms/step - loss: 0.0114 - acc: 0.9992 - val_loss: 0.6757 - val_acc: 0.7205\n",
      "\n",
      "Epoch 00018: val_acc did not improve from 0.75000\n",
      "Epoch 19/50\n",
      "968/968 [==============================] - 1s 1ms/step - loss: 0.0100 - acc: 0.9995 - val_loss: 0.7164 - val_acc: 0.7140\n",
      "\n",
      "Epoch 00019: val_acc did not improve from 0.75000\n",
      "Epoch 20/50\n",
      "968/968 [==============================] - 1s 1ms/step - loss: 0.0095 - acc: 0.9995 - val_loss: 0.7268 - val_acc: 0.7265\n",
      "\n",
      "Epoch 00020: val_acc did not improve from 0.75000\n",
      "Epoch 21/50\n",
      "968/968 [==============================] - 1s 1ms/step - loss: 0.0083 - acc: 0.9997 - val_loss: 0.7352 - val_acc: 0.7235\n",
      "\n",
      "Epoch 00021: val_acc did not improve from 0.75000\n",
      "Epoch 22/50\n",
      "968/968 [==============================] - 1s 1ms/step - loss: 0.0061 - acc: 0.9995 - val_loss: 0.7612 - val_acc: 0.7175\n",
      "\n",
      "Epoch 00022: val_acc did not improve from 0.75000\n",
      "Epoch 23/50\n",
      "968/968 [==============================] - 1s 1ms/step - loss: 0.0046 - acc: 1.0000 - val_loss: 0.7453 - val_acc: 0.7210\n",
      "\n",
      "Epoch 00023: val_acc did not improve from 0.75000\n",
      "Epoch 24/50\n",
      "968/968 [==============================] - 1s 1ms/step - loss: 0.0071 - acc: 0.9995 - val_loss: 0.7653 - val_acc: 0.7200\n",
      "\n",
      "Epoch 00024: val_acc did not improve from 0.75000\n",
      "Epoch 25/50\n",
      "968/968 [==============================] - 1s 1ms/step - loss: 0.0059 - acc: 1.0000 - val_loss: 0.7486 - val_acc: 0.7235\n",
      "\n",
      "Epoch 00025: val_acc did not improve from 0.75000\n",
      "Epoch 26/50\n",
      "968/968 [==============================] - 1s 1ms/step - loss: 0.0056 - acc: 0.9990 - val_loss: 0.8189 - val_acc: 0.7165\n",
      "\n",
      "Epoch 00026: val_acc did not improve from 0.75000\n",
      "Epoch 27/50\n",
      "968/968 [==============================] - 1s 1ms/step - loss: 0.0048 - acc: 0.9997 - val_loss: 0.7835 - val_acc: 0.7165\n",
      "\n",
      "Epoch 00027: val_acc did not improve from 0.75000\n",
      "Epoch 28/50\n",
      "968/968 [==============================] - 1s 1ms/step - loss: 0.0042 - acc: 0.9995 - val_loss: 0.7855 - val_acc: 0.7215\n",
      "\n",
      "Epoch 00028: val_acc did not improve from 0.75000\n",
      "Epoch 29/50\n",
      "968/968 [==============================] - 1s 1ms/step - loss: 0.0036 - acc: 0.9997 - val_loss: 0.8129 - val_acc: 0.7145\n",
      "\n",
      "Epoch 00029: val_acc did not improve from 0.75000\n",
      "Epoch 30/50\n",
      "968/968 [==============================] - 1s 1ms/step - loss: 0.0026 - acc: 1.0000 - val_loss: 0.8150 - val_acc: 0.7200\n",
      "\n",
      "Epoch 00030: val_acc did not improve from 0.75000\n",
      "Epoch 31/50\n",
      "968/968 [==============================] - 1s 1ms/step - loss: 0.0028 - acc: 1.0000 - val_loss: 0.8271 - val_acc: 0.7170\n",
      "\n",
      "Epoch 00031: val_acc did not improve from 0.75000\n",
      "Epoch 32/50\n",
      "968/968 [==============================] - 1s 1ms/step - loss: 0.0027 - acc: 1.0000 - val_loss: 0.8413 - val_acc: 0.7185\n",
      "\n",
      "Epoch 00032: val_acc did not improve from 0.75000\n",
      "Epoch 33/50\n",
      "968/968 [==============================] - 1s 1ms/step - loss: 0.0027 - acc: 1.0000 - val_loss: 0.8926 - val_acc: 0.7070\n",
      "\n",
      "Epoch 00033: val_acc did not improve from 0.75000\n",
      "Epoch 34/50\n",
      "968/968 [==============================] - 1s 1ms/step - loss: 0.0027 - acc: 0.9997 - val_loss: 0.8740 - val_acc: 0.7085\n",
      "\n",
      "Epoch 00034: val_acc did not improve from 0.75000\n",
      "Epoch 35/50\n",
      "968/968 [==============================] - 1s 1ms/step - loss: 0.0023 - acc: 1.0000 - val_loss: 0.9168 - val_acc: 0.7040\n",
      "\n",
      "Epoch 00035: val_acc did not improve from 0.75000\n",
      "Epoch 36/50\n",
      "968/968 [==============================] - 1s 1ms/step - loss: 0.0022 - acc: 1.0000 - val_loss: 0.8718 - val_acc: 0.7055\n",
      "\n",
      "Epoch 00036: val_acc did not improve from 0.75000\n",
      "Epoch 37/50\n",
      "968/968 [==============================] - 1s 1ms/step - loss: 0.0018 - acc: 1.0000 - val_loss: 0.8500 - val_acc: 0.7155\n",
      "\n",
      "Epoch 00037: val_acc did not improve from 0.75000\n",
      "Epoch 38/50\n",
      "968/968 [==============================] - 1s 1ms/step - loss: 0.0019 - acc: 1.0000 - val_loss: 0.8864 - val_acc: 0.7065\n",
      "\n",
      "Epoch 00038: val_acc did not improve from 0.75000\n",
      "Epoch 39/50\n",
      "968/968 [==============================] - 1s 1ms/step - loss: 0.0018 - acc: 0.9995 - val_loss: 0.9276 - val_acc: 0.7030\n",
      "\n",
      "Epoch 00039: val_acc did not improve from 0.75000\n",
      "Epoch 40/50\n",
      "968/968 [==============================] - 1s 1ms/step - loss: 0.0025 - acc: 0.9995 - val_loss: 1.0040 - val_acc: 0.7015\n",
      "\n",
      "Epoch 00040: val_acc did not improve from 0.75000\n",
      "Epoch 41/50\n",
      "968/968 [==============================] - 1s 1ms/step - loss: 0.0014 - acc: 1.0000 - val_loss: 0.9148 - val_acc: 0.7055\n",
      "\n",
      "Epoch 00041: val_acc did not improve from 0.75000\n",
      "Epoch 42/50\n",
      "968/968 [==============================] - 1s 1ms/step - loss: 0.0019 - acc: 1.0000 - val_loss: 0.9051 - val_acc: 0.7095\n",
      "\n",
      "Epoch 00042: val_acc did not improve from 0.75000\n",
      "Epoch 43/50\n",
      "968/968 [==============================] - 1s 1ms/step - loss: 0.0015 - acc: 1.0000 - val_loss: 0.9696 - val_acc: 0.6995\n",
      "\n",
      "Epoch 00043: val_acc did not improve from 0.75000\n",
      "Epoch 44/50\n",
      "968/968 [==============================] - 1s 1ms/step - loss: 0.0013 - acc: 1.0000 - val_loss: 0.9596 - val_acc: 0.6935\n",
      "\n",
      "Epoch 00044: val_acc did not improve from 0.75000\n",
      "Epoch 45/50\n",
      "968/968 [==============================] - 1s 1ms/step - loss: 0.0014 - acc: 1.0000 - val_loss: 0.9293 - val_acc: 0.7020\n",
      "\n",
      "Epoch 00045: val_acc did not improve from 0.75000\n",
      "Epoch 46/50\n",
      "968/968 [==============================] - 1s 1ms/step - loss: 0.0013 - acc: 1.0000 - val_loss: 0.9739 - val_acc: 0.7030\n",
      "\n",
      "Epoch 00046: val_acc did not improve from 0.75000\n",
      "Epoch 47/50\n",
      "968/968 [==============================] - 1s 1ms/step - loss: 0.0011 - acc: 1.0000 - val_loss: 1.0036 - val_acc: 0.6920\n",
      "\n",
      "Epoch 00047: val_acc did not improve from 0.75000\n",
      "Epoch 48/50\n",
      "968/968 [==============================] - 1s 1ms/step - loss: 6.4990e-04 - acc: 1.0000 - val_loss: 0.9977 - val_acc: 0.6940\n",
      "\n",
      "Epoch 00048: val_acc did not improve from 0.75000\n",
      "Epoch 49/50\n",
      "968/968 [==============================] - 1s 1ms/step - loss: 8.3222e-04 - acc: 1.0000 - val_loss: 1.0036 - val_acc: 0.6945\n",
      "\n",
      "Epoch 00049: val_acc did not improve from 0.75000\n",
      "Epoch 50/50\n",
      "968/968 [==============================] - 1s 1ms/step - loss: 0.0011 - acc: 1.0000 - val_loss: 1.0547 - val_acc: 0.6930\n",
      "\n",
      "Epoch 00050: val_acc did not improve from 0.75000\n"
     ]
    },
    {
     "data": {
      "text/plain": [
       "<keras.callbacks.History at 0x1d5d8c790b8>"
      ]
     },
     "execution_count": 42,
     "metadata": {},
     "output_type": "execute_result"
    }
   ],
   "source": [
    "from keras.callbacks import ModelCheckpoint\n",
    "from keras.utils import to_categorical\n",
    "\n",
    "filepath=\"model/CNN_2018_best_weights.{epoch:02d}-{val_acc:.4f}.hdf5\"\n",
    "checkpoint = ModelCheckpoint(filepath, monitor='val_acc', verbose=1, save_best_only=True, mode='max')\n",
    "\n",
    "model.fit(x_train_seq, to_categorical(shuf_train_labels), batch_size=64, epochs=50,\n",
    "                     validation_data=(x_val_seq, to_categorical(val_labels)), shuffle=True, callbacks = [checkpoint])"
   ]
  },
  {
   "cell_type": "code",
   "execution_count": 43,
   "metadata": {},
   "outputs": [],
   "source": [
    "#np.argmax(model.predict(x_val_seq),axis=1)"
   ]
  },
  {
   "cell_type": "code",
   "execution_count": 44,
   "metadata": {},
   "outputs": [
    {
     "data": {
      "text/plain": [
       "0.36501750693973667"
      ]
     },
     "execution_count": 44,
     "metadata": {},
     "output_type": "execute_result"
    }
   ],
   "source": [
    "from sklearn.metrics import f1_score\n",
    "\n",
    "f1_score(np.argmax(model.predict(x_eq_val_seq), axis=1), new_val_lab, average='macro')"
   ]
  },
  {
   "cell_type": "code",
   "execution_count": 45,
   "metadata": {},
   "outputs": [
    {
     "name": "stdout",
     "output_type": "stream",
     "text": [
      "244/244 [==============================] - 0s 197us/step\n"
     ]
    },
    {
     "data": {
      "text/plain": [
       "[0.9904576481365767, 0.702868851481891]"
      ]
     },
     "execution_count": 45,
     "metadata": {},
     "output_type": "execute_result"
    }
   ],
   "source": [
    "model.evaluate(x=x_eq_val_seq, y=to_categorical(new_val_lab))"
   ]
  },
  {
   "cell_type": "code",
   "execution_count": 47,
   "metadata": {},
   "outputs": [
    {
     "name": "stdout",
     "output_type": "stream",
     "text": [
      "244/244 [==============================] - 0s 467us/step\n"
     ]
    },
    {
     "data": {
      "text/plain": [
       "[0.5616409974020036, 0.75]"
      ]
     },
     "execution_count": 47,
     "metadata": {},
     "output_type": "execute_result"
    }
   ],
   "source": [
    "from keras.models import load_model\n",
    "\n",
    "loaded_CNN_model = load_model('model/CNN_2018_best_weights.01-0.7500.hdf5')\n",
    "loaded_CNN_model.evaluate(x=x_eq_val_seq, y=to_categorical(new_val_lab))"
   ]
  },
  {
   "cell_type": "code",
   "execution_count": 48,
   "metadata": {},
   "outputs": [
    {
     "name": "stderr",
     "output_type": "stream",
     "text": [
      "D:\\opt\\Anaconda3\\envs\\py3.7\\lib\\site-packages\\sklearn\\metrics\\classification.py:1145: UndefinedMetricWarning: F-score is ill-defined and being set to 0.0 in labels with no true samples.\n",
      "  'recall', 'true', average, warn_for)\n"
     ]
    },
    {
     "data": {
      "text/plain": [
       "0.16721401204159825"
      ]
     },
     "execution_count": 48,
     "metadata": {},
     "output_type": "execute_result"
    }
   ],
   "source": [
    "from sklearn.metrics import f1_score\n",
    "\n",
    "f1_score(np.argmax(loaded_CNN_model.predict(x_eq_val_seq), axis=1), new_val_lab, average='macro')"
   ]
  },
  {
   "cell_type": "code",
   "execution_count": null,
   "metadata": {},
   "outputs": [],
   "source": [
    "#from keras.models import load_model\n",
    "\n",
    "#best_model = load_model('model/CNN_best_weights.01-0.7500.hdf5')"
   ]
  },
  {
   "cell_type": "code",
   "execution_count": 56,
   "metadata": {},
   "outputs": [],
   "source": [
    "test_values = np.argmax(loaded_CNN_model.predict(x_test_seq), axis = 1)"
   ]
  },
  {
   "cell_type": "code",
   "execution_count": 54,
   "metadata": {},
   "outputs": [],
   "source": [
    "def getLabel(num):\n",
    "    if num == 0:\n",
    "        return 'N'\n",
    "    elif num == 1:\n",
    "        return 'P'\n",
    "    elif num == 2:\n",
    "        return 'NEU'\n",
    "    elif num == 3:\n",
    "        return 'NONE'"
   ]
  },
  {
   "cell_type": "code",
   "execution_count": 57,
   "metadata": {},
   "outputs": [],
   "source": [
    "import xml.etree.ElementTree as ET\n",
    "\n",
    "def putTestValue(xmlFIle, out):\n",
    "    tree = ET.parse(xmlFIle)\n",
    "    root = tree.getroot()\n",
    "\n",
    "    tweets = []\n",
    "    file = open(out,\"w\") \n",
    "    print(len(test_values))\n",
    "    for i,tweet in enumerate(root.iter('tweet')): \n",
    "        #print(i)\n",
    "        val = getLabel(test_values[i])\n",
    "        #print(val, test_values[i])\n",
    "        ID = tweet.find('tweetid').text\n",
    "        file.write(ID + \"\\t\" + val + \"\\n\")\n",
    "    file.close() "
   ]
  },
  {
   "cell_type": "code",
   "execution_count": 58,
   "metadata": {},
   "outputs": [],
   "source": [
    "#test_values = np.argmax(best_model.predict(x_test_set), axis = 1)"
   ]
  },
  {
   "cell_type": "code",
   "execution_count": 59,
   "metadata": {},
   "outputs": [
    {
     "name": "stdout",
     "output_type": "stream",
     "text": [
      "1428\n"
     ]
    }
   ],
   "source": [
    "putTestValue(\"../database/TASS/TASS2018/task1-Test.xml\", \"output_cnn_alldata_20180408-2.txt\")"
   ]
  },
  {
   "cell_type": "code",
   "execution_count": null,
   "metadata": {},
   "outputs": [],
   "source": []
  },
  {
   "cell_type": "code",
   "execution_count": null,
   "metadata": {},
   "outputs": [],
   "source": []
  }
 ],
 "metadata": {
  "accelerator": "GPU",
  "colab": {
   "collapsed_sections": [],
   "name": "cnn_word2vec.ipynb",
   "provenance": [],
   "version": "0.3.2"
  },
  "kernelspec": {
   "display_name": "Python 3",
   "language": "python",
   "name": "python3"
  },
  "language_info": {
   "codemirror_mode": {
    "name": "ipython",
    "version": 3
   },
   "file_extension": ".py",
   "mimetype": "text/x-python",
   "name": "python",
   "nbconvert_exporter": "python",
   "pygments_lexer": "ipython3",
   "version": "3.6.8"
  }
 },
 "nbformat": 4,
 "nbformat_minor": 2
}
