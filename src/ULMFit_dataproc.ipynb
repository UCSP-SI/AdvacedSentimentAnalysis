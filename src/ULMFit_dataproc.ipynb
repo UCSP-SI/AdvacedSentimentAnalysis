{
 "cells": [
  {
   "cell_type": "code",
   "execution_count": 1,
   "metadata": {},
   "outputs": [],
   "source": [
    "import lib.xmlreader as xml\n",
    "import re\n",
    "import pandas as pd\n",
    "import os\n",
    "import gensim\n",
    "import sys\n",
    "import numpy as np\n",
    "import pickle\n",
    "from lib.utils import tokenize\n",
    "from collections import Counter\n",
    "\n",
    "DATA_PATH = '../database/TASS/'"
   ]
  },
  {
   "cell_type": "code",
   "execution_count": 129,
   "metadata": {},
   "outputs": [],
   "source": [
    "train_docs = xml.readXML(DATA_PATH + \"TASS2018/task1-Training.xml\")\n",
    "test_docs  = xml.readXML(DATA_PATH + \"TASS2018/task1-Development.xml\" )"
   ]
  },
  {
   "cell_type": "code",
   "execution_count": 130,
   "metadata": {},
   "outputs": [],
   "source": [
    "trn_text   = [t.content  for t in train_docs]\n",
    "trn_label  = [t.polarity for t in train_docs]\n",
    "\n",
    "test_text   = [t.content  for t in test_docs]\n",
    "test_label  = [t.polarity for t in test_docs]"
   ]
  },
  {
   "cell_type": "code",
   "execution_count": 146,
   "metadata": {},
   "outputs": [
    {
     "data": {
      "text/plain": [
       "(473, 201)"
      ]
     },
     "execution_count": 146,
     "metadata": {},
     "output_type": "execute_result"
    }
   ],
   "source": [
    "len(trn_text), len(test_text)"
   ]
  },
  {
   "cell_type": "code",
   "execution_count": 131,
   "metadata": {},
   "outputs": [],
   "source": [
    "col_names = ['labels','text']"
   ]
  },
  {
   "cell_type": "code",
   "execution_count": 132,
   "metadata": {},
   "outputs": [],
   "source": [
    "df_train = pd.DataFrame({'text':trn_text, 'labels':trn_label}, columns=col_names)\n",
    "df_test  = pd.DataFrame({'text':test_text, 'labels':test_label}, columns=col_names)"
   ]
  },
  {
   "cell_type": "code",
   "execution_count": 133,
   "metadata": {},
   "outputs": [],
   "source": [
    "#CSV_PATH = DATA_PATH + 'csv_data/'\n",
    "\n",
    "#if not os.path.exists(CSV_PATH):\n",
    "#    os.makedirs(CSV_PATH)"
   ]
  },
  {
   "cell_type": "code",
   "execution_count": 134,
   "metadata": {},
   "outputs": [],
   "source": [
    "#df_train.to_csv(DATA_PATH + 'csv_data/train.csv', index=False)\n",
    "#df_test.to_csv(DATA_PATH  + 'csv_data/test.csv',  index=False)"
   ]
  },
  {
   "cell_type": "code",
   "execution_count": 135,
   "metadata": {},
   "outputs": [],
   "source": [
    "#df_train = pd.read_csv(DATA_PATH + 'csv_data/train.csv')\n",
    "#df_test = pd.read_csv(DATA_PATH + 'csv_data/test.csv')"
   ]
  },
  {
   "cell_type": "code",
   "execution_count": 136,
   "metadata": {},
   "outputs": [
    {
     "data": {
      "text/html": [
       "<div>\n",
       "<style scoped>\n",
       "    .dataframe tbody tr th:only-of-type {\n",
       "        vertical-align: middle;\n",
       "    }\n",
       "\n",
       "    .dataframe tbody tr th {\n",
       "        vertical-align: top;\n",
       "    }\n",
       "\n",
       "    .dataframe thead th {\n",
       "        text-align: right;\n",
       "    }\n",
       "</style>\n",
       "<table border=\"1\" class=\"dataframe\">\n",
       "  <thead>\n",
       "    <tr style=\"text-align: right;\">\n",
       "      <th></th>\n",
       "      <th>labels</th>\n",
       "      <th>text</th>\n",
       "    </tr>\n",
       "  </thead>\n",
       "  <tbody>\n",
       "    <tr>\n",
       "      <th>0</th>\n",
       "      <td>1</td>\n",
       "      <td>Sin ser fan de Juan Gabriel, siempre supe que ...</td>\n",
       "    </tr>\n",
       "    <tr>\n",
       "      <th>1</th>\n",
       "      <td>0</td>\n",
       "      <td>Hoy me sentí como grace de \"al fondo hay sitio...</td>\n",
       "    </tr>\n",
       "    <tr>\n",
       "      <th>2</th>\n",
       "      <td>1</td>\n",
       "      <td>hoy me toco visitar a mamá en su descanso eter...</td>\n",
       "    </tr>\n",
       "    <tr>\n",
       "      <th>3</th>\n",
       "      <td>1</td>\n",
       "      <td>Las remuneraciones económicas son lo que todos...</td>\n",
       "    </tr>\n",
       "    <tr>\n",
       "      <th>4</th>\n",
       "      <td>1</td>\n",
       "      <td>Lo que mas amo de mi escritorio es que hay una...</td>\n",
       "    </tr>\n",
       "  </tbody>\n",
       "</table>\n",
       "</div>"
      ],
      "text/plain": [
       "   labels                                               text\n",
       "0       1  Sin ser fan de Juan Gabriel, siempre supe que ...\n",
       "1       0  Hoy me sentí como grace de \"al fondo hay sitio...\n",
       "2       1  hoy me toco visitar a mamá en su descanso eter...\n",
       "3       1  Las remuneraciones económicas son lo que todos...\n",
       "4       1  Lo que mas amo de mi escritorio es que hay una..."
      ]
     },
     "execution_count": 136,
     "metadata": {},
     "output_type": "execute_result"
    }
   ],
   "source": [
    "df_train.head()"
   ]
  },
  {
   "cell_type": "code",
   "execution_count": 137,
   "metadata": {},
   "outputs": [
    {
     "name": "stdout",
     "output_type": "stream",
     "text": [
      "<class 'pandas.core.frame.DataFrame'>\n",
      "RangeIndex: 473 entries, 0 to 472\n",
      "Data columns (total 2 columns):\n",
      "labels    473 non-null int64\n",
      "text      473 non-null object\n",
      "dtypes: int64(1), object(1)\n",
      "memory usage: 7.5+ KB\n"
     ]
    }
   ],
   "source": [
    "df_train.info()"
   ]
  },
  {
   "cell_type": "code",
   "execution_count": 138,
   "metadata": {},
   "outputs": [
    {
     "name": "stdout",
     "output_type": "stream",
     "text": [
      "<class 'pandas.core.frame.DataFrame'>\n",
      "RangeIndex: 201 entries, 0 to 200\n",
      "Data columns (total 2 columns):\n",
      "labels    201 non-null int64\n",
      "text      201 non-null object\n",
      "dtypes: int64(1), object(1)\n",
      "memory usage: 3.2+ KB\n"
     ]
    }
   ],
   "source": [
    "df_test.info()"
   ]
  },
  {
   "cell_type": "code",
   "execution_count": 139,
   "metadata": {},
   "outputs": [
    {
     "data": {
      "text/plain": [
       "{'original': 'Sin ser fan de Juan Gabriel, siempre supe que era una fuerza de la naturaleza. Hoy escuché \"Querida\", y me dio una ternura enorme.',\n",
       " 'words': ['sin',\n",
       "  'ser',\n",
       "  'fan',\n",
       "  'de',\n",
       "  'juan',\n",
       "  'gabriel',\n",
       "  'siempre',\n",
       "  'supe',\n",
       "  'que',\n",
       "  'era',\n",
       "  'una',\n",
       "  'fuerza',\n",
       "  'de',\n",
       "  'la',\n",
       "  'naturaleza',\n",
       "  'hoy',\n",
       "  'escuche',\n",
       "  'querida',\n",
       "  'y',\n",
       "  'me',\n",
       "  'dio',\n",
       "  'una',\n",
       "  'ternura',\n",
       "  'enorme'],\n",
       " 'ratio': 0.05,\n",
       " 'clean': 'sin ser fan de juan gabriel  siempre supe que era una fuerza de la naturaleza  hoy escuche querida   y me dio una ternura enorme',\n",
       " 'class': None}"
      ]
     },
     "execution_count": 139,
     "metadata": {},
     "output_type": "execute_result"
    }
   ],
   "source": [
    "tokenize(df_train['text'][0], None)"
   ]
  },
  {
   "cell_type": "code",
   "execution_count": 140,
   "metadata": {},
   "outputs": [
    {
     "data": {
      "text/plain": [
       "473"
      ]
     },
     "execution_count": 140,
     "metadata": {},
     "output_type": "execute_result"
    }
   ],
   "source": [
    "len(df_train['text'])"
   ]
  },
  {
   "cell_type": "code",
   "execution_count": 141,
   "metadata": {},
   "outputs": [],
   "source": [
    "LOF_train = []\n",
    "LOF_test  = []\n",
    "\n",
    "for i in range(len(df_train['text'])):\n",
    "    LOF_train.append(tokenize(df_train['text'][i], None)['words'])\n",
    "    \n",
    "for i in range(len(df_test['text'])):\n",
    "    LOF_test.append(tokenize(df_test['text'][i], None)['words'])"
   ]
  },
  {
   "cell_type": "code",
   "execution_count": 142,
   "metadata": {},
   "outputs": [
    {
     "name": "stdout",
     "output_type": "stream",
     "text": [
      "Size of List Of Words (Train) :  473\n",
      "Size of List Of Words (Test)  :  201\n"
     ]
    }
   ],
   "source": [
    "print(\"Size of List Of Words (Train) : \", len(LOF_train))\n",
    "print(\"Size of List Of Words (Test)  : \", len(LOF_test))"
   ]
  },
  {
   "cell_type": "code",
   "execution_count": 143,
   "metadata": {},
   "outputs": [],
   "source": [
    "#LOF_test[0]"
   ]
  },
  {
   "cell_type": "code",
   "execution_count": 144,
   "metadata": {},
   "outputs": [],
   "source": [
    "cnt = Counter(word for doc in LOF_train + LOF_test for word in doc )"
   ]
  },
  {
   "cell_type": "code",
   "execution_count": 145,
   "metadata": {},
   "outputs": [
    {
     "data": {
      "text/plain": [
       "(3, 3067)"
      ]
     },
     "execution_count": 145,
     "metadata": {},
     "output_type": "execute_result"
    }
   ],
   "source": [
    "cnt['felicidad'], len(cnt)"
   ]
  },
  {
   "cell_type": "code",
   "execution_count": 123,
   "metadata": {},
   "outputs": [
    {
     "data": {
      "text/plain": [
       "[('que', 637),\n",
       " ('de', 572),\n",
       " ('y', 430),\n",
       " ('no', 397),\n",
       " ('a', 390),\n",
       " ('me', 339),\n",
       " ('la', 338),\n",
       " ('en', 303),\n",
       " ('el', 300),\n",
       " ('es', 277)]"
      ]
     },
     "execution_count": 123,
     "metadata": {},
     "output_type": "execute_result"
    }
   ],
   "source": [
    "cnt.most_common()[:10]"
   ]
  },
  {
   "cell_type": "code",
   "execution_count": 124,
   "metadata": {},
   "outputs": [
    {
     "data": {
      "text/plain": [
       "717"
      ]
     },
     "execution_count": 124,
     "metadata": {},
     "output_type": "execute_result"
    }
   ],
   "source": [
    "import collections\n",
    "\n",
    "max_vocab = len(cnt)\n",
    "min_freq = 3\n",
    "#max_vocab = len(cnt)\n",
    "#max_vocab = 4000\n",
    "#min_freq  = 0\n",
    "\n",
    "\n",
    "itos = [o for o,c in cnt.most_common(max_vocab) if c >= min_freq]\n",
    "\n",
    "itos.insert(0, '_pad_')\n",
    "itos.insert(0, '_unk_')\n",
    "\n",
    "stoi = collections.defaultdict(lambda:0, {v:k for k,v in enumerate(itos)})\n",
    "len(itos)"
   ]
  },
  {
   "cell_type": "code",
   "execution_count": 125,
   "metadata": {},
   "outputs": [
    {
     "data": {
      "text/plain": [
       "717"
      ]
     },
     "execution_count": 125,
     "metadata": {},
     "output_type": "execute_result"
    }
   ],
   "source": [
    "len(stoi)"
   ]
  },
  {
   "cell_type": "code",
   "execution_count": 126,
   "metadata": {},
   "outputs": [],
   "source": [
    "train_lm = np.array([[stoi[o] for o in p] for p in LOF_train])\n",
    "test_lm  = np.array([[stoi[o] for o in p] for p in LOF_test])"
   ]
  },
  {
   "cell_type": "code",
   "execution_count": 127,
   "metadata": {},
   "outputs": [],
   "source": [
    "SAVE_PATH = '../database/ulmfit/'\n",
    "np.save(SAVE_PATH + 'tmp/train_labels_2017.npy',trn_label)\n",
    "np.save(SAVE_PATH + 'tmp/test_labels_2017.npy',test_label)"
   ]
  },
  {
   "cell_type": "code",
   "execution_count": 128,
   "metadata": {},
   "outputs": [],
   "source": [
    "np.save(SAVE_PATH + 'tmp/train_lm_2017.npy',train_lm)\n",
    "np.save(SAVE_PATH + 'tmp/test_lm_2017.npy',test_lm)\n",
    "pickle.dump(itos, open(SAVE_PATH + 'tmp/itos_2017_freq_'+str(min_freq)+'.pkl', 'wb'))"
   ]
  },
  {
   "cell_type": "code",
   "execution_count": null,
   "metadata": {},
   "outputs": [],
   "source": []
  }
 ],
 "metadata": {
  "kernelspec": {
   "display_name": "Python 3",
   "language": "python",
   "name": "python3"
  },
  "language_info": {
   "codemirror_mode": {
    "name": "ipython",
    "version": 3
   },
   "file_extension": ".py",
   "mimetype": "text/x-python",
   "name": "python",
   "nbconvert_exporter": "python",
   "pygments_lexer": "ipython3",
   "version": "3.6.7"
  }
 },
 "nbformat": 4,
 "nbformat_minor": 2
}
