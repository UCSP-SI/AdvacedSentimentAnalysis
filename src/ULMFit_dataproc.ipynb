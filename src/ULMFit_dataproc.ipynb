{
 "cells": [
  {
   "cell_type": "code",
   "execution_count": 1,
   "metadata": {},
   "outputs": [],
   "source": [
    "import lib.xmlreader as xml\n",
    "import re\n",
    "import pandas as pd\n",
    "import os\n",
    "import gensim\n",
    "import sys\n",
    "import numpy as np\n",
    "import pickle\n",
    "from lib.utils import tokenize\n",
    "from collections import Counter\n",
    "\n",
    "DATA_PATH = '../database/TASS/'\n",
    "\n",
    "TASS_     = '2018'"
   ]
  },
  {
   "cell_type": "code",
   "execution_count": 2,
   "metadata": {},
   "outputs": [],
   "source": [
    "train_docs = xml.readXML(DATA_PATH + \"TASS\"+TASS_+\"/task1-Training.xml\", [0,1])\n",
    "test_docs  = xml.readXML(DATA_PATH + \"TASS\"+TASS_+\"/task1-Development.xml\", [0,1] )"
   ]
  },
  {
   "cell_type": "code",
   "execution_count": 3,
   "metadata": {},
   "outputs": [],
   "source": [
    "trn_text   = [t.content  for t in train_docs]\n",
    "trn_label  = [t.polarity for t in train_docs]\n",
    "\n",
    "test_text   = [t.content  for t in test_docs]\n",
    "test_label  = [t.polarity for t in test_docs]"
   ]
  },
  {
   "cell_type": "code",
   "execution_count": 4,
   "metadata": {},
   "outputs": [
    {
     "data": {
      "text/plain": [
       "(473, 201)"
      ]
     },
     "execution_count": 4,
     "metadata": {},
     "output_type": "execute_result"
    }
   ],
   "source": [
    "len(trn_text), len(test_text)"
   ]
  },
  {
   "cell_type": "code",
   "execution_count": 5,
   "metadata": {},
   "outputs": [],
   "source": [
    "col_names = ['labels','text']"
   ]
  },
  {
   "cell_type": "code",
   "execution_count": 6,
   "metadata": {},
   "outputs": [],
   "source": [
    "df_train = pd.DataFrame({'text':trn_text, 'labels':trn_label}, columns=col_names)\n",
    "df_test  = pd.DataFrame({'text':test_text, 'labels':test_label}, columns=col_names)"
   ]
  },
  {
   "cell_type": "code",
   "execution_count": 7,
   "metadata": {},
   "outputs": [],
   "source": [
    "#CSV_PATH = DATA_PATH + 'csv_data/'\n",
    "\n",
    "#if not os.path.exists(CSV_PATH):\n",
    "#    os.makedirs(CSV_PATH)"
   ]
  },
  {
   "cell_type": "code",
   "execution_count": 8,
   "metadata": {},
   "outputs": [],
   "source": [
    "#df_train.to_csv(DATA_PATH + 'csv_data/train.csv', index=False)\n",
    "#df_test.to_csv(DATA_PATH  + 'csv_data/test.csv',  index=False)"
   ]
  },
  {
   "cell_type": "code",
   "execution_count": 9,
   "metadata": {},
   "outputs": [],
   "source": [
    "#df_train = pd.read_csv(DATA_PATH + 'csv_data/train.csv')\n",
    "#df_test = pd.read_csv(DATA_PATH + 'csv_data/test.csv')"
   ]
  },
  {
   "cell_type": "code",
   "execution_count": 10,
   "metadata": {},
   "outputs": [],
   "source": [
    "#df_train.head(50)"
   ]
  },
  {
   "cell_type": "code",
   "execution_count": 11,
   "metadata": {},
   "outputs": [
    {
     "name": "stdout",
     "output_type": "stream",
     "text": [
      "<class 'pandas.core.frame.DataFrame'>\n",
      "RangeIndex: 473 entries, 0 to 472\n",
      "Data columns (total 2 columns):\n",
      "labels    473 non-null int64\n",
      "text      473 non-null object\n",
      "dtypes: int64(1), object(1)\n",
      "memory usage: 7.5+ KB\n"
     ]
    }
   ],
   "source": [
    "df_train.info()"
   ]
  },
  {
   "cell_type": "code",
   "execution_count": 12,
   "metadata": {},
   "outputs": [
    {
     "name": "stdout",
     "output_type": "stream",
     "text": [
      "<class 'pandas.core.frame.DataFrame'>\n",
      "RangeIndex: 201 entries, 0 to 200\n",
      "Data columns (total 2 columns):\n",
      "labels    201 non-null int64\n",
      "text      201 non-null object\n",
      "dtypes: int64(1), object(1)\n",
      "memory usage: 3.2+ KB\n"
     ]
    }
   ],
   "source": [
    "df_test.info()"
   ]
  },
  {
   "cell_type": "code",
   "execution_count": 13,
   "metadata": {},
   "outputs": [
    {
     "data": {
      "text/plain": [
       "{'original': 'Sin ser fan de Juan Gabriel, siempre supe que era una fuerza de la naturaleza. Hoy escuché \"Querida\", y me dio una ternura enorme.',\n",
       " 'words': ['sin',\n",
       "  'ser',\n",
       "  'fan',\n",
       "  'de',\n",
       "  'juan',\n",
       "  'gabriel',\n",
       "  'siempre',\n",
       "  'supe',\n",
       "  'que',\n",
       "  'era',\n",
       "  'una',\n",
       "  'fuerza',\n",
       "  'de',\n",
       "  'la',\n",
       "  'naturaleza',\n",
       "  'hoy',\n",
       "  'escuche',\n",
       "  'querida',\n",
       "  'y',\n",
       "  'me',\n",
       "  'dio',\n",
       "  'una',\n",
       "  'ternura',\n",
       "  'enorme'],\n",
       " 'ratio': 0.05,\n",
       " 'clean': 'sin ser fan de juan gabriel  siempre supe que era una fuerza de la naturaleza  hoy escuche querida   y me dio una ternura enorme',\n",
       " 'class': None}"
      ]
     },
     "execution_count": 13,
     "metadata": {},
     "output_type": "execute_result"
    }
   ],
   "source": [
    "tokenize(df_train['text'][0], None)"
   ]
  },
  {
   "cell_type": "code",
   "execution_count": 14,
   "metadata": {},
   "outputs": [
    {
     "data": {
      "text/plain": [
       "473"
      ]
     },
     "execution_count": 14,
     "metadata": {},
     "output_type": "execute_result"
    }
   ],
   "source": [
    "len(df_train['text'])"
   ]
  },
  {
   "cell_type": "code",
   "execution_count": 15,
   "metadata": {},
   "outputs": [],
   "source": [
    "LOF_train = []\n",
    "LOF_test  = []\n",
    "\n",
    "for i in range(len(df_train['text'])):\n",
    "    LOF_train.append(tokenize(df_train['text'][i], None)['words'])\n",
    "    \n",
    "for i in range(len(df_test['text'])):\n",
    "    LOF_test.append(tokenize(df_test['text'][i], None)['words'])"
   ]
  },
  {
   "cell_type": "code",
   "execution_count": 16,
   "metadata": {},
   "outputs": [
    {
     "name": "stdout",
     "output_type": "stream",
     "text": [
      "Size of List Of Words (Train) :  473\n",
      "Size of List Of Words (Test)  :  201\n"
     ]
    }
   ],
   "source": [
    "print(\"Size of List Of Words (Train) : \", len(LOF_train))\n",
    "print(\"Size of List Of Words (Test)  : \", len(LOF_test))"
   ]
  },
  {
   "cell_type": "code",
   "execution_count": 17,
   "metadata": {},
   "outputs": [],
   "source": [
    "#LOF_test[0]"
   ]
  },
  {
   "cell_type": "code",
   "execution_count": 18,
   "metadata": {},
   "outputs": [],
   "source": [
    "cnt = Counter(word for doc in LOF_train + LOF_test for word in doc )"
   ]
  },
  {
   "cell_type": "code",
   "execution_count": 19,
   "metadata": {},
   "outputs": [
    {
     "data": {
      "text/plain": [
       "(3, 3067)"
      ]
     },
     "execution_count": 19,
     "metadata": {},
     "output_type": "execute_result"
    }
   ],
   "source": [
    "cnt['felicidad'], len(cnt)"
   ]
  },
  {
   "cell_type": "code",
   "execution_count": 20,
   "metadata": {},
   "outputs": [
    {
     "data": {
      "text/plain": [
       "('gigante', 1)"
      ]
     },
     "execution_count": 20,
     "metadata": {},
     "output_type": "execute_result"
    }
   ],
   "source": [
    "cnt.most_common()[-1]"
   ]
  },
  {
   "cell_type": "code",
   "execution_count": 21,
   "metadata": {},
   "outputs": [
    {
     "data": {
      "text/plain": [
       "[('que', 426),\n",
       " ('de', 343),\n",
       " ('y', 277),\n",
       " ('a', 233),\n",
       " ('la', 226),\n",
       " ('no', 212),\n",
       " ('es', 196),\n",
       " ('el', 195),\n",
       " ('me', 194),\n",
       " ('en', 170)]"
      ]
     },
     "execution_count": 21,
     "metadata": {},
     "output_type": "execute_result"
    }
   ],
   "source": [
    "cnt.most_common()[:10]"
   ]
  },
  {
   "cell_type": "code",
   "execution_count": 22,
   "metadata": {},
   "outputs": [
    {
     "data": {
      "text/plain": [
       "480"
      ]
     },
     "execution_count": 22,
     "metadata": {},
     "output_type": "execute_result"
    }
   ],
   "source": [
    "import collections\n",
    "\n",
    "max_vocab = len(cnt)\n",
    "min_freq = 3\n",
    "#max_vocab = len(cnt)\n",
    "#max_vocab = 4000\n",
    "#min_freq  = 0\n",
    "\n",
    "\n",
    "itos = [o for o,c in cnt.most_common(max_vocab) if c >= min_freq]\n",
    "\n",
    "itos.insert(0, '_pad_')\n",
    "itos.insert(0, '_unk_')\n",
    "\n",
    "stoi = collections.defaultdict(lambda:0, {v:k for k,v in enumerate(itos)})\n",
    "len(itos)"
   ]
  },
  {
   "cell_type": "code",
   "execution_count": 23,
   "metadata": {},
   "outputs": [
    {
     "data": {
      "text/plain": [
       "480"
      ]
     },
     "execution_count": 23,
     "metadata": {},
     "output_type": "execute_result"
    }
   ],
   "source": [
    "len(stoi)"
   ]
  },
  {
   "cell_type": "code",
   "execution_count": 60,
   "metadata": {},
   "outputs": [],
   "source": [
    "train_lm = np.array([[stoi[o] for o in p] for p in LOF_train])\n",
    "test_lm  = np.array([[stoi[o] for o in p] for p in LOF_test])"
   ]
  },
  {
   "cell_type": "code",
   "execution_count": 61,
   "metadata": {},
   "outputs": [],
   "source": [
    "SAVE_PATH = '../database/ulmfit/'\n",
    "np.save(SAVE_PATH + \"tmp/train_labels_\"+TASS_+\".npy\",trn_label)\n",
    "np.save(SAVE_PATH + \"tmp/test_labels_\"+TASS_+\".npy\",test_label)"
   ]
  },
  {
   "cell_type": "code",
   "execution_count": 62,
   "metadata": {},
   "outputs": [],
   "source": [
    "np.save(SAVE_PATH + \"tmp/train_lm_\"+TASS_+\".npy\",train_lm)\n",
    "np.save(SAVE_PATH + \"tmp/test_lm_\"+TASS_+\".npy\",test_lm)\n",
    "pickle.dump(itos, open(SAVE_PATH + \"tmp/itos_\"+TASS_+\"_freq_\"+str(min_freq)+'.pkl', 'wb'))"
   ]
  },
  {
   "cell_type": "code",
   "execution_count": null,
   "metadata": {},
   "outputs": [],
   "source": []
  }
 ],
 "metadata": {
  "kernelspec": {
   "display_name": "Python 3",
   "language": "python",
   "name": "python3"
  },
  "language_info": {
   "codemirror_mode": {
    "name": "ipython",
    "version": 3
   },
   "file_extension": ".py",
   "mimetype": "text/x-python",
   "name": "python",
   "nbconvert_exporter": "python",
   "pygments_lexer": "ipython3",
   "version": "3.6.7"
  }
 },
 "nbformat": 4,
 "nbformat_minor": 2
}
