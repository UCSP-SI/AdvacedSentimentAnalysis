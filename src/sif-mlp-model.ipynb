{
 "cells": [
  {
   "cell_type": "code",
   "execution_count": 1,
   "metadata": {},
   "outputs": [
    {
     "name": "stderr",
     "output_type": "stream",
     "text": [
      "D:\\opt\\Anaconda3\\envs\\py3.7\\lib\\site-packages\\gensim\\utils.py:1197: UserWarning: detected Windows; aliasing chunkize to chunkize_serial\n",
      "  warnings.warn(\"detected Windows; aliasing chunkize to chunkize_serial\")\n"
     ]
    }
   ],
   "source": [
    "import lib.xmlreader as xml\n",
    "import lib.utils as ut\n",
    "\n",
    "import numpy as np\n",
    "import random\n",
    "import gensim\n",
    "from gensim.models.wrappers import FastText\n",
    "\n",
    "from sklearn.feature_extraction.text import CountVectorizer\n",
    "\n",
    "import matplotlib.pyplot as plt\n",
    "%matplotlib inline"
   ]
  },
  {
   "cell_type": "code",
   "execution_count": 2,
   "metadata": {},
   "outputs": [],
   "source": [
    "train_docs  = xml.readXML(\"../database/TASS/TASS2018/task1-Training.xml\"   ,[0,1,2,3])\n",
    "dev_docs    = xml.readXML(\"../database/TASS/TASS2018/task1-Development.xml\",[0,1,2,3])\n",
    "test_docs   = xml.readXML(\"../database/TASS/TASS2018/task1-Test.xml\"       ,[0,1,2,3])"
   ]
  },
  {
   "cell_type": "code",
   "execution_count": 3,
   "metadata": {},
   "outputs": [
    {
     "name": "stdout",
     "output_type": "stream",
     "text": [
      "1428\n"
     ]
    }
   ],
   "source": [
    "#assert (len(train_docs) == 1008)\n",
    "#assert (len(dev_docs)   ==  506)\n",
    "#assert (len(test_docs)  == 1899)\n",
    "print(len(test_docs))\n",
    "assert (len(train_docs) == 1000)\n",
    "assert (len(dev_docs)   ==  500)\n",
    "assert (len(test_docs)  == 1428)"
   ]
  },
  {
   "cell_type": "code",
   "execution_count": 4,
   "metadata": {},
   "outputs": [],
   "source": [
    "test_docs[200].polarity"
   ]
  },
  {
   "cell_type": "code",
   "execution_count": 5,
   "metadata": {},
   "outputs": [],
   "source": [
    "train_labels = []\n",
    "for train_doc in train_docs:\n",
    "    train_labels.append(train_doc.polarity)\n",
    "    \n",
    "dev_labels   = []\n",
    "for dev_doc in dev_docs:\n",
    "    dev_labels.append(dev_doc.polarity)"
   ]
  },
  {
   "cell_type": "code",
   "execution_count": 6,
   "metadata": {},
   "outputs": [],
   "source": [
    "POSI_train_docs = [train_docs[i] for i in range(len(train_labels)) if train_labels[i] == 0]\n",
    "NEGA_train_docs = [train_docs[i] for i in range(len(train_labels)) if train_labels[i] == 1]\n",
    "NEUT_train_docs = [train_docs[i] for i in range(len(train_labels)) if train_labels[i] == 2]\n",
    "NONE_train_docs = [train_docs[i] for i in range(len(train_labels)) if train_labels[i] == 3]\n",
    "\n",
    "level_train_docs = [POSI_train_docs,NEGA_train_docs,NEUT_train_docs,NONE_train_docs]"
   ]
  },
  {
   "cell_type": "code",
   "execution_count": 7,
   "metadata": {},
   "outputs": [
    {
     "name": "stdout",
     "output_type": "stream",
     "text": [
      "Positive Sentences = 242\n",
      "Negative Sentences = 231\n",
      "Neutral  Sentences = 166\n",
      "None Values        = 361\n"
     ]
    }
   ],
   "source": [
    "fmt = \"\"\"Positive Sentences = {:d}\n",
    "       \\rNegative Sentences = {:d}\n",
    "       \\rNeutral  Sentences = {:d}\n",
    "       \\rNone Values        = {:d}\"\"\"\n",
    "\n",
    "print(fmt.format(len(POSI_train_docs),\n",
    "                 len(NEGA_train_docs),\n",
    "                 len(NEUT_train_docs),\n",
    "                 len(NONE_train_docs)))"
   ]
  },
  {
   "cell_type": "code",
   "execution_count": 8,
   "metadata": {},
   "outputs": [
    {
     "name": "stdout",
     "output_type": "stream",
     "text": [
      "Minimum number of sentences per level :  166\n"
     ]
    }
   ],
   "source": [
    "minSentLvl = min(len(POSI_train_docs),len(NEGA_train_docs),len(NEUT_train_docs),len(NONE_train_docs))\n",
    "\n",
    "print('Minimum number of sentences per level : ', minSentLvl)"
   ]
  },
  {
   "cell_type": "code",
   "execution_count": 9,
   "metadata": {},
   "outputs": [],
   "source": [
    "new_train_docs = []\n",
    "for i in range(len(level_train_docs)):\n",
    "    level_per = random.sample(level_train_docs[i],len(level_train_docs[i]))\n",
    "    new_train_docs.append(level_per[:minSentLvl])"
   ]
  },
  {
   "cell_type": "code",
   "execution_count": 10,
   "metadata": {},
   "outputs": [
    {
     "name": "stdout",
     "output_type": "stream",
     "text": [
      "New size of sentences:\n",
      "\n",
      "Positive Sentences = 166\n",
      "Negative Sentences = 166\n",
      "Neutral  Sentences = 166\n",
      "None Values        = 166\n"
     ]
    }
   ],
   "source": [
    "print(\"New size of sentences:\\n\")\n",
    "fmt = \"\"\"Positive Sentences = {:d}\n",
    "       \\rNegative Sentences = {:d}\n",
    "       \\rNeutral  Sentences = {:d}\n",
    "       \\rNone Values        = {:d}\"\"\"\n",
    "\n",
    "print(fmt.format(len(new_train_docs[0]),\n",
    "                 len(new_train_docs[1]),\n",
    "                 len(new_train_docs[2]),\n",
    "                 len(new_train_docs[3])))"
   ]
  },
  {
   "cell_type": "code",
   "execution_count": 11,
   "metadata": {},
   "outputs": [
    {
     "name": "stdout",
     "output_type": "stream",
     "text": [
      "shuf_train_docs size =  664\n"
     ]
    }
   ],
   "source": [
    "flat_train_docs = [item for sublist in new_train_docs for item in sublist]\n",
    "shuf_train_docs = random.sample(flat_train_docs,len(flat_train_docs))\n",
    "\n",
    "assert (len(shuf_train_docs) == 4 * minSentLvl)\n",
    "print(\"shuf_train_docs size = \", len(shuf_train_docs))"
   ]
  },
  {
   "cell_type": "code",
   "execution_count": 12,
   "metadata": {},
   "outputs": [],
   "source": [
    "corpus = []\n",
    "for doc in shuf_train_docs + dev_docs + test_docs:\n",
    "    corpus.append(doc.content)"
   ]
  },
  {
   "cell_type": "code",
   "execution_count": 13,
   "metadata": {},
   "outputs": [
    {
     "name": "stdout",
     "output_type": "stream",
     "text": [
      "Sentences =  2592\n"
     ]
    }
   ],
   "source": [
    "print(\"Sentences = \", (len(test_docs + dev_docs + shuf_train_docs)))"
   ]
  },
  {
   "cell_type": "code",
   "execution_count": 14,
   "metadata": {},
   "outputs": [],
   "source": [
    "shuf_train_labels = []\n",
    "for doc in shuf_train_docs:\n",
    "    shuf_train_labels.append(doc.polarity)\n",
    "    \n",
    "assert (len(shuf_train_labels) == len(shuf_train_docs))"
   ]
  },
  {
   "cell_type": "code",
   "execution_count": 15,
   "metadata": {},
   "outputs": [],
   "source": [
    "def gensim_load_vec(path=\"../database/embeddings/cc.es.300.bin\"):\n",
    "    gensim_emb = gensim.models.KeyedVectors.load_word2vec_format(path, binary=True)\n",
    "    vocab = gensim_emb.index2word\n",
    "    vec = gensim_emb.syn0\n",
    "    shape = gensim_emb.syn0.shape\n",
    "    return gensim_emb, vec, shape, vocab\n",
    "\n",
    "def gensim_load_fasttext(path=\"../database/embeddings/cc.es.300.bin\"):\n",
    "    gensim_emb = FastText.load_fasttext_format(path)\n",
    "    return gensim_emb"
   ]
  },
  {
   "cell_type": "code",
   "execution_count": 16,
   "metadata": {},
   "outputs": [],
   "source": [
    "# gensim_emb, vec, shape, vocab = gensim_load_vec()\n",
    "gensim_emb = gensim_load_fasttext()"
   ]
  },
  {
   "cell_type": "code",
   "execution_count": 17,
   "metadata": {},
   "outputs": [],
   "source": [
    "counter = CountVectorizer(tokenizer=ut.tokenizer)"
   ]
  },
  {
   "cell_type": "code",
   "execution_count": 18,
   "metadata": {},
   "outputs": [
    {
     "name": "stdout",
     "output_type": "stream",
     "text": [
      "(2592, 8059)\n"
     ]
    }
   ],
   "source": [
    "X = counter.fit_transform(corpus)\n",
    "print(X.shape)"
   ]
  },
  {
   "cell_type": "code",
   "execution_count": 19,
   "metadata": {},
   "outputs": [
    {
     "name": "stdout",
     "output_type": "stream",
     "text": [
      "(2592, 8059)\n"
     ]
    }
   ],
   "source": [
    "VOCAB_SIZE = X.shape[1]\n",
    "\n",
    "caption_texts = corpus\n",
    "Xc = counter.fit_transform(caption_texts).todense().astype(\"float\")\n",
    "print(Xc.shape)"
   ]
  },
  {
   "cell_type": "code",
   "execution_count": 20,
   "metadata": {},
   "outputs": [
    {
     "name": "stdout",
     "output_type": "stream",
     "text": [
      "(2592, 1)\n"
     ]
    }
   ],
   "source": [
    "sent_lens = np.sum(Xc, axis=1).astype(\"float\")\n",
    "sent_lens[sent_lens == 0] = 1e-14\n",
    "print(sent_lens.shape)"
   ]
  },
  {
   "cell_type": "code",
   "execution_count": 21,
   "metadata": {},
   "outputs": [],
   "source": [
    "embedding_matrix = np.zeros((VOCAB_SIZE, 300), np.float)\n",
    "\n",
    "for word in list(counter.vocabulary_.keys()):\n",
    "    try:\n",
    "        i = counter.vocabulary_[word]\n",
    "        embedding_matrix[i] = gensim_emb[word]\n",
    "    except KeyError:\n",
    "        pass"
   ]
  },
  {
   "cell_type": "code",
   "execution_count": 22,
   "metadata": {},
   "outputs": [
    {
     "data": {
      "text/plain": [
       "True"
      ]
     },
     "execution_count": 22,
     "metadata": {},
     "output_type": "execute_result"
    }
   ],
   "source": [
    "np.array_equal(embedding_matrix[counter.vocabulary_['hola']], gensim_emb['hola'])"
   ]
  },
  {
   "cell_type": "code",
   "execution_count": 36,
   "metadata": {},
   "outputs": [
    {
     "data": {
      "text/plain": [
       "(300,)"
      ]
     },
     "execution_count": 36,
     "metadata": {},
     "output_type": "execute_result"
    }
   ],
   "source": [
    "gensim_emb['hola'].shape"
   ]
  },
  {
   "cell_type": "code",
   "execution_count": 23,
   "metadata": {},
   "outputs": [
    {
     "name": "stdout",
     "output_type": "stream",
     "text": [
      "(2592, 300)\n"
     ]
    }
   ],
   "source": [
    "Xb = np.divide(np.dot(Xc, embedding_matrix), sent_lens)\n",
    "print(Xb.shape)"
   ]
  },
  {
   "cell_type": "code",
   "execution_count": 24,
   "metadata": {},
   "outputs": [],
   "source": [
    "train_tweets = []\n",
    "train_labels = shuf_train_labels\n",
    "for doc in shuf_train_docs:\n",
    "    train_tweets.append(doc.content)\n",
    "\n",
    "dev_tweets = []\n",
    "for doc in dev_docs:\n",
    "    dev_tweets.append(doc.content)\n",
    "\n",
    "test_tweets = []\n",
    "for doc in test_docs:\n",
    "    test_tweets.append(doc.content)"
   ]
  },
  {
   "cell_type": "code",
   "execution_count": 25,
   "metadata": {},
   "outputs": [
    {
     "name": "stdout",
     "output_type": "stream",
     "text": [
      "Shape of data train tensor: (664, 300)\n",
      "Shape of data val  tensor : (500, 300)\n",
      "Shape of data test  tensor: (1428, 300)\n",
      "Shape of data train labels: 664\n",
      "Shape of data val   labels: 500\n"
     ]
    }
   ],
   "source": [
    "Xtrain = Xb[0:len(train_tweets)]\n",
    "Xdev   = Xb[ len(train_tweets):len(train_tweets) + len(dev_tweets)]\n",
    "Xtest  = Xb[-len(test_tweets):]\n",
    "\n",
    "ytrain = np.array(train_labels)\n",
    "ydev   = np.array(dev_labels)\n",
    "\n",
    "print('Shape of data train tensor:', Xtrain.shape)\n",
    "print('Shape of data val  tensor :', Xdev.shape)\n",
    "print('Shape of data test  tensor:', Xtest.shape)\n",
    "\n",
    "print('Shape of data train labels:', len(train_labels))\n",
    "print('Shape of data val   labels:', len(dev_labels))"
   ]
  },
  {
   "cell_type": "code",
   "execution_count": 26,
   "metadata": {},
   "outputs": [
    {
     "name": "stderr",
     "output_type": "stream",
     "text": [
      "Using TensorFlow backend.\n"
     ]
    },
    {
     "name": "stdout",
     "output_type": "stream",
     "text": [
      "['/job:localhost/replica:0/task:0/device:GPU:0']\n"
     ]
    }
   ],
   "source": [
    "import tensorflow as tf\n",
    "import keras \n",
    "\n",
    "from keras.utils import to_categorical\n",
    "from keras import backend as K\n",
    "\n",
    "from keras.models import Sequential\n",
    "from keras.layers import Dense, Dropout\n",
    "from keras.layers import Flatten\n",
    "from keras.layers.embeddings import Embedding\n",
    "\n",
    "from keras.layers import Input, Dense, concatenate, Activation\n",
    "from keras.models import Model\n",
    "from keras.layers import Conv1D, GlobalMaxPooling1D\n",
    "\n",
    "from keras.callbacks import ModelCheckpoint\n",
    "\n",
    "print(K.tensorflow_backend._get_available_gpus())\n",
    "\n",
    "\n",
    "config = tf.ConfigProto(intra_op_parallelism_threads=4, \\\n",
    "                        inter_op_parallelism_threads=4, \\\n",
    "                        allow_soft_placement=True,\\\n",
    "                        device_count = {'CPU' : 1, 'GPU' : 0})\n",
    "\n",
    "sess = tf.Session(config=config)\n",
    "K.set_session(sess)\n",
    "    \n",
    "seed = 7"
   ]
  },
  {
   "cell_type": "code",
   "execution_count": 27,
   "metadata": {},
   "outputs": [
    {
     "name": "stdout",
     "output_type": "stream",
     "text": [
      "WARNING:tensorflow:From D:\\opt\\Anaconda3\\envs\\py3.7\\lib\\site-packages\\tensorflow\\python\\framework\\op_def_library.py:263: colocate_with (from tensorflow.python.framework.ops) is deprecated and will be removed in a future version.\n",
      "Instructions for updating:\n",
      "Colocations handled automatically by placer.\n",
      "WARNING:tensorflow:From D:\\opt\\Anaconda3\\envs\\py3.7\\lib\\site-packages\\keras\\backend\\tensorflow_backend.py:3445: calling dropout (from tensorflow.python.ops.nn_ops) with keep_prob is deprecated and will be removed in a future version.\n",
      "Instructions for updating:\n",
      "Please use `rate` instead of `keep_prob`. Rate should be set to `rate = 1 - keep_prob`.\n",
      "_________________________________________________________________\n",
      "Layer (type)                 Output Shape              Param #   \n",
      "=================================================================\n",
      "input_1 (InputLayer)         (None, 300)               0         \n",
      "_________________________________________________________________\n",
      "dense_3 (Dense)              (None, 64)                19264     \n",
      "_________________________________________________________________\n",
      "dropout_3 (Dropout)          (None, 64)                0         \n",
      "_________________________________________________________________\n",
      "dense_4 (Dense)              (None, 4)                 260       \n",
      "_________________________________________________________________\n",
      "activation_1 (Activation)    (None, 4)                 0         \n",
      "=================================================================\n",
      "Total params: 19,524\n",
      "Trainable params: 19,524\n",
      "Non-trainable params: 0\n",
      "_________________________________________________________________\n"
     ]
    }
   ],
   "source": [
    "tweet_encoder   = Input(shape=(300,), dtype='float32')\n",
    "\n",
    "merged = Dense(256)(tweet_encoder)\n",
    "merged = Dropout(0.5)(merged)\n",
    "\n",
    "merged = Dense(128)(tweet_encoder)\n",
    "merged = Dropout(0.5)(merged)\n",
    "\n",
    "merged = Dense(64)(tweet_encoder)\n",
    "merged = Dropout(0.2)(merged)\n",
    "\n",
    "merged = Dense(4)(merged)\n",
    "output = Activation('softmax')(merged)\n",
    "model  = Model(inputs=[tweet_encoder], outputs=[output])\n",
    "\n",
    "model.compile(loss='categorical_crossentropy',\n",
    "                  optimizer='adam',\n",
    "                  metrics=['accuracy'])\n",
    "model.summary()"
   ]
  },
  {
   "cell_type": "code",
   "execution_count": 29,
   "metadata": {},
   "outputs": [
    {
     "name": "stdout",
     "output_type": "stream",
     "text": [
      "Train on 1164 samples, validate on 500 samples\n",
      "Epoch 1/50\n",
      "1164/1164 [==============================] - 0s 37us/step - loss: 1.3396 - acc: 0.3531 - val_loss: 1.2671 - val_acc: 0.4800\n",
      "\n",
      "Epoch 00001: val_acc improved from -inf to 0.48000, saving model to model/best_weights_SIF.01-0.4800.hdf5\n",
      "Epoch 2/50\n",
      "1164/1164 [==============================] - 0s 42us/step - loss: 1.3234 - acc: 0.3797 - val_loss: 1.2542 - val_acc: 0.5040\n",
      "\n",
      "Epoch 00002: val_acc improved from 0.48000 to 0.50400, saving model to model/best_weights_SIF.02-0.5040.hdf5\n",
      "Epoch 3/50\n",
      "1164/1164 [==============================] - 0s 42us/step - loss: 1.3082 - acc: 0.3969 - val_loss: 1.2410 - val_acc: 0.5100\n",
      "\n",
      "Epoch 00003: val_acc improved from 0.50400 to 0.51000, saving model to model/best_weights_SIF.03-0.5100.hdf5\n",
      "Epoch 4/50\n",
      "1164/1164 [==============================] - 0s 37us/step - loss: 1.2920 - acc: 0.4021 - val_loss: 1.2201 - val_acc: 0.5100\n",
      "\n",
      "Epoch 00004: val_acc improved from 0.51000 to 0.51000, saving model to model/best_weights_SIF.04-0.5100.hdf5\n",
      "Epoch 5/50\n",
      "1164/1164 [==============================] - 0s 45us/step - loss: 1.2809 - acc: 0.4003 - val_loss: 1.2001 - val_acc: 0.5200\n",
      "\n",
      "Epoch 00005: val_acc improved from 0.51000 to 0.52000, saving model to model/best_weights_SIF.05-0.5200.hdf5\n",
      "Epoch 6/50\n",
      "1164/1164 [==============================] - 0s 47us/step - loss: 1.2692 - acc: 0.4210 - val_loss: 1.1961 - val_acc: 0.5300\n",
      "\n",
      "Epoch 00006: val_acc improved from 0.52000 to 0.53000, saving model to model/best_weights_SIF.06-0.5300.hdf5\n",
      "Epoch 7/50\n",
      "1164/1164 [==============================] - 0s 42us/step - loss: 1.2600 - acc: 0.4210 - val_loss: 1.1802 - val_acc: 0.5340\n",
      "\n",
      "Epoch 00007: val_acc improved from 0.53000 to 0.53400, saving model to model/best_weights_SIF.07-0.5340.hdf5\n",
      "Epoch 8/50\n",
      "1164/1164 [==============================] - 0s 52us/step - loss: 1.2467 - acc: 0.4527 - val_loss: 1.1670 - val_acc: 0.5440\n",
      "\n",
      "Epoch 00008: val_acc improved from 0.53400 to 0.54400, saving model to model/best_weights_SIF.08-0.5440.hdf5\n",
      "Epoch 9/50\n",
      "1164/1164 [==============================] - 0s 45us/step - loss: 1.2364 - acc: 0.4321 - val_loss: 1.1605 - val_acc: 0.5360\n",
      "\n",
      "Epoch 00009: val_acc did not improve from 0.54400\n",
      "Epoch 10/50\n",
      "1164/1164 [==============================] - 0s 43us/step - loss: 1.2223 - acc: 0.4502 - val_loss: 1.1561 - val_acc: 0.5440\n",
      "\n",
      "Epoch 00010: val_acc did not improve from 0.54400\n",
      "Epoch 11/50\n",
      "1164/1164 [==============================] - 0s 40us/step - loss: 1.2133 - acc: 0.4734 - val_loss: 1.1475 - val_acc: 0.5440\n",
      "\n",
      "Epoch 00011: val_acc improved from 0.54400 to 0.54400, saving model to model/best_weights_SIF.11-0.5440.hdf5\n",
      "Epoch 12/50\n",
      "1164/1164 [==============================] - 0s 41us/step - loss: 1.2048 - acc: 0.4742 - val_loss: 1.1338 - val_acc: 0.5560\n",
      "\n",
      "Epoch 00012: val_acc improved from 0.54400 to 0.55600, saving model to model/best_weights_SIF.12-0.5560.hdf5\n",
      "Epoch 13/50\n",
      "1164/1164 [==============================] - 0s 45us/step - loss: 1.1929 - acc: 0.4837 - val_loss: 1.1309 - val_acc: 0.5580\n",
      "\n",
      "Epoch 00013: val_acc improved from 0.55600 to 0.55800, saving model to model/best_weights_SIF.13-0.5580.hdf5\n",
      "Epoch 14/50\n",
      "1164/1164 [==============================] - 0s 34us/step - loss: 1.1910 - acc: 0.4708 - val_loss: 1.1214 - val_acc: 0.5440\n",
      "\n",
      "Epoch 00014: val_acc did not improve from 0.55800\n",
      "Epoch 15/50\n",
      "1164/1164 [==============================] - 0s 38us/step - loss: 1.1836 - acc: 0.4820 - val_loss: 1.1112 - val_acc: 0.5720\n",
      "\n",
      "Epoch 00015: val_acc improved from 0.55800 to 0.57200, saving model to model/best_weights_SIF.15-0.5720.hdf5\n",
      "Epoch 16/50\n",
      "1164/1164 [==============================] - 0s 35us/step - loss: 1.1727 - acc: 0.4974 - val_loss: 1.1165 - val_acc: 0.5700\n",
      "\n",
      "Epoch 00016: val_acc did not improve from 0.57200\n",
      "Epoch 17/50\n",
      "1164/1164 [==============================] - 0s 30us/step - loss: 1.1691 - acc: 0.5026 - val_loss: 1.0945 - val_acc: 0.5620\n",
      "\n",
      "Epoch 00017: val_acc did not improve from 0.57200\n",
      "Epoch 18/50\n",
      "1164/1164 [==============================] - 0s 32us/step - loss: 1.1583 - acc: 0.5000 - val_loss: 1.0992 - val_acc: 0.5680\n",
      "\n",
      "Epoch 00018: val_acc did not improve from 0.57200\n",
      "Epoch 19/50\n",
      "1164/1164 [==============================] - 0s 32us/step - loss: 1.1504 - acc: 0.4974 - val_loss: 1.0878 - val_acc: 0.5660\n",
      "\n",
      "Epoch 00019: val_acc did not improve from 0.57200\n",
      "Epoch 20/50\n",
      "1164/1164 [==============================] - 0s 31us/step - loss: 1.1485 - acc: 0.5009 - val_loss: 1.0912 - val_acc: 0.5700\n",
      "\n",
      "Epoch 00020: val_acc did not improve from 0.57200\n",
      "Epoch 21/50\n",
      "1164/1164 [==============================] - 0s 32us/step - loss: 1.1406 - acc: 0.5146 - val_loss: 1.0770 - val_acc: 0.5760\n",
      "\n",
      "Epoch 00021: val_acc improved from 0.57200 to 0.57600, saving model to model/best_weights_SIF.21-0.5760.hdf5\n",
      "Epoch 22/50\n",
      "1164/1164 [==============================] - 0s 33us/step - loss: 1.1366 - acc: 0.5043 - val_loss: 1.0758 - val_acc: 0.5880\n",
      "\n",
      "Epoch 00022: val_acc improved from 0.57600 to 0.58800, saving model to model/best_weights_SIF.22-0.5880.hdf5\n",
      "Epoch 23/50\n",
      "1164/1164 [==============================] - 0s 34us/step - loss: 1.1300 - acc: 0.5155 - val_loss: 1.0631 - val_acc: 0.5860\n",
      "\n",
      "Epoch 00023: val_acc did not improve from 0.58800\n",
      "Epoch 24/50\n",
      "1164/1164 [==============================] - 0s 30us/step - loss: 1.1240 - acc: 0.5026 - val_loss: 1.0809 - val_acc: 0.5800\n",
      "\n",
      "Epoch 00024: val_acc did not improve from 0.58800\n",
      "Epoch 25/50\n",
      "1164/1164 [==============================] - 0s 29us/step - loss: 1.1197 - acc: 0.5180 - val_loss: 1.0525 - val_acc: 0.5700\n",
      "\n",
      "Epoch 00025: val_acc did not improve from 0.58800\n",
      "Epoch 26/50\n",
      "1164/1164 [==============================] - 0s 33us/step - loss: 1.1170 - acc: 0.5215 - val_loss: 1.0567 - val_acc: 0.5840\n",
      "\n",
      "Epoch 00026: val_acc did not improve from 0.58800\n",
      "Epoch 27/50\n",
      "1164/1164 [==============================] - 0s 32us/step - loss: 1.1041 - acc: 0.5241 - val_loss: 1.0448 - val_acc: 0.5880\n",
      "\n",
      "Epoch 00027: val_acc did not improve from 0.58800\n",
      "Epoch 28/50\n",
      "1164/1164 [==============================] - 0s 30us/step - loss: 1.1021 - acc: 0.5301 - val_loss: 1.0458 - val_acc: 0.5800\n",
      "\n",
      "Epoch 00028: val_acc did not improve from 0.58800\n",
      "Epoch 29/50\n",
      "1164/1164 [==============================] - 0s 30us/step - loss: 1.0968 - acc: 0.5318 - val_loss: 1.0384 - val_acc: 0.5980\n",
      "\n",
      "Epoch 00029: val_acc improved from 0.58800 to 0.59800, saving model to model/best_weights_SIF.29-0.5980.hdf5\n",
      "Epoch 30/50\n",
      "1164/1164 [==============================] - 0s 31us/step - loss: 1.0868 - acc: 0.5404 - val_loss: 1.0304 - val_acc: 0.5940\n",
      "\n",
      "Epoch 00030: val_acc did not improve from 0.59800\n",
      "Epoch 31/50\n",
      "1164/1164 [==============================] - 0s 34us/step - loss: 1.0902 - acc: 0.5421 - val_loss: 1.0254 - val_acc: 0.5980\n",
      "\n",
      "Epoch 00031: val_acc improved from 0.59800 to 0.59800, saving model to model/best_weights_SIF.31-0.5980.hdf5\n",
      "Epoch 32/50\n",
      "1164/1164 [==============================] - 0s 33us/step - loss: 1.0879 - acc: 0.5318 - val_loss: 1.0338 - val_acc: 0.5900\n",
      "\n",
      "Epoch 00032: val_acc did not improve from 0.59800\n",
      "Epoch 33/50\n",
      "1164/1164 [==============================] - 0s 34us/step - loss: 1.0746 - acc: 0.5507 - val_loss: 1.0140 - val_acc: 0.5900\n",
      "\n",
      "Epoch 00033: val_acc did not improve from 0.59800\n",
      "Epoch 34/50\n",
      "1164/1164 [==============================] - 0s 33us/step - loss: 1.0731 - acc: 0.5421 - val_loss: 1.0272 - val_acc: 0.5960\n",
      "\n",
      "Epoch 00034: val_acc did not improve from 0.59800\n",
      "Epoch 35/50\n",
      "1164/1164 [==============================] - 0s 34us/step - loss: 1.0672 - acc: 0.5395 - val_loss: 1.0172 - val_acc: 0.6000\n",
      "\n",
      "Epoch 00035: val_acc improved from 0.59800 to 0.60000, saving model to model/best_weights_SIF.35-0.6000.hdf5\n",
      "Epoch 36/50\n",
      "1164/1164 [==============================] - 0s 35us/step - loss: 1.0670 - acc: 0.5507 - val_loss: 0.9993 - val_acc: 0.6060\n",
      "\n",
      "Epoch 00036: val_acc improved from 0.60000 to 0.60600, saving model to model/best_weights_SIF.36-0.6060.hdf5\n",
      "Epoch 37/50\n",
      "1164/1164 [==============================] - 0s 28us/step - loss: 1.0620 - acc: 0.5567 - val_loss: 1.0306 - val_acc: 0.5880\n",
      "\n",
      "Epoch 00037: val_acc did not improve from 0.60600\n",
      "Epoch 38/50\n",
      "1164/1164 [==============================] - 0s 30us/step - loss: 1.0514 - acc: 0.5670 - val_loss: 1.0054 - val_acc: 0.6000\n",
      "\n",
      "Epoch 00038: val_acc did not improve from 0.60600\n",
      "Epoch 39/50\n",
      "1164/1164 [==============================] - 0s 30us/step - loss: 1.0620 - acc: 0.5644 - val_loss: 1.0188 - val_acc: 0.6000\n",
      "\n",
      "Epoch 00039: val_acc did not improve from 0.60600\n",
      "Epoch 40/50\n",
      "1164/1164 [==============================] - 0s 29us/step - loss: 1.0447 - acc: 0.5610 - val_loss: 0.9927 - val_acc: 0.6020\n",
      "\n",
      "Epoch 00040: val_acc did not improve from 0.60600\n",
      "Epoch 41/50\n",
      "1164/1164 [==============================] - 0s 28us/step - loss: 1.0471 - acc: 0.5515 - val_loss: 1.0082 - val_acc: 0.5880\n",
      "\n",
      "Epoch 00041: val_acc did not improve from 0.60600\n",
      "Epoch 42/50\n",
      "1164/1164 [==============================] - 0s 29us/step - loss: 1.0458 - acc: 0.5593 - val_loss: 0.9859 - val_acc: 0.6220\n",
      "\n",
      "Epoch 00042: val_acc improved from 0.60600 to 0.62200, saving model to model/best_weights_SIF.42-0.6220.hdf5\n",
      "Epoch 43/50\n",
      "1164/1164 [==============================] - 0s 28us/step - loss: 1.0399 - acc: 0.5576 - val_loss: 1.0293 - val_acc: 0.5680\n",
      "\n",
      "Epoch 00043: val_acc did not improve from 0.62200\n",
      "Epoch 44/50\n",
      "1164/1164 [==============================] - 0s 28us/step - loss: 1.0325 - acc: 0.5679 - val_loss: 0.9806 - val_acc: 0.6080\n",
      "\n",
      "Epoch 00044: val_acc did not improve from 0.62200\n",
      "Epoch 45/50\n",
      "1164/1164 [==============================] - 0s 31us/step - loss: 1.0325 - acc: 0.5593 - val_loss: 0.9738 - val_acc: 0.6180\n",
      "\n",
      "Epoch 00045: val_acc did not improve from 0.62200\n",
      "Epoch 46/50\n",
      "1164/1164 [==============================] - 0s 29us/step - loss: 1.0386 - acc: 0.5644 - val_loss: 0.9928 - val_acc: 0.6080\n",
      "\n",
      "Epoch 00046: val_acc did not improve from 0.62200\n",
      "Epoch 47/50\n",
      "1164/1164 [==============================] - 0s 28us/step - loss: 1.0243 - acc: 0.5747 - val_loss: 0.9745 - val_acc: 0.6180\n",
      "\n",
      "Epoch 00047: val_acc did not improve from 0.62200\n",
      "Epoch 48/50\n",
      "1164/1164 [==============================] - 0s 29us/step - loss: 1.0239 - acc: 0.5765 - val_loss: 0.9953 - val_acc: 0.5960\n",
      "\n",
      "Epoch 00048: val_acc did not improve from 0.62200\n",
      "Epoch 49/50\n",
      "1164/1164 [==============================] - 0s 28us/step - loss: 1.0211 - acc: 0.5679 - val_loss: 0.9642 - val_acc: 0.6100\n",
      "\n",
      "Epoch 00049: val_acc did not improve from 0.62200\n",
      "Epoch 50/50\n",
      "1164/1164 [==============================] - 0s 29us/step - loss: 1.0183 - acc: 0.5644 - val_loss: 0.9945 - val_acc: 0.6040\n",
      "\n",
      "Epoch 00050: val_acc did not improve from 0.62200\n"
     ]
    },
    {
     "data": {
      "text/plain": [
       "<keras.callbacks.History at 0x215a6534e48>"
      ]
     },
     "execution_count": 29,
     "metadata": {},
     "output_type": "execute_result"
    }
   ],
   "source": [
    "filepath=\"model/best_weights_SIF.{epoch:02d}-{val_acc:.4f}.hdf5\"\n",
    "checkpoint = ModelCheckpoint(filepath, monitor='val_acc', verbose=1, save_best_only=True, mode='max')\n",
    "\n",
    "model.fit(np.concatenate((Xtrain,Xdev)), to_categorical(np.concatenate((ytrain,ydev))), batch_size=64, epochs=50,\n",
    "                     validation_data=(Xdev, to_categorical(ydev)), callbacks = [checkpoint], verbose=1)"
   ]
  },
  {
   "cell_type": "code",
   "execution_count": 30,
   "metadata": {},
   "outputs": [],
   "source": [
    "from keras.models import load_model\n",
    "\n",
    "best_model = load_model('model/best_weights_SIF.42-0.6220.hdf5')"
   ]
  },
  {
   "cell_type": "code",
   "execution_count": null,
   "metadata": {},
   "outputs": [],
   "source": []
  },
  {
   "cell_type": "code",
   "execution_count": 31,
   "metadata": {},
   "outputs": [],
   "source": [
    "test_values = np.argmax(best_model.predict(Xtest), axis = 1)"
   ]
  },
  {
   "cell_type": "code",
   "execution_count": 32,
   "metadata": {},
   "outputs": [
    {
     "data": {
      "text/plain": [
       "1428"
      ]
     },
     "execution_count": 32,
     "metadata": {},
     "output_type": "execute_result"
    }
   ],
   "source": [
    "len(test_values)"
   ]
  },
  {
   "cell_type": "code",
   "execution_count": 33,
   "metadata": {},
   "outputs": [],
   "source": [
    "def getLabel(num):\n",
    "    if num == 0:\n",
    "        return 'N'\n",
    "    elif num == 1:\n",
    "        return 'P'\n",
    "    elif num == 2:\n",
    "        return 'NEU'\n",
    "    elif num == 3:\n",
    "        return 'NONE'"
   ]
  },
  {
   "cell_type": "code",
   "execution_count": 34,
   "metadata": {},
   "outputs": [],
   "source": [
    "import xml.etree.ElementTree as ET\n",
    "\n",
    "def putTestValue(xmlFIle, out):\n",
    "    tree = ET.parse(xmlFIle)\n",
    "    root = tree.getroot()\n",
    "\n",
    "    tweets = []\n",
    "    file = open(out,\"w\") \n",
    "    print(len(test_values))\n",
    "    for i,tweet in enumerate(root.iter('tweet')): \n",
    "        #print(i)\n",
    "        val = getLabel(test_values[i])\n",
    "        ID = tweet.find('tweetid').text\n",
    "        file.write(ID + \"\\t\" + val + \"\\n\")\n",
    "    file.close() "
   ]
  },
  {
   "cell_type": "code",
   "execution_count": 35,
   "metadata": {},
   "outputs": [
    {
     "name": "stdout",
     "output_type": "stream",
     "text": [
      "1428\n"
     ]
    }
   ],
   "source": [
    "putTestValue(\"../database/TASS/TASS2018/task1-Test.xml\", \"output20180408-1.txt\")"
   ]
  },
  {
   "cell_type": "code",
   "execution_count": null,
   "metadata": {},
   "outputs": [],
   "source": []
  }
 ],
 "metadata": {
  "kernelspec": {
   "display_name": "Python 3",
   "language": "python",
   "name": "python3"
  },
  "language_info": {
   "codemirror_mode": {
    "name": "ipython",
    "version": 3
   },
   "file_extension": ".py",
   "mimetype": "text/x-python",
   "name": "python",
   "nbconvert_exporter": "python",
   "pygments_lexer": "ipython3",
   "version": "3.6.8"
  }
 },
 "nbformat": 4,
 "nbformat_minor": 2
}
