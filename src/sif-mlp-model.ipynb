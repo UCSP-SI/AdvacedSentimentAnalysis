{
 "cells": [
  {
   "cell_type": "code",
   "execution_count": 2,
   "metadata": {},
   "outputs": [],
   "source": [
    "import lib.xmlreader as xml\n",
    "import lib.utils as ut\n",
    "\n",
    "import numpy as np\n",
    "import random\n",
    "import gensim\n",
    "\n",
    "from sklearn.feature_extraction.text import CountVectorizer\n",
    "\n",
    "import matplotlib.pyplot as plt\n",
    "%matplotlib inline"
   ]
  },
  {
   "cell_type": "code",
   "execution_count": 3,
   "metadata": {},
   "outputs": [],
   "source": [
    "train_docs  = xml.readXML(\"../database/TASS/TASS2018/task1-Training.xml\"   ,[0,1,2,3])\n",
    "dev_docs    = xml.readXML(\"../database/TASS/TASS2018/task1-Development.xml\",[0,1,2,3])\n",
    "test_docs   = xml.readXML(\"../database/TASS/TASS2018/task1-Test.xml\"       ,[0,1,2,3])"
   ]
  },
  {
   "cell_type": "code",
   "execution_count": 4,
   "metadata": {},
   "outputs": [],
   "source": [
    "#assert (len(train_docs) == 1008)\n",
    "#assert (len(dev_docs)   ==  506)\n",
    "#assert (len(test_docs)  == 1899)\n",
    "\n",
    "assert (len(train_docs) == 1000)\n",
    "assert (len(dev_docs)   ==  500)\n",
    "assert (len(test_docs)  == 1428)"
   ]
  },
  {
   "cell_type": "code",
   "execution_count": 41,
   "metadata": {},
   "outputs": [
    {
     "data": {
      "text/plain": [
       "0"
      ]
     },
     "execution_count": 41,
     "metadata": {},
     "output_type": "execute_result"
    }
   ],
   "source": [
    "test_docs[200].polarity"
   ]
  },
  {
   "cell_type": "code",
   "execution_count": 5,
   "metadata": {},
   "outputs": [],
   "source": [
    "train_labels = []\n",
    "for train_doc in train_docs:\n",
    "    train_labels.append(train_doc.polarity)\n",
    "    \n",
    "dev_labels   = []\n",
    "for dev_doc in dev_docs:\n",
    "    dev_labels.append(dev_doc.polarity)"
   ]
  },
  {
   "cell_type": "code",
   "execution_count": 6,
   "metadata": {},
   "outputs": [],
   "source": [
    "POSI_train_docs = [train_docs[i] for i in range(len(train_labels)) if train_labels[i] == 0]\n",
    "NEGA_train_docs = [train_docs[i] for i in range(len(train_labels)) if train_labels[i] == 1]\n",
    "NEUT_train_docs = [train_docs[i] for i in range(len(train_labels)) if train_labels[i] == 2]\n",
    "NONE_train_docs = [train_docs[i] for i in range(len(train_labels)) if train_labels[i] == 3]\n",
    "\n",
    "level_train_docs = [POSI_train_docs,NEGA_train_docs,NEUT_train_docs,NONE_train_docs]"
   ]
  },
  {
   "cell_type": "code",
   "execution_count": 7,
   "metadata": {},
   "outputs": [
    {
     "name": "stdout",
     "output_type": "stream",
     "text": [
      "Positive Sentences = 242\n",
      "       \r",
      "Negative Sentences = 231\n",
      "       \r",
      "Neutral  Sentences = 166\n",
      "       \r",
      "None Values        = 361\n"
     ]
    }
   ],
   "source": [
    "fmt = \"\"\"Positive Sentences = {:d}\n",
    "       \\rNegative Sentences = {:d}\n",
    "       \\rNeutral  Sentences = {:d}\n",
    "       \\rNone Values        = {:d}\"\"\"\n",
    "\n",
    "print(fmt.format(len(POSI_train_docs),\n",
    "                 len(NEGA_train_docs),\n",
    "                 len(NEUT_train_docs),\n",
    "                 len(NONE_train_docs)))"
   ]
  },
  {
   "cell_type": "code",
   "execution_count": 8,
   "metadata": {},
   "outputs": [
    {
     "name": "stdout",
     "output_type": "stream",
     "text": [
      "Minimum number of sentences per level :  166\n"
     ]
    }
   ],
   "source": [
    "minSentLvl = min(len(POSI_train_docs),len(NEGA_train_docs),len(NEUT_train_docs),len(NONE_train_docs))\n",
    "\n",
    "print('Minimum number of sentences per level : ', minSentLvl)"
   ]
  },
  {
   "cell_type": "code",
   "execution_count": 9,
   "metadata": {},
   "outputs": [],
   "source": [
    "new_train_docs = []\n",
    "for i in range(len(level_train_docs)):\n",
    "    level_per = random.sample(level_train_docs[i],len(level_train_docs[i]))\n",
    "    new_train_docs.append(level_per[:minSentLvl])"
   ]
  },
  {
   "cell_type": "code",
   "execution_count": 10,
   "metadata": {},
   "outputs": [
    {
     "name": "stdout",
     "output_type": "stream",
     "text": [
      "New size of sentences:\n",
      "\n",
      "Positive Sentences = 166\n",
      "       \r",
      "Negative Sentences = 166\n",
      "       \r",
      "Neutral  Sentences = 166\n",
      "       \r",
      "None Values        = 166\n"
     ]
    }
   ],
   "source": [
    "print(\"New size of sentences:\\n\")\n",
    "fmt = \"\"\"Positive Sentences = {:d}\n",
    "       \\rNegative Sentences = {:d}\n",
    "       \\rNeutral  Sentences = {:d}\n",
    "       \\rNone Values        = {:d}\"\"\"\n",
    "\n",
    "print(fmt.format(len(new_train_docs[0]),\n",
    "                 len(new_train_docs[1]),\n",
    "                 len(new_train_docs[2]),\n",
    "                 len(new_train_docs[3])))"
   ]
  },
  {
   "cell_type": "code",
   "execution_count": 11,
   "metadata": {},
   "outputs": [
    {
     "name": "stdout",
     "output_type": "stream",
     "text": [
      "shuf_train_docs size =  664\n"
     ]
    }
   ],
   "source": [
    "flat_train_docs = [item for sublist in new_train_docs for item in sublist]\n",
    "shuf_train_docs = random.sample(flat_train_docs,len(flat_train_docs))\n",
    "\n",
    "assert (len(shuf_train_docs) == 4 * minSentLvl)\n",
    "print(\"shuf_train_docs size = \", len(shuf_train_docs))"
   ]
  },
  {
   "cell_type": "code",
   "execution_count": 12,
   "metadata": {},
   "outputs": [],
   "source": [
    "corpus = []\n",
    "for doc in shuf_train_docs + dev_docs + test_docs:\n",
    "    corpus.append(doc.content)"
   ]
  },
  {
   "cell_type": "code",
   "execution_count": 13,
   "metadata": {},
   "outputs": [
    {
     "name": "stdout",
     "output_type": "stream",
     "text": [
      "Sentences =  2592\n"
     ]
    }
   ],
   "source": [
    "print(\"Sentences = \", (len(test_docs + dev_docs + shuf_train_docs)))"
   ]
  },
  {
   "cell_type": "code",
   "execution_count": 14,
   "metadata": {},
   "outputs": [],
   "source": [
    "shuf_train_labels = []\n",
    "for doc in shuf_train_docs:\n",
    "    shuf_train_labels.append(doc.polarity)\n",
    "    \n",
    "assert (len(shuf_train_labels) == len(shuf_train_docs))"
   ]
  },
  {
   "cell_type": "code",
   "execution_count": 15,
   "metadata": {},
   "outputs": [],
   "source": [
    "def gensim_load_vec(path=\"../database/embeddings/SBW-vectors-300-min5.bin\"):\n",
    "    gensim_emb =  gensim.models.KeyedVectors.load_word2vec_format(path, binary=True)\n",
    "    vocab = gensim_emb.index2word\n",
    "    vec = gensim_emb.syn0\n",
    "    shape = gensim_emb.syn0.shape\n",
    "    return gensim_emb, vec, shape, vocab"
   ]
  },
  {
   "cell_type": "code",
   "execution_count": 16,
   "metadata": {},
   "outputs": [
    {
     "name": "stderr",
     "output_type": "stream",
     "text": [
      "/home/jose/.local/lib/python3.6/site-packages/ipykernel_launcher.py:4: DeprecationWarning: Call to deprecated `syn0` (Attribute will be removed in 4.0.0, use self.vectors instead).\n",
      "  after removing the cwd from sys.path.\n",
      "/home/jose/.local/lib/python3.6/site-packages/ipykernel_launcher.py:5: DeprecationWarning: Call to deprecated `syn0` (Attribute will be removed in 4.0.0, use self.vectors instead).\n",
      "  \"\"\"\n"
     ]
    }
   ],
   "source": [
    "gensim_emb, vec, shape, vocab = gensim_load_vec()"
   ]
  },
  {
   "cell_type": "code",
   "execution_count": 17,
   "metadata": {},
   "outputs": [],
   "source": [
    "counter = CountVectorizer(tokenizer=ut.tokenizer)"
   ]
  },
  {
   "cell_type": "code",
   "execution_count": 18,
   "metadata": {},
   "outputs": [
    {
     "name": "stdout",
     "output_type": "stream",
     "text": [
      "(2592, 8012)\n"
     ]
    }
   ],
   "source": [
    "X = counter.fit_transform(corpus)\n",
    "print(X.shape)"
   ]
  },
  {
   "cell_type": "code",
   "execution_count": 19,
   "metadata": {},
   "outputs": [
    {
     "name": "stdout",
     "output_type": "stream",
     "text": [
      "(2592, 8012)\n"
     ]
    }
   ],
   "source": [
    "VOCAB_SIZE = X.shape[1]\n",
    "\n",
    "caption_texts = corpus\n",
    "Xc = counter.fit_transform(caption_texts).todense().astype(\"float\")\n",
    "print(Xc.shape)"
   ]
  },
  {
   "cell_type": "code",
   "execution_count": 23,
   "metadata": {},
   "outputs": [
    {
     "name": "stdout",
     "output_type": "stream",
     "text": [
      "(2592, 1)\n"
     ]
    }
   ],
   "source": [
    "sent_lens = np.sum(Xc, axis=1).astype(\"float\")\n",
    "sent_lens[sent_lens == 0] = 1e-14\n",
    "print(sent_lens.shape)"
   ]
  },
  {
   "cell_type": "code",
   "execution_count": 20,
   "metadata": {},
   "outputs": [],
   "source": [
    "embedding_matrix = np.zeros((VOCAB_SIZE, 300), np.float)\n",
    "\n",
    "for word in list(counter.vocabulary_.keys()):\n",
    "    try:\n",
    "        i = counter.vocabulary_[word]\n",
    "        embedding_matrix[i] = gensim_emb[word]\n",
    "    except KeyError:\n",
    "        pass"
   ]
  },
  {
   "cell_type": "code",
   "execution_count": 21,
   "metadata": {},
   "outputs": [
    {
     "data": {
      "text/plain": [
       "True"
      ]
     },
     "execution_count": 21,
     "metadata": {},
     "output_type": "execute_result"
    }
   ],
   "source": [
    "np.array_equal(embedding_matrix[counter.vocabulary_['hola']], gensim_emb['hola'])"
   ]
  },
  {
   "cell_type": "code",
   "execution_count": 24,
   "metadata": {},
   "outputs": [
    {
     "name": "stdout",
     "output_type": "stream",
     "text": [
      "(2592, 300)\n"
     ]
    }
   ],
   "source": [
    "Xb = np.divide(np.dot(Xc, embedding_matrix), sent_lens)\n",
    "print(Xb.shape)"
   ]
  },
  {
   "cell_type": "code",
   "execution_count": 25,
   "metadata": {},
   "outputs": [],
   "source": [
    "train_tweets = []\n",
    "train_labels = shuf_train_labels\n",
    "for doc in shuf_train_docs:\n",
    "    train_tweets.append(doc.content)\n",
    "\n",
    "dev_tweets = []\n",
    "for doc in dev_docs:\n",
    "    dev_tweets.append(doc.content)\n",
    "\n",
    "test_tweets = []\n",
    "for doc in test_docs:\n",
    "    test_tweets.append(doc.content)"
   ]
  },
  {
   "cell_type": "code",
   "execution_count": 30,
   "metadata": {},
   "outputs": [
    {
     "name": "stdout",
     "output_type": "stream",
     "text": [
      "Shape of data train tensor: (664, 300)\n",
      "Shape of data val  tensor : (500, 300)\n",
      "Shape of data test  tensor: (1428, 300)\n",
      "Shape of data train labels: 664\n",
      "Shape of data val   labels: 500\n"
     ]
    }
   ],
   "source": [
    "Xtrain = Xb[0:len(train_tweets)]\n",
    "Xdev   = Xb[ len(train_tweets):len(train_tweets) + len(dev_tweets)]\n",
    "Xtest  = Xb[-len(test_tweets):]\n",
    "\n",
    "ytrain = np.array(train_labels)\n",
    "ydev   = np.array(dev_labels)\n",
    "\n",
    "print('Shape of data train tensor:', Xtrain.shape)\n",
    "print('Shape of data val  tensor :', Xdev.shape)\n",
    "print('Shape of data test  tensor:', Xtest.shape)\n",
    "\n",
    "print('Shape of data train labels:', len(train_labels))\n",
    "print('Shape of data val   labels:', len(dev_labels))"
   ]
  },
  {
   "cell_type": "code",
   "execution_count": 33,
   "metadata": {},
   "outputs": [
    {
     "name": "stdout",
     "output_type": "stream",
     "text": [
      "['/job:localhost/replica:0/task:0/device:GPU:0']\n"
     ]
    }
   ],
   "source": [
    "import tensorflow as tf\n",
    "import keras \n",
    "\n",
    "from keras.utils import to_categorical\n",
    "from keras import backend as K\n",
    "\n",
    "from keras.models import Sequential\n",
    "from keras.layers import Dense, Dropout\n",
    "from keras.layers import Flatten\n",
    "from keras.layers.embeddings import Embedding\n",
    "\n",
    "from keras.layers import Input, Dense, concatenate, Activation\n",
    "from keras.models import Model\n",
    "from keras.layers import Conv1D, GlobalMaxPooling1D\n",
    "\n",
    "from keras.callbacks import ModelCheckpoint\n",
    "\n",
    "print(K.tensorflow_backend._get_available_gpus())\n",
    "\n",
    "\n",
    "config = tf.ConfigProto(intra_op_parallelism_threads=4, \\\n",
    "                        inter_op_parallelism_threads=4, \\\n",
    "                        allow_soft_placement=True,\\\n",
    "                        device_count = {'CPU' : 1, 'GPU' : 0})\n",
    "\n",
    "sess = tf.Session(config=config)\n",
    "K.set_session(sess)\n",
    "    \n",
    "seed = 7"
   ]
  },
  {
   "cell_type": "code",
   "execution_count": 34,
   "metadata": {},
   "outputs": [
    {
     "name": "stdout",
     "output_type": "stream",
     "text": [
      "_________________________________________________________________\n",
      "Layer (type)                 Output Shape              Param #   \n",
      "=================================================================\n",
      "input_1 (InputLayer)         (None, 300)               0         \n",
      "_________________________________________________________________\n",
      "dense_3 (Dense)              (None, 64)                19264     \n",
      "_________________________________________________________________\n",
      "dropout_3 (Dropout)          (None, 64)                0         \n",
      "_________________________________________________________________\n",
      "dense_4 (Dense)              (None, 4)                 260       \n",
      "_________________________________________________________________\n",
      "activation_1 (Activation)    (None, 4)                 0         \n",
      "=================================================================\n",
      "Total params: 19,524\n",
      "Trainable params: 19,524\n",
      "Non-trainable params: 0\n",
      "_________________________________________________________________\n"
     ]
    }
   ],
   "source": [
    "tweet_encoder   = Input(shape=(300,), dtype='float32')\n",
    "\n",
    "merged = Dense(256)(tweet_encoder)\n",
    "merged = Dropout(0.5)(merged)\n",
    "\n",
    "merged = Dense(128)(tweet_encoder)\n",
    "merged = Dropout(0.5)(merged)\n",
    "\n",
    "merged = Dense(64)(tweet_encoder)\n",
    "merged = Dropout(0.2)(merged)\n",
    "\n",
    "merged = Dense(4)(merged)\n",
    "output = Activation('softmax')(merged)\n",
    "model  = Model(inputs=[tweet_encoder], outputs=[output])\n",
    "\n",
    "model.compile(loss='categorical_crossentropy',\n",
    "                  optimizer='adam',\n",
    "                  metrics=['accuracy'])\n",
    "model.summary()"
   ]
  },
  {
   "cell_type": "code",
   "execution_count": 38,
   "metadata": {},
   "outputs": [
    {
     "name": "stdout",
     "output_type": "stream",
     "text": [
      "Train on 1164 samples, validate on 500 samples\n",
      "Epoch 1/50\n",
      "1164/1164 [==============================] - 0s 21us/step - loss: 1.0856 - acc: 0.5352 - val_loss: 1.2411 - val_acc: 0.4380\n",
      "\n",
      "Epoch 00001: val_acc improved from -inf to 0.43800, saving model to model/best_weights_SIF.01-0.4380.hdf5\n",
      "Epoch 2/50\n",
      "1164/1164 [==============================] - 0s 24us/step - loss: 1.0762 - acc: 0.5241 - val_loss: 1.2027 - val_acc: 0.4560\n",
      "\n",
      "Epoch 00002: val_acc improved from 0.43800 to 0.45600, saving model to model/best_weights_SIF.02-0.4560.hdf5\n",
      "Epoch 3/50\n",
      "1164/1164 [==============================] - 0s 25us/step - loss: 1.0704 - acc: 0.5215 - val_loss: 1.2057 - val_acc: 0.4540\n",
      "\n",
      "Epoch 00003: val_acc did not improve from 0.45600\n",
      "Epoch 4/50\n",
      "1164/1164 [==============================] - 0s 23us/step - loss: 1.0696 - acc: 0.5137 - val_loss: 1.2071 - val_acc: 0.4520\n",
      "\n",
      "Epoch 00004: val_acc did not improve from 0.45600\n",
      "Epoch 5/50\n",
      "1164/1164 [==============================] - 0s 28us/step - loss: 1.0599 - acc: 0.5335 - val_loss: 1.1893 - val_acc: 0.4400\n",
      "\n",
      "Epoch 00005: val_acc did not improve from 0.45600\n",
      "Epoch 6/50\n",
      "1164/1164 [==============================] - 0s 28us/step - loss: 1.0645 - acc: 0.5318 - val_loss: 1.1410 - val_acc: 0.5020\n",
      "\n",
      "Epoch 00006: val_acc improved from 0.45600 to 0.50200, saving model to model/best_weights_SIF.06-0.5020.hdf5\n",
      "Epoch 7/50\n",
      "1164/1164 [==============================] - 0s 25us/step - loss: 1.0328 - acc: 0.5481 - val_loss: 1.0929 - val_acc: 0.5300\n",
      "\n",
      "Epoch 00007: val_acc improved from 0.50200 to 0.53000, saving model to model/best_weights_SIF.07-0.5300.hdf5\n",
      "Epoch 8/50\n",
      "1164/1164 [==============================] - 0s 24us/step - loss: 1.0316 - acc: 0.5430 - val_loss: 1.1587 - val_acc: 0.4560\n",
      "\n",
      "Epoch 00008: val_acc did not improve from 0.53000\n",
      "Epoch 9/50\n",
      "1164/1164 [==============================] - 0s 24us/step - loss: 1.0252 - acc: 0.5404 - val_loss: 1.1281 - val_acc: 0.4880\n",
      "\n",
      "Epoch 00009: val_acc did not improve from 0.53000\n",
      "Epoch 10/50\n",
      "1164/1164 [==============================] - 0s 23us/step - loss: 1.0222 - acc: 0.5369 - val_loss: 1.1122 - val_acc: 0.5160\n",
      "\n",
      "Epoch 00010: val_acc did not improve from 0.53000\n",
      "Epoch 11/50\n",
      "1164/1164 [==============================] - 0s 25us/step - loss: 1.0164 - acc: 0.5490 - val_loss: 1.1269 - val_acc: 0.4760\n",
      "\n",
      "Epoch 00011: val_acc did not improve from 0.53000\n",
      "Epoch 12/50\n",
      "1164/1164 [==============================] - 0s 24us/step - loss: 1.0120 - acc: 0.5627 - val_loss: 1.0657 - val_acc: 0.5400\n",
      "\n",
      "Epoch 00012: val_acc improved from 0.53000 to 0.54000, saving model to model/best_weights_SIF.12-0.5400.hdf5\n",
      "Epoch 13/50\n",
      "1164/1164 [==============================] - 0s 24us/step - loss: 1.0103 - acc: 0.5533 - val_loss: 1.0810 - val_acc: 0.5260\n",
      "\n",
      "Epoch 00013: val_acc did not improve from 0.54000\n",
      "Epoch 14/50\n",
      "1164/1164 [==============================] - 0s 28us/step - loss: 1.0036 - acc: 0.5653 - val_loss: 1.0815 - val_acc: 0.5180\n",
      "\n",
      "Epoch 00014: val_acc did not improve from 0.54000\n",
      "Epoch 15/50\n",
      "1164/1164 [==============================] - 0s 24us/step - loss: 0.9967 - acc: 0.5713 - val_loss: 1.0616 - val_acc: 0.5460\n",
      "\n",
      "Epoch 00015: val_acc improved from 0.54000 to 0.54600, saving model to model/best_weights_SIF.15-0.5460.hdf5\n",
      "Epoch 16/50\n",
      "1164/1164 [==============================] - 0s 28us/step - loss: 0.9964 - acc: 0.5773 - val_loss: 1.0617 - val_acc: 0.5500\n",
      "\n",
      "Epoch 00016: val_acc improved from 0.54600 to 0.55000, saving model to model/best_weights_SIF.16-0.5500.hdf5\n",
      "Epoch 17/50\n",
      "1164/1164 [==============================] - 0s 27us/step - loss: 0.9936 - acc: 0.5662 - val_loss: 1.0994 - val_acc: 0.5140\n",
      "\n",
      "Epoch 00017: val_acc did not improve from 0.55000\n",
      "Epoch 18/50\n",
      "1164/1164 [==============================] - 0s 26us/step - loss: 0.9982 - acc: 0.5704 - val_loss: 1.0358 - val_acc: 0.5500\n",
      "\n",
      "Epoch 00018: val_acc did not improve from 0.55000\n",
      "Epoch 19/50\n",
      "1164/1164 [==============================] - 0s 26us/step - loss: 0.9941 - acc: 0.5601 - val_loss: 1.0305 - val_acc: 0.5660\n",
      "\n",
      "Epoch 00019: val_acc improved from 0.55000 to 0.56600, saving model to model/best_weights_SIF.19-0.5660.hdf5\n",
      "Epoch 20/50\n",
      "1164/1164 [==============================] - 0s 26us/step - loss: 0.9783 - acc: 0.5730 - val_loss: 1.0269 - val_acc: 0.5660\n",
      "\n",
      "Epoch 00020: val_acc did not improve from 0.56600\n",
      "Epoch 21/50\n",
      "1164/1164 [==============================] - 0s 29us/step - loss: 0.9854 - acc: 0.5756 - val_loss: 1.0766 - val_acc: 0.5220\n",
      "\n",
      "Epoch 00021: val_acc did not improve from 0.56600\n",
      "Epoch 22/50\n",
      "1164/1164 [==============================] - 0s 23us/step - loss: 0.9859 - acc: 0.5765 - val_loss: 1.0144 - val_acc: 0.5680\n",
      "\n",
      "Epoch 00022: val_acc improved from 0.56600 to 0.56800, saving model to model/best_weights_SIF.22-0.5680.hdf5\n",
      "Epoch 23/50\n",
      "1164/1164 [==============================] - 0s 27us/step - loss: 0.9779 - acc: 0.5842 - val_loss: 1.0490 - val_acc: 0.5220\n",
      "\n",
      "Epoch 00023: val_acc did not improve from 0.56800\n",
      "Epoch 24/50\n",
      "1164/1164 [==============================] - 0s 24us/step - loss: 0.9691 - acc: 0.5885 - val_loss: 1.0198 - val_acc: 0.5720\n",
      "\n",
      "Epoch 00024: val_acc improved from 0.56800 to 0.57200, saving model to model/best_weights_SIF.24-0.5720.hdf5\n",
      "Epoch 25/50\n",
      "1164/1164 [==============================] - 0s 25us/step - loss: 0.9572 - acc: 0.6005 - val_loss: 1.0081 - val_acc: 0.5600\n",
      "\n",
      "Epoch 00025: val_acc did not improve from 0.57200\n",
      "Epoch 26/50\n",
      "1164/1164 [==============================] - 0s 24us/step - loss: 0.9674 - acc: 0.5765 - val_loss: 1.0788 - val_acc: 0.5120\n",
      "\n",
      "Epoch 00026: val_acc did not improve from 0.57200\n",
      "Epoch 27/50\n",
      "1164/1164 [==============================] - 0s 22us/step - loss: 0.9687 - acc: 0.5962 - val_loss: 0.9981 - val_acc: 0.5660\n",
      "\n",
      "Epoch 00027: val_acc did not improve from 0.57200\n",
      "Epoch 28/50\n",
      "1164/1164 [==============================] - 0s 22us/step - loss: 0.9548 - acc: 0.5962 - val_loss: 1.0354 - val_acc: 0.5240\n",
      "\n",
      "Epoch 00028: val_acc did not improve from 0.57200\n",
      "Epoch 29/50\n",
      "1164/1164 [==============================] - 0s 27us/step - loss: 0.9728 - acc: 0.5833 - val_loss: 1.0054 - val_acc: 0.5600\n",
      "\n",
      "Epoch 00029: val_acc did not improve from 0.57200\n",
      "Epoch 30/50\n",
      "1164/1164 [==============================] - 0s 23us/step - loss: 0.9696 - acc: 0.5704 - val_loss: 1.0448 - val_acc: 0.5620\n",
      "\n",
      "Epoch 00030: val_acc did not improve from 0.57200\n",
      "Epoch 31/50\n",
      "1164/1164 [==============================] - 0s 21us/step - loss: 0.9596 - acc: 0.5988 - val_loss: 1.0270 - val_acc: 0.5740\n",
      "\n",
      "Epoch 00031: val_acc improved from 0.57200 to 0.57400, saving model to model/best_weights_SIF.31-0.5740.hdf5\n",
      "Epoch 32/50\n",
      "1164/1164 [==============================] - 0s 24us/step - loss: 0.9379 - acc: 0.6125 - val_loss: 0.9943 - val_acc: 0.5800\n",
      "\n",
      "Epoch 00032: val_acc improved from 0.57400 to 0.58000, saving model to model/best_weights_SIF.32-0.5800.hdf5\n",
      "Epoch 33/50\n",
      "1164/1164 [==============================] - 0s 21us/step - loss: 0.9460 - acc: 0.5962 - val_loss: 0.9712 - val_acc: 0.5780\n",
      "\n",
      "Epoch 00033: val_acc did not improve from 0.58000\n",
      "Epoch 34/50\n",
      "1164/1164 [==============================] - 0s 21us/step - loss: 0.9498 - acc: 0.5911 - val_loss: 0.9899 - val_acc: 0.5740\n",
      "\n",
      "Epoch 00034: val_acc did not improve from 0.58000\n",
      "Epoch 35/50\n",
      "1164/1164 [==============================] - 0s 22us/step - loss: 0.9408 - acc: 0.5979 - val_loss: 0.9940 - val_acc: 0.5840\n",
      "\n",
      "Epoch 00035: val_acc improved from 0.58000 to 0.58400, saving model to model/best_weights_SIF.35-0.5840.hdf5\n",
      "Epoch 36/50\n",
      "1164/1164 [==============================] - 0s 22us/step - loss: 0.9359 - acc: 0.6005 - val_loss: 0.9534 - val_acc: 0.5860\n",
      "\n",
      "Epoch 00036: val_acc improved from 0.58400 to 0.58600, saving model to model/best_weights_SIF.36-0.5860.hdf5\n",
      "Epoch 37/50\n",
      "1164/1164 [==============================] - 0s 24us/step - loss: 0.9501 - acc: 0.5842 - val_loss: 0.9650 - val_acc: 0.5880\n",
      "\n",
      "Epoch 00037: val_acc improved from 0.58600 to 0.58800, saving model to model/best_weights_SIF.37-0.5880.hdf5\n",
      "Epoch 38/50\n",
      "1164/1164 [==============================] - 0s 24us/step - loss: 0.9324 - acc: 0.6074 - val_loss: 1.0043 - val_acc: 0.5580\n",
      "\n",
      "Epoch 00038: val_acc did not improve from 0.58800\n",
      "Epoch 39/50\n",
      "1164/1164 [==============================] - 0s 27us/step - loss: 0.9255 - acc: 0.6031 - val_loss: 1.0341 - val_acc: 0.5300\n",
      "\n",
      "Epoch 00039: val_acc did not improve from 0.58800\n",
      "Epoch 40/50\n"
     ]
    },
    {
     "name": "stdout",
     "output_type": "stream",
     "text": [
      "1164/1164 [==============================] - 0s 23us/step - loss: 0.9399 - acc: 0.6151 - val_loss: 0.9965 - val_acc: 0.5860\n",
      "\n",
      "Epoch 00040: val_acc did not improve from 0.58800\n",
      "Epoch 41/50\n",
      "1164/1164 [==============================] - 0s 23us/step - loss: 0.9317 - acc: 0.6022 - val_loss: 0.9393 - val_acc: 0.6000\n",
      "\n",
      "Epoch 00041: val_acc improved from 0.58800 to 0.60000, saving model to model/best_weights_SIF.41-0.6000.hdf5\n",
      "Epoch 42/50\n",
      "1164/1164 [==============================] - 0s 23us/step - loss: 0.9282 - acc: 0.6057 - val_loss: 0.9447 - val_acc: 0.5880\n",
      "\n",
      "Epoch 00042: val_acc did not improve from 0.60000\n",
      "Epoch 43/50\n",
      "1164/1164 [==============================] - 0s 23us/step - loss: 0.9180 - acc: 0.6134 - val_loss: 0.9742 - val_acc: 0.5600\n",
      "\n",
      "Epoch 00043: val_acc did not improve from 0.60000\n",
      "Epoch 44/50\n",
      "1164/1164 [==============================] - 0s 20us/step - loss: 0.9317 - acc: 0.5936 - val_loss: 0.9592 - val_acc: 0.5860\n",
      "\n",
      "Epoch 00044: val_acc did not improve from 0.60000\n",
      "Epoch 45/50\n",
      "1164/1164 [==============================] - 0s 22us/step - loss: 0.9142 - acc: 0.6074 - val_loss: 0.9631 - val_acc: 0.5900\n",
      "\n",
      "Epoch 00045: val_acc did not improve from 0.60000\n",
      "Epoch 46/50\n",
      "1164/1164 [==============================] - 0s 21us/step - loss: 0.9135 - acc: 0.6125 - val_loss: 0.9167 - val_acc: 0.5980\n",
      "\n",
      "Epoch 00046: val_acc did not improve from 0.60000\n",
      "Epoch 47/50\n",
      "1164/1164 [==============================] - 0s 27us/step - loss: 0.9483 - acc: 0.5911 - val_loss: 0.9679 - val_acc: 0.5640\n",
      "\n",
      "Epoch 00047: val_acc did not improve from 0.60000\n",
      "Epoch 48/50\n",
      "1164/1164 [==============================] - 0s 21us/step - loss: 0.9258 - acc: 0.6091 - val_loss: 0.9475 - val_acc: 0.5960\n",
      "\n",
      "Epoch 00048: val_acc did not improve from 0.60000\n",
      "Epoch 49/50\n",
      "1164/1164 [==============================] - 0s 24us/step - loss: 0.9091 - acc: 0.6074 - val_loss: 0.9389 - val_acc: 0.5940\n",
      "\n",
      "Epoch 00049: val_acc did not improve from 0.60000\n",
      "Epoch 50/50\n",
      "1164/1164 [==============================] - 0s 22us/step - loss: 0.9184 - acc: 0.6117 - val_loss: 0.9585 - val_acc: 0.6020\n",
      "\n",
      "Epoch 00050: val_acc improved from 0.60000 to 0.60200, saving model to model/best_weights_SIF.50-0.6020.hdf5\n"
     ]
    },
    {
     "data": {
      "text/plain": [
       "<keras.callbacks.History at 0x7f0e2440ba58>"
      ]
     },
     "execution_count": 38,
     "metadata": {},
     "output_type": "execute_result"
    }
   ],
   "source": [
    "filepath=\"model/best_weights_SIF.{epoch:02d}-{val_acc:.4f}.hdf5\"\n",
    "checkpoint = ModelCheckpoint(filepath, monitor='val_acc', verbose=1, save_best_only=True, mode='max')\n",
    "\n",
    "model.fit(np.concatenate((Xtrain,Xdev)), to_categorical(np.concatenate((ytrain,ydev))), batch_size=64, epochs=50,\n",
    "                     validation_data=(Xdev, to_categorical(ydev)), callbacks = [checkpoint], verbose=1)"
   ]
  },
  {
   "cell_type": "code",
   "execution_count": 42,
   "metadata": {},
   "outputs": [],
   "source": [
    "from keras.models import load_model\n",
    "\n",
    "best_model = load_model('model/best_weights_SIF.50-0.6020.hdf5')"
   ]
  },
  {
   "cell_type": "code",
   "execution_count": 1,
   "metadata": {},
   "outputs": [
    {
     "ename": "NameError",
     "evalue": "name 'xml' is not defined",
     "output_type": "error",
     "traceback": [
      "\u001b[0;31m---------------------------------------------------------------------------\u001b[0m",
      "\u001b[0;31mNameError\u001b[0m                                 Traceback (most recent call last)",
      "\u001b[0;32m<ipython-input-1-e8418afe077d>\u001b[0m in \u001b[0;36m<module>\u001b[0;34m\u001b[0m\n\u001b[0;32m----> 1\u001b[0;31m \u001b[0mtest_docs\u001b[0m   \u001b[0;34m=\u001b[0m \u001b[0mxml\u001b[0m\u001b[0;34m.\u001b[0m\u001b[0mreadXMLTest\u001b[0m\u001b[0;34m(\u001b[0m\u001b[0;34m\"../database/TASS/TASS2018/task1-Test.xml\"\u001b[0m\u001b[0;34m)\u001b[0m\u001b[0;34m\u001b[0m\u001b[0;34m\u001b[0m\u001b[0m\n\u001b[0m",
      "\u001b[0;31mNameError\u001b[0m: name 'xml' is not defined"
     ]
    }
   ],
   "source": []
  },
  {
   "cell_type": "code",
   "execution_count": 44,
   "metadata": {},
   "outputs": [],
   "source": [
    "test_values = np.argmax(best_model.predict(Xtest), axis = 1)"
   ]
  },
  {
   "cell_type": "code",
   "execution_count": 45,
   "metadata": {},
   "outputs": [
    {
     "data": {
      "text/plain": [
       "1428"
      ]
     },
     "execution_count": 45,
     "metadata": {},
     "output_type": "execute_result"
    }
   ],
   "source": [
    "len(test_values)"
   ]
  },
  {
   "cell_type": "code",
   "execution_count": 46,
   "metadata": {},
   "outputs": [],
   "source": [
    "def getLabel(num):\n",
    "    if num == 0:\n",
    "        return 'N'\n",
    "    elif num == 1:\n",
    "        return 'P'\n",
    "    elif num == 2:\n",
    "        return 'NEU'\n",
    "    elif num == 3:\n",
    "        return 'NONE'"
   ]
  },
  {
   "cell_type": "code",
   "execution_count": 47,
   "metadata": {},
   "outputs": [],
   "source": [
    "import xml.etree.ElementTree as ET\n",
    "\n",
    "def putTestValue(xmlFIle, out):\n",
    "    tree = ET.parse(xmlFIle)\n",
    "    root = tree.getroot()\n",
    "\n",
    "    tweets = []\n",
    "    file = open(out,\"w\") \n",
    "    print(len(test_values))\n",
    "    for i,tweet in enumerate(root.iter('tweet')): \n",
    "        #print(i)\n",
    "        val = getLabel(test_values[i])\n",
    "        ID = tweet.find('tweetid').text\n",
    "        file.write(ID + \"\\t\" + val + \"\\n\")\n",
    "    file.close() "
   ]
  },
  {
   "cell_type": "code",
   "execution_count": 48,
   "metadata": {},
   "outputs": [
    {
     "name": "stdout",
     "output_type": "stream",
     "text": [
      "1428\n"
     ]
    }
   ],
   "source": [
    "putTestValue(\"../database/TASS/TASS2018/task1-Test.xml\", \"output2018-3.txt\")"
   ]
  }
 ],
 "metadata": {
  "kernelspec": {
   "display_name": "Python 3",
   "language": "python",
   "name": "python3"
  },
  "language_info": {
   "codemirror_mode": {
    "name": "ipython",
    "version": 3
   },
   "file_extension": ".py",
   "mimetype": "text/x-python",
   "name": "python",
   "nbconvert_exporter": "python",
   "pygments_lexer": "ipython3",
   "version": "3.6.7"
  }
 },
 "nbformat": 4,
 "nbformat_minor": 2
}
