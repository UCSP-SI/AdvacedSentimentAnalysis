{
 "cells": [
  {
   "cell_type": "code",
   "execution_count": 1,
   "metadata": {},
   "outputs": [],
   "source": [
    "from __future__ import division, print_function\n",
    "\n",
    "import lib.xmlreader as xml\n",
    "import lib.utils as ut\n",
    "import numpy as np\n",
    "\n",
    "import gensim.models.word2vec\n",
    "import itertools\n",
    "from collections import Counter\n",
    "from nltk.tokenize import word_tokenize\n",
    "\n",
    "import re\n",
    "from nltk.corpus import stopwords\n",
    "from nltk.stem import SnowballStemmer\n",
    "from string import punctuation\n",
    "\n",
    "from sklearn.decomposition import TruncatedSVD\n",
    "from sklearn.feature_extraction.text import CountVectorizer\n",
    "from sklearn.metrics import accuracy_score, confusion_matrix, classification_report\n",
    "from sklearn.model_selection import KFold\n",
    "import collections\n",
    "import numpy as np\n",
    "import matplotlib.pyplot as plt\n",
    "import operator\n",
    "import os\n",
    "%matplotlib inline"
   ]
  },
  {
   "cell_type": "code",
   "execution_count": 2,
   "metadata": {},
   "outputs": [
    {
     "name": "stdout",
     "output_type": "stream",
     "text": [
      "None\n",
      "None\n",
      "None\n"
     ]
    },
    {
     "ename": "UnboundLocalError",
     "evalue": "local variable 'rpolarity' referenced before assignment",
     "output_type": "error",
     "traceback": [
      "\u001b[0;31m---------------------------------------------------------------------------\u001b[0m",
      "\u001b[0;31mUnboundLocalError\u001b[0m                         Traceback (most recent call last)",
      "\u001b[0;32m<ipython-input-2-255b318668f7>\u001b[0m in \u001b[0;36m<module>\u001b[0;34m\u001b[0m\n\u001b[1;32m      1\u001b[0m \u001b[0;31m#train_docs = xml.readXML(\"../database/TASS/TASS2018/task1-Training.xml\",[0,1,2,3])\u001b[0m\u001b[0;34m\u001b[0m\u001b[0;34m\u001b[0m\u001b[0;34m\u001b[0m\u001b[0m\n\u001b[1;32m      2\u001b[0m \u001b[0;31m#dev_docs   = xml.readXML(\"../database/TASS/TASS2018/task1-Development.xml\",[0,1,2,3])\u001b[0m\u001b[0;34m\u001b[0m\u001b[0;34m\u001b[0m\u001b[0;34m\u001b[0m\u001b[0m\n\u001b[0;32m----> 3\u001b[0;31m \u001b[0mtest_docs\u001b[0m  \u001b[0;34m=\u001b[0m \u001b[0mxml\u001b[0m\u001b[0;34m.\u001b[0m\u001b[0mreadXML\u001b[0m\u001b[0;34m(\u001b[0m\u001b[0;34m\"../database/TASS/TASS2018/task1-Test.xml\"\u001b[0m\u001b[0;34m,\u001b[0m\u001b[0;34m[\u001b[0m\u001b[0;36m0\u001b[0m\u001b[0;34m,\u001b[0m\u001b[0;36m1\u001b[0m\u001b[0;34m,\u001b[0m\u001b[0;36m2\u001b[0m\u001b[0;34m,\u001b[0m\u001b[0;36m3\u001b[0m\u001b[0;34m]\u001b[0m\u001b[0;34m)\u001b[0m\u001b[0;34m\u001b[0m\u001b[0;34m\u001b[0m\u001b[0m\n\u001b[0m",
      "\u001b[0;32m~/Documentos/cs/crs/c2/sistemas-inteligentes/final/AdvacedSentimentAnalysis/src/lib/xmlreader.py\u001b[0m in \u001b[0;36mreadXML\u001b[0;34m(xmlFIle, Lvls)\u001b[0m\n\u001b[1;32m     17\u001b[0m         \u001b[0;31m#polarity = treeLevels(polarity)\u001b[0m\u001b[0;34m\u001b[0m\u001b[0;34m\u001b[0m\u001b[0;34m\u001b[0m\u001b[0m\n\u001b[1;32m     18\u001b[0m         \u001b[0mprint\u001b[0m\u001b[0;34m(\u001b[0m\u001b[0mpolarity\u001b[0m\u001b[0;34m)\u001b[0m\u001b[0;34m\u001b[0m\u001b[0;34m\u001b[0m\u001b[0m\n\u001b[0;32m---> 19\u001b[0;31m         \u001b[0mpolarity\u001b[0m \u001b[0;34m=\u001b[0m \u001b[0mpolarityTagging\u001b[0m\u001b[0;34m(\u001b[0m\u001b[0mpolarity\u001b[0m\u001b[0;34m)\u001b[0m\u001b[0;34m\u001b[0m\u001b[0;34m\u001b[0m\u001b[0m\n\u001b[0m\u001b[1;32m     20\u001b[0m         \u001b[0;31m# Other info:\u001b[0m\u001b[0;34m\u001b[0m\u001b[0;34m\u001b[0m\u001b[0;34m\u001b[0m\u001b[0m\n\u001b[1;32m     21\u001b[0m         \u001b[0mprint\u001b[0m\u001b[0;34m(\u001b[0m\u001b[0mpolarity\u001b[0m\u001b[0;34m)\u001b[0m\u001b[0;34m\u001b[0m\u001b[0;34m\u001b[0m\u001b[0m\n",
      "\u001b[0;32m~/Documentos/cs/crs/c2/sistemas-inteligentes/final/AdvacedSentimentAnalysis/src/lib/xmlreader.py\u001b[0m in \u001b[0;36mpolarityTagging\u001b[0;34m(polarity)\u001b[0m\n\u001b[1;32m     93\u001b[0m         \u001b[0mrpolarity\u001b[0m \u001b[0;34m=\u001b[0m \u001b[0;36m3\u001b[0m\u001b[0;34m\u001b[0m\u001b[0;34m\u001b[0m\u001b[0m\n\u001b[1;32m     94\u001b[0m     \u001b[0mprint\u001b[0m\u001b[0;34m(\u001b[0m\u001b[0mpolarity\u001b[0m\u001b[0;34m)\u001b[0m\u001b[0;34m\u001b[0m\u001b[0;34m\u001b[0m\u001b[0m\n\u001b[0;32m---> 95\u001b[0;31m     \u001b[0;32mreturn\u001b[0m \u001b[0mrpolarity\u001b[0m\u001b[0;34m\u001b[0m\u001b[0;34m\u001b[0m\u001b[0m\n\u001b[0m",
      "\u001b[0;31mUnboundLocalError\u001b[0m: local variable 'rpolarity' referenced before assignment"
     ]
    }
   ],
   "source": [
    "#train_docs = xml.readXML(\"../database/TASS/TASS2018/task1-Training.xml\",[0,1,2,3])\n",
    "#dev_docs   = xml.readXML(\"../database/TASS/TASS2018/task1-Development.xml\",[0,1,2,3])\n",
    "test_docs  = xml.readXML(\"../database/TASS/TASS2018/task1-Test.xml\",[0,1,2,3])"
   ]
  },
  {
   "cell_type": "code",
   "execution_count": 1,
   "metadata": {},
   "outputs": [
    {
     "ename": "NameError",
     "evalue": "name 'test_docs' is not defined",
     "output_type": "error",
     "traceback": [
      "\u001b[0;31m---------------------------------------------------------------------------\u001b[0m",
      "\u001b[0;31mNameError\u001b[0m                                 Traceback (most recent call last)",
      "\u001b[0;32m<ipython-input-1-8a34f1cbd6df>\u001b[0m in \u001b[0;36m<module>\u001b[0;34m\u001b[0m\n\u001b[0;32m----> 1\u001b[0;31m \u001b[0mlen\u001b[0m\u001b[0;34m(\u001b[0m\u001b[0mtest_docs\u001b[0m\u001b[0;34m)\u001b[0m\u001b[0;34m\u001b[0m\u001b[0;34m\u001b[0m\u001b[0m\n\u001b[0m",
      "\u001b[0;31mNameError\u001b[0m: name 'test_docs' is not defined"
     ]
    }
   ],
   "source": [
    "len(test_docs)"
   ]
  },
  {
   "cell_type": "code",
   "execution_count": 2,
   "metadata": {},
   "outputs": [
    {
     "ename": "NameError",
     "evalue": "name 'train_docs' is not defined",
     "output_type": "error",
     "traceback": [
      "\u001b[0;31m---------------------------------------------------------------------------\u001b[0m",
      "\u001b[0;31mNameError\u001b[0m                                 Traceback (most recent call last)",
      "\u001b[0;32m<ipython-input-2-e4f1497ccfea>\u001b[0m in \u001b[0;36m<module>\u001b[0;34m\u001b[0m\n\u001b[1;32m      1\u001b[0m \u001b[0mcorpus\u001b[0m \u001b[0;34m=\u001b[0m \u001b[0;34m[\u001b[0m\u001b[0;34m]\u001b[0m\u001b[0;34m\u001b[0m\u001b[0;34m\u001b[0m\u001b[0m\n\u001b[0;32m----> 2\u001b[0;31m \u001b[0;32mfor\u001b[0m \u001b[0mdoc\u001b[0m \u001b[0;32min\u001b[0m \u001b[0mtrain_docs\u001b[0m \u001b[0;34m+\u001b[0m \u001b[0mdev_docs\u001b[0m \u001b[0;34m+\u001b[0m \u001b[0mtest_docs\u001b[0m\u001b[0;34m:\u001b[0m\u001b[0;34m\u001b[0m\u001b[0;34m\u001b[0m\u001b[0m\n\u001b[0m\u001b[1;32m      3\u001b[0m     \u001b[0mcorpus\u001b[0m\u001b[0;34m.\u001b[0m\u001b[0mappend\u001b[0m\u001b[0;34m(\u001b[0m\u001b[0mdoc\u001b[0m\u001b[0;34m.\u001b[0m\u001b[0mcontent\u001b[0m\u001b[0;34m)\u001b[0m\u001b[0;34m\u001b[0m\u001b[0;34m\u001b[0m\u001b[0m\n",
      "\u001b[0;31mNameError\u001b[0m: name 'train_docs' is not defined"
     ]
    }
   ],
   "source": [
    "corpus = []\n",
    "for doc in train_docs + dev_docs + test_docs:\n",
    "    corpus.append(doc.content)"
   ]
  },
  {
   "cell_type": "code",
   "execution_count": 131,
   "metadata": {},
   "outputs": [
    {
     "data": {
      "text/plain": [
       "2928"
      ]
     },
     "execution_count": 131,
     "metadata": {},
     "output_type": "execute_result"
    }
   ],
   "source": [
    "len(test_docs + dev_docs + train_docs)"
   ]
  },
  {
   "cell_type": "code",
   "execution_count": 132,
   "metadata": {},
   "outputs": [],
   "source": [
    "train_labels = []\n",
    "for doc in train_docs:\n",
    "    train_labels.append(doc.polarity)\n",
    "    \n",
    "dev_labels  = []\n",
    "for doc in dev_docs:\n",
    "    dev_labels.append(doc.polarity)"
   ]
  },
  {
   "cell_type": "code",
   "execution_count": 133,
   "metadata": {},
   "outputs": [],
   "source": [
    "def gensim_load_vec(path=\"../database/embeddings/SBW-vectors-300-min5.bin\"):\n",
    "    #use gensim_emb.wv.index2word if used this way to load vectors\n",
    "    #gensim_emb = gensim.models.word2vec.Word2Vec.load(path)\n",
    "    gensim_emb =  gensim.models.KeyedVectors.load_word2vec_format(path, binary=True)\n",
    "    vocab = gensim_emb.index2word\n",
    "    vec = gensim_emb.syn0\n",
    "    shape = gensim_emb.syn0.shape\n",
    "    return gensim_emb, vec, shape, vocab"
   ]
  },
  {
   "cell_type": "code",
   "execution_count": 6,
   "metadata": {},
   "outputs": [
    {
     "name": "stderr",
     "output_type": "stream",
     "text": [
      "/home/jose/.local/lib/python3.6/site-packages/ipykernel_launcher.py:6: DeprecationWarning: Call to deprecated `syn0` (Attribute will be removed in 4.0.0, use self.vectors instead).\n",
      "  \n",
      "/home/jose/.local/lib/python3.6/site-packages/ipykernel_launcher.py:7: DeprecationWarning: Call to deprecated `syn0` (Attribute will be removed in 4.0.0, use self.vectors instead).\n",
      "  import sys\n"
     ]
    }
   ],
   "source": [
    "gensim_emb, vec, shape, vocab = gensim_load_vec()"
   ]
  },
  {
   "cell_type": "code",
   "execution_count": 134,
   "metadata": {},
   "outputs": [],
   "source": [
    "counter = CountVectorizer(tokenizer=ut.tokenizer)"
   ]
  },
  {
   "cell_type": "code",
   "execution_count": 135,
   "metadata": {},
   "outputs": [
    {
     "name": "stdout",
     "output_type": "stream",
     "text": [
      "(2928, 8706)\n"
     ]
    }
   ],
   "source": [
    "X = counter.fit_transform(corpus)\n",
    "print(X.shape)"
   ]
  },
  {
   "cell_type": "code",
   "execution_count": 136,
   "metadata": {},
   "outputs": [
    {
     "data": {
      "image/png": "[encoded data removed]",
      "text/plain": [
       "<Figure size 432x288 with 1 Axes>"
      ]
     },
     "metadata": {
      "needs_background": "light"
     },
     "output_type": "display_data"
    }
   ],
   "source": [
    "counts = np.sum(X, axis=0).tolist()\n",
    "counts = sorted(counts[0], reverse=True)\n",
    "plt.plot(np.arange(len(counts)), counts)\n",
    "plt.title(\"word count distribution in corpus\")\n",
    "plt.ylabel(\"counts\")\n",
    "plt.xlabel(\"words\")\n",
    "acc = []"
   ]
  },
  {
   "cell_type": "code",
   "execution_count": 137,
   "metadata": {},
   "outputs": [
    {
     "name": "stdout",
     "output_type": "stream",
     "text": [
      "(2928, 8706)\n"
     ]
    }
   ],
   "source": [
    "# VOCAB_SIZE = 3000\n",
    "VOCAB_SIZE = X.shape[1]\n",
    "# counter = CountVectorizer(strip_accents=\"unicode\", max_features=VOCAB_SIZE)\n",
    "# counter = CountVectorizer(max_features=VOCAB_SIZE, tokenizer=ut.tokenizer)\n",
    "\n",
    "caption_texts = corpus\n",
    "Xc = counter.fit_transform(caption_texts).todense().astype(\"float\")\n",
    "print(Xc.shape)"
   ]
  },
  {
   "cell_type": "code",
   "execution_count": 138,
   "metadata": {},
   "outputs": [
    {
     "name": "stdout",
     "output_type": "stream",
     "text": [
      "(2928, 1)\n"
     ]
    }
   ],
   "source": [
    "sent_lens = np.sum(Xc, axis=1).astype(\"float\")\n",
    "sent_lens[sent_lens == 0] = 1e-14\n",
    "print(sent_lens.shape)"
   ]
  },
  {
   "cell_type": "code",
   "execution_count": 139,
   "metadata": {},
   "outputs": [
    {
     "name": "stdout",
     "output_type": "stream",
     "text": [
      "(8706, 300)\n"
     ]
    }
   ],
   "source": [
    "E = np.zeros((VOCAB_SIZE, 300))\n",
    "for word in list(counter.vocabulary_.keys()):\n",
    "    try:\n",
    "        i = counter.vocabulary_[word]\n",
    "        E[i] = gensim_emb[word]\n",
    "    except KeyError:\n",
    "        pass\n",
    "print(E.shape)"
   ]
  },
  {
   "cell_type": "code",
   "execution_count": 140,
   "metadata": {},
   "outputs": [
    {
     "name": "stdout",
     "output_type": "stream",
     "text": [
      "(2928, 300)\n"
     ]
    }
   ],
   "source": [
    "Xb = np.divide(np.dot(Xc, E), sent_lens)\n",
    "print(Xb.shape)"
   ]
  },
  {
   "cell_type": "code",
   "execution_count": 141,
   "metadata": {},
   "outputs": [
    {
     "name": "stdout",
     "output_type": "stream",
     "text": [
      "(1000, 300) (1000,) (500, 300) (500,)\n"
     ]
    }
   ],
   "source": [
    "Xtrain, Xdev = Xb[0:len(train_docs)], Xb[len(train_docs):len(train_docs)+len(dev_docs)]\n",
    "ytrain, ydev = np.array(train_labels), np.array(dev_labels)\n",
    "print(Xtrain.shape, ytrain.shape, Xdev.shape, ydev.shape)"
   ]
  },
  {
   "cell_type": "code",
   "execution_count": 142,
   "metadata": {},
   "outputs": [
    {
     "name": "stdout",
     "output_type": "stream",
     "text": [
      "['/job:localhost/replica:0/task:0/device:GPU:0']\n"
     ]
    }
   ],
   "source": [
    "import tensorflow as tf\n",
    "import keras \n",
    "\n",
    "from keras.utils import to_categorical\n",
    "from keras import backend as K\n",
    "\n",
    "from keras.models import Sequential\n",
    "from keras.layers import Dense, Dropout\n",
    "from keras.layers import Flatten\n",
    "from keras.layers.embeddings import Embedding\n",
    "\n",
    "from keras.layers import Input, Dense, concatenate, Activation\n",
    "from keras.models import Model\n",
    "from keras.layers import Conv1D, GlobalMaxPooling1D\n",
    "\n",
    "from keras.callbacks import ModelCheckpoint\n",
    "\n",
    "print(K.tensorflow_backend._get_available_gpus())\n",
    "\n",
    "\n",
    "config = tf.ConfigProto(intra_op_parallelism_threads=4, \\\n",
    "                        inter_op_parallelism_threads=4, \\\n",
    "                        allow_soft_placement=True,\\\n",
    "                        device_count = {'CPU' : 1, 'GPU' : 0})\n",
    "\n",
    "sess = tf.Session(config=config)\n",
    "K.set_session(sess)\n",
    "    \n",
    "seed = 7"
   ]
  },
  {
   "cell_type": "code",
   "execution_count": 170,
   "metadata": {},
   "outputs": [
    {
     "name": "stdout",
     "output_type": "stream",
     "text": [
      "_________________________________________________________________\n",
      "Layer (type)                 Output Shape              Param #   \n",
      "=================================================================\n",
      "input_13 (InputLayer)        (None, 300)               0         \n",
      "_________________________________________________________________\n",
      "dense_40 (Dense)             (None, 64)                19264     \n",
      "_________________________________________________________________\n",
      "dropout_28 (Dropout)         (None, 64)                0         \n",
      "_________________________________________________________________\n",
      "dense_41 (Dense)             (None, 4)                 260       \n",
      "_________________________________________________________________\n",
      "activation_13 (Activation)   (None, 4)                 0         \n",
      "=================================================================\n",
      "Total params: 19,524\n",
      "Trainable params: 19,524\n",
      "Non-trainable params: 0\n",
      "_________________________________________________________________\n"
     ]
    }
   ],
   "source": [
    "tweet_encoder   = Input(shape=(300,), dtype='float32')\n",
    "\n",
    "merged = Dense(256)(tweet_encoder)\n",
    "merged = Dropout(0.5)(merged)\n",
    "\n",
    "merged = Dense(128)(tweet_encoder)\n",
    "merged = Dropout(0.5)(merged)\n",
    "\n",
    "merged = Dense(64)(tweet_encoder)\n",
    "merged = Dropout(0.2)(merged)\n",
    "\n",
    "merged = Dense(4)(merged)\n",
    "output = Activation('softmax')(merged)\n",
    "model  = Model(inputs=[tweet_encoder], outputs=[output])\n",
    "\n",
    "model.compile(loss='categorical_crossentropy',\n",
    "                  optimizer='adam',\n",
    "                  metrics=['accuracy'])\n",
    "model.summary()"
   ]
  },
  {
   "cell_type": "code",
   "execution_count": 171,
   "metadata": {},
   "outputs": [
    {
     "name": "stdout",
     "output_type": "stream",
     "text": [
      "Train on 1000 samples, validate on 500 samples\n",
      "Epoch 1/50\n",
      "1000/1000 [==============================] - 0s 469us/step - loss: 1.3612 - acc: 0.3520 - val_loss: 1.2688 - val_acc: 0.4760\n",
      "\n",
      "Epoch 00001: val_acc improved from -inf to 0.47600, saving model to model/CNN_best_weights_SIF.01-0.4760.hdf5\n",
      "Epoch 2/50\n",
      "1000/1000 [==============================] - 0s 22us/step - loss: 1.3273 - acc: 0.3740 - val_loss: 1.2665 - val_acc: 0.4820\n",
      "\n",
      "Epoch 00002: val_acc improved from 0.47600 to 0.48200, saving model to model/CNN_best_weights_SIF.02-0.4820.hdf5\n",
      "Epoch 3/50\n",
      "1000/1000 [==============================] - 0s 29us/step - loss: 1.3137 - acc: 0.3740 - val_loss: 1.2498 - val_acc: 0.4880\n",
      "\n",
      "Epoch 00003: val_acc improved from 0.48200 to 0.48800, saving model to model/CNN_best_weights_SIF.03-0.4880.hdf5\n",
      "Epoch 4/50\n",
      "1000/1000 [==============================] - 0s 27us/step - loss: 1.2935 - acc: 0.4260 - val_loss: 1.2359 - val_acc: 0.4820\n",
      "\n",
      "Epoch 00004: val_acc did not improve from 0.48800\n",
      "Epoch 5/50\n",
      "1000/1000 [==============================] - 0s 27us/step - loss: 1.2693 - acc: 0.4020 - val_loss: 1.2452 - val_acc: 0.4840\n",
      "\n",
      "Epoch 00005: val_acc did not improve from 0.48800\n",
      "Epoch 6/50\n",
      "1000/1000 [==============================] - 0s 24us/step - loss: 1.2547 - acc: 0.4540 - val_loss: 1.2260 - val_acc: 0.4800\n",
      "\n",
      "Epoch 00006: val_acc did not improve from 0.48800\n",
      "Epoch 7/50\n",
      "1000/1000 [==============================] - 0s 30us/step - loss: 1.2330 - acc: 0.4560 - val_loss: 1.2178 - val_acc: 0.4780\n",
      "\n",
      "Epoch 00007: val_acc did not improve from 0.48800\n",
      "Epoch 8/50\n",
      "1000/1000 [==============================] - 0s 29us/step - loss: 1.2220 - acc: 0.4430 - val_loss: 1.2177 - val_acc: 0.4840\n",
      "\n",
      "Epoch 00008: val_acc did not improve from 0.48800\n",
      "Epoch 9/50\n",
      "1000/1000 [==============================] - 0s 27us/step - loss: 1.2065 - acc: 0.4740 - val_loss: 1.2046 - val_acc: 0.4860\n",
      "\n",
      "Epoch 00009: val_acc did not improve from 0.48800\n",
      "Epoch 10/50\n",
      "1000/1000 [==============================] - 0s 26us/step - loss: 1.1961 - acc: 0.4800 - val_loss: 1.1953 - val_acc: 0.4920\n",
      "\n",
      "Epoch 00010: val_acc improved from 0.48800 to 0.49200, saving model to model/CNN_best_weights_SIF.10-0.4920.hdf5\n",
      "Epoch 11/50\n",
      "1000/1000 [==============================] - 0s 27us/step - loss: 1.1923 - acc: 0.4840 - val_loss: 1.2322 - val_acc: 0.4760\n",
      "\n",
      "Epoch 00011: val_acc did not improve from 0.49200\n",
      "Epoch 12/50\n",
      "1000/1000 [==============================] - 0s 26us/step - loss: 1.1712 - acc: 0.4970 - val_loss: 1.1875 - val_acc: 0.4920\n",
      "\n",
      "Epoch 00012: val_acc improved from 0.49200 to 0.49200, saving model to model/CNN_best_weights_SIF.12-0.4920.hdf5\n",
      "Epoch 13/50\n",
      "1000/1000 [==============================] - 0s 29us/step - loss: 1.1666 - acc: 0.4870 - val_loss: 1.1912 - val_acc: 0.5040\n",
      "\n",
      "Epoch 00013: val_acc improved from 0.49200 to 0.50400, saving model to model/CNN_best_weights_SIF.13-0.5040.hdf5\n",
      "Epoch 14/50\n",
      "1000/1000 [==============================] - 0s 32us/step - loss: 1.1436 - acc: 0.5010 - val_loss: 1.1992 - val_acc: 0.4840\n",
      "\n",
      "Epoch 00014: val_acc did not improve from 0.50400\n",
      "Epoch 15/50\n",
      "1000/1000 [==============================] - 0s 25us/step - loss: 1.1442 - acc: 0.5010 - val_loss: 1.2059 - val_acc: 0.5040\n",
      "\n",
      "Epoch 00015: val_acc did not improve from 0.50400\n",
      "Epoch 16/50\n",
      "1000/1000 [==============================] - 0s 29us/step - loss: 1.1315 - acc: 0.5150 - val_loss: 1.1734 - val_acc: 0.5080\n",
      "\n",
      "Epoch 00016: val_acc improved from 0.50400 to 0.50800, saving model to model/CNN_best_weights_SIF.16-0.5080.hdf5\n",
      "Epoch 17/50\n",
      "1000/1000 [==============================] - 0s 28us/step - loss: 1.1197 - acc: 0.5110 - val_loss: 1.1859 - val_acc: 0.4840\n",
      "\n",
      "Epoch 00017: val_acc did not improve from 0.50800\n",
      "Epoch 18/50\n",
      "1000/1000 [==============================] - 0s 26us/step - loss: 1.1141 - acc: 0.5160 - val_loss: 1.1798 - val_acc: 0.4880\n",
      "\n",
      "Epoch 00018: val_acc did not improve from 0.50800\n",
      "Epoch 19/50\n",
      "1000/1000 [==============================] - 0s 29us/step - loss: 1.1035 - acc: 0.5270 - val_loss: 1.2113 - val_acc: 0.4820\n",
      "\n",
      "Epoch 00019: val_acc did not improve from 0.50800\n",
      "Epoch 20/50\n",
      "1000/1000 [==============================] - 0s 31us/step - loss: 1.0979 - acc: 0.5190 - val_loss: 1.1804 - val_acc: 0.5040\n",
      "\n",
      "Epoch 00020: val_acc did not improve from 0.50800\n",
      "Epoch 21/50\n",
      "1000/1000 [==============================] - 0s 28us/step - loss: 1.0915 - acc: 0.5250 - val_loss: 1.1792 - val_acc: 0.4940\n",
      "\n",
      "Epoch 00021: val_acc did not improve from 0.50800\n",
      "Epoch 22/50\n",
      "1000/1000 [==============================] - 0s 27us/step - loss: 1.0761 - acc: 0.5480 - val_loss: 1.1701 - val_acc: 0.5040\n",
      "\n",
      "Epoch 00022: val_acc did not improve from 0.50800\n",
      "Epoch 23/50\n",
      "1000/1000 [==============================] - 0s 34us/step - loss: 1.0734 - acc: 0.5450 - val_loss: 1.1980 - val_acc: 0.4880\n",
      "\n",
      "Epoch 00023: val_acc did not improve from 0.50800\n",
      "Epoch 24/50\n",
      "1000/1000 [==============================] - 0s 31us/step - loss: 1.0690 - acc: 0.5560 - val_loss: 1.2018 - val_acc: 0.4840\n",
      "\n",
      "Epoch 00024: val_acc did not improve from 0.50800\n",
      "Epoch 25/50\n",
      "1000/1000 [==============================] - 0s 29us/step - loss: 1.0604 - acc: 0.5550 - val_loss: 1.2074 - val_acc: 0.4660\n",
      "\n",
      "Epoch 00025: val_acc did not improve from 0.50800\n",
      "Epoch 26/50\n",
      "1000/1000 [==============================] - 0s 28us/step - loss: 1.0624 - acc: 0.5470 - val_loss: 1.1724 - val_acc: 0.4860\n",
      "\n",
      "Epoch 00026: val_acc did not improve from 0.50800\n",
      "Epoch 27/50\n",
      "1000/1000 [==============================] - 0s 26us/step - loss: 1.0550 - acc: 0.5530 - val_loss: 1.1763 - val_acc: 0.4980\n",
      "\n",
      "Epoch 00027: val_acc did not improve from 0.50800\n",
      "Epoch 28/50\n",
      "1000/1000 [==============================] - 0s 28us/step - loss: 1.0426 - acc: 0.5520 - val_loss: 1.1985 - val_acc: 0.4720\n",
      "\n",
      "Epoch 00028: val_acc did not improve from 0.50800\n",
      "Epoch 29/50\n",
      "1000/1000 [==============================] - 0s 28us/step - loss: 1.0382 - acc: 0.5600 - val_loss: 1.1869 - val_acc: 0.5000\n",
      "\n",
      "Epoch 00029: val_acc did not improve from 0.50800\n",
      "Epoch 30/50\n",
      "1000/1000 [==============================] - 0s 29us/step - loss: 1.0261 - acc: 0.5670 - val_loss: 1.1857 - val_acc: 0.4880\n",
      "\n",
      "Epoch 00030: val_acc did not improve from 0.50800\n",
      "Epoch 31/50\n",
      "1000/1000 [==============================] - 0s 27us/step - loss: 1.0248 - acc: 0.5760 - val_loss: 1.2294 - val_acc: 0.4540\n",
      "\n",
      "Epoch 00031: val_acc did not improve from 0.50800\n",
      "Epoch 32/50\n",
      "1000/1000 [==============================] - 0s 29us/step - loss: 1.0205 - acc: 0.5630 - val_loss: 1.2142 - val_acc: 0.4660\n",
      "\n",
      "Epoch 00032: val_acc did not improve from 0.50800\n",
      "Epoch 33/50\n",
      "1000/1000 [==============================] - 0s 29us/step - loss: 1.0166 - acc: 0.5640 - val_loss: 1.2264 - val_acc: 0.4500\n",
      "\n",
      "Epoch 00033: val_acc did not improve from 0.50800\n",
      "Epoch 34/50\n",
      "1000/1000 [==============================] - 0s 28us/step - loss: 1.0121 - acc: 0.5670 - val_loss: 1.2154 - val_acc: 0.4640\n",
      "\n",
      "Epoch 00034: val_acc did not improve from 0.50800\n",
      "Epoch 35/50\n",
      "1000/1000 [==============================] - 0s 28us/step - loss: 1.0152 - acc: 0.5760 - val_loss: 1.2052 - val_acc: 0.4800\n",
      "\n",
      "Epoch 00035: val_acc did not improve from 0.50800\n",
      "Epoch 36/50\n",
      "1000/1000 [==============================] - 0s 28us/step - loss: 1.0026 - acc: 0.5820 - val_loss: 1.1967 - val_acc: 0.4960\n",
      "\n",
      "Epoch 00036: val_acc did not improve from 0.50800\n",
      "Epoch 37/50\n",
      "1000/1000 [==============================] - 0s 26us/step - loss: 1.0059 - acc: 0.5740 - val_loss: 1.2413 - val_acc: 0.4600\n",
      "\n",
      "Epoch 00037: val_acc did not improve from 0.50800\n",
      "Epoch 38/50\n",
      "1000/1000 [==============================] - 0s 27us/step - loss: 1.0047 - acc: 0.5740 - val_loss: 1.2324 - val_acc: 0.4600\n",
      "\n",
      "Epoch 00038: val_acc did not improve from 0.50800\n",
      "Epoch 39/50\n",
      "1000/1000 [==============================] - 0s 27us/step - loss: 0.9894 - acc: 0.5660 - val_loss: 1.2408 - val_acc: 0.4440\n",
      "\n",
      "Epoch 00039: val_acc did not improve from 0.50800\n",
      "Epoch 40/50\n",
      "1000/1000 [==============================] - 0s 26us/step - loss: 0.9787 - acc: 0.5910 - val_loss: 1.1896 - val_acc: 0.4920\n",
      "\n",
      "Epoch 00040: val_acc did not improve from 0.50800\n",
      "Epoch 41/50\n",
      "1000/1000 [==============================] - 0s 28us/step - loss: 0.9717 - acc: 0.5920 - val_loss: 1.2189 - val_acc: 0.4520\n",
      "\n",
      "Epoch 00041: val_acc did not improve from 0.50800\n",
      "Epoch 42/50\n",
      "1000/1000 [==============================] - 0s 27us/step - loss: 0.9692 - acc: 0.5930 - val_loss: 1.2296 - val_acc: 0.4620\n",
      "\n",
      "Epoch 00042: val_acc did not improve from 0.50800\n",
      "Epoch 43/50\n",
      "1000/1000 [==============================] - 0s 30us/step - loss: 0.9816 - acc: 0.5830 - val_loss: 1.2115 - val_acc: 0.4740\n",
      "\n",
      "Epoch 00043: val_acc did not improve from 0.50800\n",
      "Epoch 44/50\n",
      "1000/1000 [==============================] - 0s 27us/step - loss: 0.9666 - acc: 0.5960 - val_loss: 1.2237 - val_acc: 0.4620\n",
      "\n",
      "Epoch 00044: val_acc did not improve from 0.50800\n",
      "Epoch 45/50\n",
      "1000/1000 [==============================] - 0s 29us/step - loss: 0.9561 - acc: 0.6100 - val_loss: 1.2136 - val_acc: 0.4800\n",
      "\n",
      "Epoch 00045: val_acc did not improve from 0.50800\n",
      "Epoch 46/50\n",
      "1000/1000 [==============================] - 0s 29us/step - loss: 0.9562 - acc: 0.6000 - val_loss: 1.2549 - val_acc: 0.4340\n",
      "\n",
      "Epoch 00046: val_acc did not improve from 0.50800\n",
      "Epoch 47/50\n",
      "1000/1000 [==============================] - 0s 31us/step - loss: 0.9653 - acc: 0.5900 - val_loss: 1.2794 - val_acc: 0.4420\n",
      "\n",
      "Epoch 00047: val_acc did not improve from 0.50800\n",
      "Epoch 48/50\n",
      "1000/1000 [==============================] - 0s 30us/step - loss: 0.9544 - acc: 0.5970 - val_loss: 1.2818 - val_acc: 0.4240\n",
      "\n",
      "Epoch 00048: val_acc did not improve from 0.50800\n",
      "Epoch 49/50\n",
      "1000/1000 [==============================] - 0s 25us/step - loss: 0.9483 - acc: 0.6010 - val_loss: 1.2740 - val_acc: 0.4360\n",
      "\n",
      "Epoch 00049: val_acc did not improve from 0.50800\n",
      "Epoch 50/50\n",
      "1000/1000 [==============================] - 0s 28us/step - loss: 0.9444 - acc: 0.6050 - val_loss: 1.3066 - val_acc: 0.4320\n",
      "\n",
      "Epoch 00050: val_acc did not improve from 0.50800\n"
     ]
    },
    {
     "data": {
      "text/plain": [
       "<keras.callbacks.History at 0x7f7b90421710>"
      ]
     },
     "execution_count": 171,
     "metadata": {},
     "output_type": "execute_result"
    }
   ],
   "source": [
    "filepath=\"model/CNN_best_weights_SIF.{epoch:02d}-{val_acc:.4f}.hdf5\"\n",
    "checkpoint = ModelCheckpoint(filepath, monitor='val_acc', verbose=1, save_best_only=True, mode='max')\n",
    "\n",
    "model.fit(Xtrain, to_categorical(ytrain), batch_size=64, epochs=50,\n",
    "                     validation_data=(Xdev, to_categorical(ydev)), callbacks = [checkpoint], verbose=1)"
   ]
  },
  {
   "cell_type": "code",
   "execution_count": 160,
   "metadata": {},
   "outputs": [],
   "source": [
    "Xtest = Xb[-len(test_docs):]"
   ]
  },
  {
   "cell_type": "code",
   "execution_count": 161,
   "metadata": {},
   "outputs": [],
   "source": [
    "from keras.models import load_model\n",
    "\n",
    "best_model = load_model('model/CNN_best_weights_SIF.22-0.5140.hdf5')"
   ]
  },
  {
   "cell_type": "code",
   "execution_count": 162,
   "metadata": {},
   "outputs": [],
   "source": [
    "ytest_result = best_model.predict(Xtest)"
   ]
  },
  {
   "cell_type": "code",
   "execution_count": 163,
   "metadata": {},
   "outputs": [
    {
     "data": {
      "text/plain": [
       "(1428, 4)"
      ]
     },
     "execution_count": 163,
     "metadata": {},
     "output_type": "execute_result"
    }
   ],
   "source": [
    "ytest_result.shape"
   ]
  },
  {
   "cell_type": "code",
   "execution_count": 164,
   "metadata": {},
   "outputs": [],
   "source": [
    "test_values = np.argmax(ytest_result, axis=1)"
   ]
  },
  {
   "cell_type": "code",
   "execution_count": 165,
   "metadata": {},
   "outputs": [],
   "source": [
    "def getLabel(num):\n",
    "    if num == 0:\n",
    "        return 'N'\n",
    "    elif num == 1:\n",
    "        return 'P'\n",
    "    elif num == 2:\n",
    "        return 'NEU'\n",
    "    elif num == 3:\n",
    "        return 'NONE'"
   ]
  },
  {
   "cell_type": "code",
   "execution_count": 2,
   "metadata": {},
   "outputs": [],
   "source": [
    "import xml.etree.ElementTree as ET\n",
    "\n",
    "def putTestValue(xmlFIle):\n",
    "    tree = ET.parse(xmlFIle)\n",
    "    root = tree.getroot()\n",
    "\n",
    "    tweets = []\n",
    "    file = open(\"output.txt\",\"w\") \n",
    "    for i,tweet in enumerate(root.iter('tweet')):\n",
    "        #content = tweet.find('content').text\n",
    "        #sentiment = tweet.find('sentiment')\n",
    "        \n",
    "        val = getLabel(test_values[i])\n",
    "        #sentiment.find('polarity').find('value').text= val\n",
    "        #polarity = sentiment.find('polarity').find('value').text\n",
    "        ID = tweet.find('tweetid').text\n",
    "        file.write(ID + \"\\t\" + val + \"\\n\")\n",
    "        #print(polarity)\n",
    "    \n",
    "    file.close() \n",
    "    #mydata = ET.ElementTree(root)  \n",
    "    #myfile = open(\"output.xml\", \"w\")  \n",
    "    #mydata.write(\"output.xml\")  \n",
    "    #return tweets"
   ]
  },
  {
   "cell_type": "code",
   "execution_count": 3,
   "metadata": {},
   "outputs": [
    {
     "ename": "FileNotFoundError",
     "evalue": "[Errno 2] No such file or directory: '../database/TASS/TASS2018/intertass-PE-test.xml'",
     "output_type": "error",
     "traceback": [
      "\u001b[0;31m---------------------------------------------------------------------------\u001b[0m",
      "\u001b[0;31mFileNotFoundError\u001b[0m                         Traceback (most recent call last)",
      "\u001b[0;32m<ipython-input-3-e1f2381cf41c>\u001b[0m in \u001b[0;36m<module>\u001b[0;34m\u001b[0m\n\u001b[1;32m      1\u001b[0m \u001b[0;34m\u001b[0m\u001b[0m\n\u001b[0;32m----> 2\u001b[0;31m \u001b[0mputTestValue\u001b[0m\u001b[0;34m(\u001b[0m\u001b[0;34m\"../database/TASS/TASS2018/intertass-PE-test.xml\"\u001b[0m\u001b[0;34m)\u001b[0m\u001b[0;34m\u001b[0m\u001b[0;34m\u001b[0m\u001b[0m\n\u001b[0m",
      "\u001b[0;32m<ipython-input-2-7183b646c29d>\u001b[0m in \u001b[0;36mputTestValue\u001b[0;34m(xmlFIle)\u001b[0m\n\u001b[1;32m      2\u001b[0m \u001b[0;34m\u001b[0m\u001b[0m\n\u001b[1;32m      3\u001b[0m \u001b[0;32mdef\u001b[0m \u001b[0mputTestValue\u001b[0m\u001b[0;34m(\u001b[0m\u001b[0mxmlFIle\u001b[0m\u001b[0;34m)\u001b[0m\u001b[0;34m:\u001b[0m\u001b[0;34m\u001b[0m\u001b[0;34m\u001b[0m\u001b[0m\n\u001b[0;32m----> 4\u001b[0;31m     \u001b[0mtree\u001b[0m \u001b[0;34m=\u001b[0m \u001b[0mET\u001b[0m\u001b[0;34m.\u001b[0m\u001b[0mparse\u001b[0m\u001b[0;34m(\u001b[0m\u001b[0mxmlFIle\u001b[0m\u001b[0;34m)\u001b[0m\u001b[0;34m\u001b[0m\u001b[0;34m\u001b[0m\u001b[0m\n\u001b[0m\u001b[1;32m      5\u001b[0m     \u001b[0mroot\u001b[0m \u001b[0;34m=\u001b[0m \u001b[0mtree\u001b[0m\u001b[0;34m.\u001b[0m\u001b[0mgetroot\u001b[0m\u001b[0;34m(\u001b[0m\u001b[0;34m)\u001b[0m\u001b[0;34m\u001b[0m\u001b[0;34m\u001b[0m\u001b[0m\n\u001b[1;32m      6\u001b[0m \u001b[0;34m\u001b[0m\u001b[0m\n",
      "\u001b[0;32m/usr/lib/python3.6/xml/etree/ElementTree.py\u001b[0m in \u001b[0;36mparse\u001b[0;34m(source, parser)\u001b[0m\n\u001b[1;32m   1194\u001b[0m     \"\"\"\n\u001b[1;32m   1195\u001b[0m     \u001b[0mtree\u001b[0m \u001b[0;34m=\u001b[0m \u001b[0mElementTree\u001b[0m\u001b[0;34m(\u001b[0m\u001b[0;34m)\u001b[0m\u001b[0;34m\u001b[0m\u001b[0;34m\u001b[0m\u001b[0m\n\u001b[0;32m-> 1196\u001b[0;31m     \u001b[0mtree\u001b[0m\u001b[0;34m.\u001b[0m\u001b[0mparse\u001b[0m\u001b[0;34m(\u001b[0m\u001b[0msource\u001b[0m\u001b[0;34m,\u001b[0m \u001b[0mparser\u001b[0m\u001b[0;34m)\u001b[0m\u001b[0;34m\u001b[0m\u001b[0;34m\u001b[0m\u001b[0m\n\u001b[0m\u001b[1;32m   1197\u001b[0m     \u001b[0;32mreturn\u001b[0m \u001b[0mtree\u001b[0m\u001b[0;34m\u001b[0m\u001b[0;34m\u001b[0m\u001b[0m\n\u001b[1;32m   1198\u001b[0m \u001b[0;34m\u001b[0m\u001b[0m\n",
      "\u001b[0;32m/usr/lib/python3.6/xml/etree/ElementTree.py\u001b[0m in \u001b[0;36mparse\u001b[0;34m(self, source, parser)\u001b[0m\n\u001b[1;32m    584\u001b[0m         \u001b[0mclose_source\u001b[0m \u001b[0;34m=\u001b[0m \u001b[0;32mFalse\u001b[0m\u001b[0;34m\u001b[0m\u001b[0;34m\u001b[0m\u001b[0m\n\u001b[1;32m    585\u001b[0m         \u001b[0;32mif\u001b[0m \u001b[0;32mnot\u001b[0m \u001b[0mhasattr\u001b[0m\u001b[0;34m(\u001b[0m\u001b[0msource\u001b[0m\u001b[0;34m,\u001b[0m \u001b[0;34m\"read\"\u001b[0m\u001b[0;34m)\u001b[0m\u001b[0;34m:\u001b[0m\u001b[0;34m\u001b[0m\u001b[0;34m\u001b[0m\u001b[0m\n\u001b[0;32m--> 586\u001b[0;31m             \u001b[0msource\u001b[0m \u001b[0;34m=\u001b[0m \u001b[0mopen\u001b[0m\u001b[0;34m(\u001b[0m\u001b[0msource\u001b[0m\u001b[0;34m,\u001b[0m \u001b[0;34m\"rb\"\u001b[0m\u001b[0;34m)\u001b[0m\u001b[0;34m\u001b[0m\u001b[0;34m\u001b[0m\u001b[0m\n\u001b[0m\u001b[1;32m    587\u001b[0m             \u001b[0mclose_source\u001b[0m \u001b[0;34m=\u001b[0m \u001b[0;32mTrue\u001b[0m\u001b[0;34m\u001b[0m\u001b[0;34m\u001b[0m\u001b[0m\n\u001b[1;32m    588\u001b[0m         \u001b[0;32mtry\u001b[0m\u001b[0;34m:\u001b[0m\u001b[0;34m\u001b[0m\u001b[0;34m\u001b[0m\u001b[0m\n",
      "\u001b[0;31mFileNotFoundError\u001b[0m: [Errno 2] No such file or directory: '../database/TASS/TASS2018/intertass-PE-test.xml'"
     ]
    }
   ],
   "source": [
    "\n",
    "putTestValue(\"../database/TASS/TASS2018/intertass-PE-test.xml\")"
   ]
  },
  {
   "cell_type": "code",
   "execution_count": 6,
   "metadata": {},
   "outputs": [],
   "source": [
    "tree = ET.parse(\"../database/TASS/TASS2018/task1-Test.xml\")\n",
    "root = tree.getroot()"
   ]
  },
  {
   "cell_type": "code",
   "execution_count": 13,
   "metadata": {},
   "outputs": [
    {
     "data": {
      "text/plain": [
       "NoneType"
      ]
     },
     "execution_count": 13,
     "metadata": {},
     "output_type": "execute_result"
    }
   ],
   "source": [
    "tweet = next(root.iter('tweet'))\n",
    "sentiment = tweet.find('sentiment')\n",
    "type(sentiment.find('polarity').find('value').text)"
   ]
  },
  {
   "cell_type": "code",
   "execution_count": 15,
   "metadata": {},
   "outputs": [
    {
     "data": {
      "text/plain": [
       "False"
      ]
     },
     "execution_count": 15,
     "metadata": {},
     "output_type": "execute_result"
    }
   ],
   "source": [
    "sentiment.find('polarity').find('value').text == "
   ]
  },
  {
   "cell_type": "code",
   "execution_count": 12,
   "metadata": {},
   "outputs": [
    {
     "data": {
      "text/plain": [
       "False"
      ]
     },
     "execution_count": 12,
     "metadata": {},
     "output_type": "execute_result"
    }
   ],
   "source": [
    "None in [0,1,2]"
   ]
  },
  {
   "cell_type": "code",
   "execution_count": 6,
   "metadata": {},
   "outputs": [
    {
     "data": {
      "text/plain": [
       "NotImplemented"
      ]
     },
     "execution_count": 6,
     "metadata": {},
     "output_type": "execute_result"
    }
   ],
   "source": [
    "None.__eq__('N+')"
   ]
  },
  {
   "cell_type": "code",
   "execution_count": null,
   "metadata": {},
   "outputs": [],
   "source": []
  }
 ],
 "metadata": {
  "kernelspec": {
   "display_name": "Python 3",
   "language": "python",
   "name": "python3"
  },
  "language_info": {
   "codemirror_mode": {
    "name": "ipython",
    "version": 3
   },
   "file_extension": ".py",
   "mimetype": "text/x-python",
   "name": "python",
   "nbconvert_exporter": "python",
   "pygments_lexer": "ipython3",
   "version": "3.6.7"
  }
 },
 "nbformat": 4,
 "nbformat_minor": 2
}
