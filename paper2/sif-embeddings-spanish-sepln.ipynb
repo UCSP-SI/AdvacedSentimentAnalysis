{
 "cells": [
  {
   "cell_type": "code",
   "execution_count": 1,
   "metadata": {},
   "outputs": [
    {
     "name": "stderr",
     "output_type": "stream",
     "text": [
      "D:\\opt\\Anaconda3\\envs\\SI\\lib\\site-packages\\gensim\\utils.py:1197: UserWarning: detected Windows; aliasing chunkize to chunkize_serial\n",
      "  warnings.warn(\"detected Windows; aliasing chunkize to chunkize_serial\")\n"
     ]
    }
   ],
   "source": [
    "from __future__ import division, print_function\n",
    "\n",
    "import xmlreader as xml\n",
    "import utils as ut\n",
    "import numpy as np\n",
    "\n",
    "import gensim.models.word2vec\n",
    "import itertools\n",
    "from collections import Counter\n",
    "from nltk.tokenize import word_tokenize\n",
    "\n",
    "import re\n",
    "from nltk.corpus import stopwords\n",
    "from nltk.stem import SnowballStemmer\n",
    "from string import punctuation\n",
    "\n",
    "from sklearn.decomposition import TruncatedSVD\n",
    "from sklearn.feature_extraction.text import CountVectorizer\n",
    "from sklearn.metrics import accuracy_score, confusion_matrix, classification_report\n",
    "from sklearn.model_selection import KFold\n",
    "import collections\n",
    "import numpy as np\n",
    "import matplotlib.pyplot as plt\n",
    "import operator\n",
    "import os\n",
    "%matplotlib inline"
   ]
  },
  {
   "cell_type": "code",
   "execution_count": 2,
   "metadata": {},
   "outputs": [],
   "source": [
    "train_docs= xml.readXML(\"intertass-PE-train-tagged.xml\")"
   ]
  },
  {
   "cell_type": "code",
   "execution_count": 3,
   "metadata": {},
   "outputs": [],
   "source": [
    "# test_docs= xml.readXML(\"intertass-PE-test.xml\")\n",
    "train_docs = train_docs[0:700]\n",
    "test_docs = train_docs[-300:]"
   ]
  },
  {
   "cell_type": "code",
   "execution_count": 4,
   "metadata": {},
   "outputs": [],
   "source": [
    "corpus = []\n",
    "for doc in train_docs + test_docs:\n",
    "    corpus.append(doc.content)"
   ]
  },
  {
   "cell_type": "code",
   "execution_count": 5,
   "metadata": {},
   "outputs": [],
   "source": [
    "tokenized_train_docs = []\n",
    "for doc in train_docs:\n",
    "    tokenized_train_docs.append(ut.tokenize(doc.content, doc.polarity))\n",
    "    \n",
    "tokenized_test_docs = []\n",
    "for doc in test_docs:\n",
    "    tokenized_test_docs.append(ut.tokenize(doc.content, doc.polarity))"
   ]
  },
  {
   "cell_type": "code",
   "execution_count": 6,
   "metadata": {},
   "outputs": [],
   "source": [
    "train_tweets = []\n",
    "train_labels = []\n",
    "for tweet in tokenized_train_docs:\n",
    "    train_tweets.append(tweet['words'])\n",
    "    train_labels.append(tweet['class'])\n",
    "\n",
    "train_tweets = np.array(train_tweets)\n",
    "train_labels = np.array(train_labels)\n",
    "\n",
    "# train_tweets, test_tweets, train_labels, test_labels = ut.crossValidation2(tweets, labels, 3)"
   ]
  },
  {
   "cell_type": "code",
   "execution_count": 7,
   "metadata": {},
   "outputs": [],
   "source": [
    "test_tweets = []\n",
    "test_labels = []\n",
    "for tweet in tokenized_test_docs:\n",
    "    test_tweets.append(tweet['words'])\n",
    "    test_labels.append(tweet['class'])\n",
    "\n",
    "test_tweets = np.array(test_tweets)\n",
    "test_labels = np.array(test_labels)"
   ]
  },
  {
   "cell_type": "code",
   "execution_count": 8,
   "metadata": {},
   "outputs": [],
   "source": [
    "def CountFrequency(sentences): \n",
    "  \n",
    "    # Creating an empty dictionary  \n",
    "    freq = {} \n",
    "    for s in sentence:\n",
    "        for item in my_list: \n",
    "            if (item in freq): \n",
    "                freq[item] += 1\n",
    "            else: \n",
    "                freq[item] = 1\n",
    "                \n",
    "  \n",
    "    for key, value in freq.items(): \n",
    "        print (\"% d : % d\"%(key, value)) \n",
    "        \n",
    "    return freq"
   ]
  },
  {
   "cell_type": "code",
   "execution_count": 9,
   "metadata": {},
   "outputs": [],
   "source": [
    "def map_word_frequency(list_of_words):\n",
    "    return Counter(itertools.chain(*list_of_words))"
   ]
  },
  {
   "cell_type": "code",
   "execution_count": 10,
   "metadata": {},
   "outputs": [],
   "source": [
    "word_counts = map_word_frequency(np.concatenate([train_tweets, test_tweets]))"
   ]
  },
  {
   "cell_type": "code",
   "execution_count": 11,
   "metadata": {},
   "outputs": [],
   "source": [
    "def gensim_load_vec(path=\"SBW-vectors-300-min5.bin\"):\n",
    "    #use gensim_emb.wv.index2word if used this way to load vectors\n",
    "    #gensim_emb = gensim.models.word2vec.Word2Vec.load(path)\n",
    "    gensim_emb =  gensim.models.KeyedVectors.load_word2vec_format(path, binary=True)\n",
    "    vocab = gensim_emb.index2word\n",
    "    vec = gensim_emb.syn0\n",
    "    shape = gensim_emb.syn0.shape\n",
    "    return gensim_emb, vec, shape, vocab"
   ]
  },
  {
   "cell_type": "code",
   "execution_count": 12,
   "metadata": {},
   "outputs": [
    {
     "name": "stderr",
     "output_type": "stream",
     "text": [
      "D:\\opt\\Anaconda3\\envs\\SI\\lib\\site-packages\\ipykernel_launcher.py:6: DeprecationWarning: Call to deprecated `syn0` (Attribute will be removed in 4.0.0, use self.wv.vectors instead).\n",
      "  \n",
      "D:\\opt\\Anaconda3\\envs\\SI\\lib\\site-packages\\ipykernel_launcher.py:7: DeprecationWarning: Call to deprecated `syn0` (Attribute will be removed in 4.0.0, use self.wv.vectors instead).\n",
      "  import sys\n"
     ]
    }
   ],
   "source": [
    "gensim_emb, vec, shape, vocab = gensim_load_vec()"
   ]
  },
  {
   "cell_type": "code",
   "execution_count": 13,
   "metadata": {},
   "outputs": [],
   "source": [
    "# sent_emb = sentence2vec(sent_list,300,gensim_emb)"
   ]
  },
  {
   "cell_type": "code",
   "execution_count": null,
   "metadata": {},
   "outputs": [],
   "source": []
  },
  {
   "cell_type": "markdown",
   "metadata": {},
   "source": [
    "## Estimate Vocabulary Size"
   ]
  },
  {
   "cell_type": "code",
   "execution_count": 14,
   "metadata": {},
   "outputs": [],
   "source": [
    "counter = CountVectorizer(strip_accents=\"unicode\")"
   ]
  },
  {
   "cell_type": "code",
   "execution_count": 15,
   "metadata": {},
   "outputs": [
    {
     "name": "stdout",
     "output_type": "stream",
     "text": [
      "(1000, 3562)\n"
     ]
    }
   ],
   "source": [
    "X = counter.fit_transform(corpus)\n",
    "print(X.shape)"
   ]
  },
  {
   "cell_type": "code",
   "execution_count": 16,
   "metadata": {},
   "outputs": [
    {
     "data": {
      "text/plain": [
       "Text(0.5, 0, 'words')"
      ]
     },
     "execution_count": 16,
     "metadata": {},
     "output_type": "execute_result"
    },
    {
     "data": {
      "image/png": "[encoded data removed]",
      "text/plain": [
       "<Figure size 432x288 with 1 Axes>"
      ]
     },
     "metadata": {
      "needs_background": "light"
     },
     "output_type": "display_data"
    }
   ],
   "source": [
    "counts = np.sum(X, axis=0).tolist()\n",
    "counts = sorted(counts[0], reverse=True)\n",
    "plt.plot(np.arange(len(counts)), counts)\n",
    "plt.title(\"word count distribution in corpus\")\n",
    "plt.ylabel(\"counts\")\n",
    "plt.xlabel(\"words\")"
   ]
  },
  {
   "cell_type": "markdown",
   "metadata": {},
   "source": [
    "## Compute Baseline Embedding (BoW)\n",
    "\n",
    "<a href=\"https://www.codecogs.com/eqnedit.php?latex=v_s&space;=&space;\\frac{1}{\\left&space;\\|&space;S&space;\\right&space;\\|}&space;\\sum_{w&space;\\in&space;S}&space;v_w\" target=\"_blank\"><img src=\"https://latex.codecogs.com/gif.latex?v_s&space;=&space;\\frac{1}{\\left&space;\\|&space;S&space;\\right&space;\\|}&space;\\sum_{w&space;\\in&space;S}&space;v_w\" title=\"v_s = \\frac{1}{\\left \\| S \\right \\|} \\sum_{w \\in S} v_w\" /></a>"
   ]
  },
  {
   "cell_type": "code",
   "execution_count": 17,
   "metadata": {},
   "outputs": [
    {
     "name": "stdout",
     "output_type": "stream",
     "text": [
      "(1000, 3562)\n"
     ]
    }
   ],
   "source": [
    "VOCAB_SIZE = 3562\n",
    "# VOCAB_SIZE = X.shape[1]\n",
    "counter = CountVectorizer(strip_accents=\"unicode\",\n",
    "                          max_features=VOCAB_SIZE)\n",
    "caption_texts = corpus\n",
    "Xc = counter.fit_transform(caption_texts).todense().astype(\"float\")\n",
    "print(Xc.shape)"
   ]
  },
  {
   "cell_type": "code",
   "execution_count": 18,
   "metadata": {},
   "outputs": [
    {
     "name": "stdout",
     "output_type": "stream",
     "text": [
      "(1000, 1)\n"
     ]
    }
   ],
   "source": [
    "sent_lens = np.sum(Xc, axis=1).astype(\"float\")\n",
    "sent_lens[sent_lens == 0] = 1e-14\n",
    "print(sent_lens.shape)"
   ]
  },
  {
   "cell_type": "code",
   "execution_count": 19,
   "metadata": {},
   "outputs": [
    {
     "name": "stdout",
     "output_type": "stream",
     "text": [
      "(3562, 300)\n"
     ]
    }
   ],
   "source": [
    "E = np.zeros((VOCAB_SIZE, 300))\n",
    "for word in list(counter.vocabulary_.keys()):\n",
    "    try:\n",
    "        i = counter.vocabulary_[word]\n",
    "        E[i] = gensim_emb[word]\n",
    "    except KeyError:\n",
    "        pass\n",
    "print(E.shape)"
   ]
  },
  {
   "cell_type": "code",
   "execution_count": 20,
   "metadata": {},
   "outputs": [
    {
     "name": "stdout",
     "output_type": "stream",
     "text": [
      "(1000, 300)\n"
     ]
    }
   ],
   "source": [
    "Xb = np.divide(np.dot(Xc, E), sent_lens)\n",
    "print(Xb.shape)"
   ]
  },
  {
   "cell_type": "code",
   "execution_count": 21,
   "metadata": {},
   "outputs": [
    {
     "name": "stdout",
     "output_type": "stream",
     "text": [
      "(700, 300) (700,) (300, 300) (300,)\n"
     ]
    }
   ],
   "source": [
    "Xtrain, Xtest = Xb[0:len(train_docs)], Xb[-len(test_docs):]\n",
    "ytrain, ytest = np.array(train_labels), np.array(test_labels)\n",
    "print(Xtrain.shape, ytrain.shape, Xtest.shape, ytest.shape)"
   ]
  },
  {
   "cell_type": "code",
   "execution_count": 22,
   "metadata": {},
   "outputs": [],
   "source": [
    "def cross_val(Xtrain, ytrain, clf):\n",
    "    best_clf = None\n",
    "    best_score = 0.0\n",
    "    num_folds = 0\n",
    "    cv_scores = []\n",
    "    kfold = KFold(n_splits=10)\n",
    "    for train, val in kfold.split(Xtrain):\n",
    "        Xctrain, Xctest, yctrain, yctest = Xtrain[train], Xtrain[val], ytrain[train], ytrain[val]\n",
    "        clf.fit(Xctrain, yctrain)\n",
    "        score = clf.score(Xctest, yctest)\n",
    "        if score > best_score:\n",
    "            best_score = score\n",
    "            best_clf = clf\n",
    "        print(\"fold {:d}, score: {:.3f}\".format(num_folds, score))\n",
    "        cv_scores.append(score)\n",
    "        num_folds += 1\n",
    "    return best_clf, cv_scores\n",
    "\n",
    "def test_eval(Xtest, ytest, clf):\n",
    "    print(\"===\")\n",
    "    print(\"Test set results\")\n",
    "    ytest_ = clf.predict(Xtest)\n",
    "    accuracy = accuracy_score(ytest, ytest_)\n",
    "    print(\"Accuracy: {:.3f}\".format(accuracy))\n",
    "    print(\"---\")\n",
    "    print(\"Confusion Matrix\")\n",
    "    cm = confusion_matrix(ytest, ytest_)\n",
    "    print(cm)\n",
    "    print(\"---\")\n",
    "    print(\"Classification Report\")\n",
    "    cr = classification_report(ytest, ytest_)\n",
    "    print(cr)"
   ]
  },
  {
   "cell_type": "code",
   "execution_count": 23,
   "metadata": {},
   "outputs": [
    {
     "name": "stdout",
     "output_type": "stream",
     "text": [
      "fold 0, score: 0.286\n",
      "fold 1, score: 0.457\n",
      "fold 2, score: 0.371\n",
      "fold 3, score: 0.486\n",
      "fold 4, score: 0.386\n",
      "fold 5, score: 0.500\n",
      "fold 6, score: 0.429\n",
      "fold 7, score: 0.443\n",
      "fold 8, score: 0.586\n",
      "fold 9, score: 0.486\n",
      "===\n",
      "Test set results\n",
      "Accuracy: 0.553\n",
      "---\n",
      "Confusion Matrix\n",
      "[[83 61 25]\n",
      " [13 45 11]\n",
      " [ 9 15 38]]\n",
      "---\n",
      "Classification Report\n",
      "              precision    recall  f1-score   support\n",
      "\n",
      "           0       0.79      0.49      0.61       169\n",
      "           1       0.37      0.65      0.47        69\n",
      "           2       0.51      0.61      0.56        62\n",
      "\n",
      "   micro avg       0.55      0.55      0.55       300\n",
      "   macro avg       0.56      0.59      0.55       300\n",
      "weighted avg       0.64      0.55      0.57       300\n",
      "\n"
     ]
    }
   ],
   "source": [
    "from sklearn.naive_bayes import GaussianNB\n",
    "\n",
    "clf = GaussianNB()\n",
    "best_clf, scores_nb = cross_val(Xtrain, ytrain, clf)\n",
    "test_eval(Xtest, ytest, best_clf)"
   ]
  },
  {
   "cell_type": "code",
   "execution_count": 24,
   "metadata": {},
   "outputs": [
    {
     "name": "stdout",
     "output_type": "stream",
     "text": [
      "fold 0, score: 0.629\n",
      "fold 1, score: 0.614\n",
      "fold 2, score: 0.586\n",
      "fold 3, score: 0.529\n",
      "fold 4, score: 0.529\n",
      "fold 5, score: 0.529\n",
      "fold 6, score: 0.529\n",
      "fold 7, score: 0.586\n",
      "fold 8, score: 0.729\n",
      "fold 9, score: 0.500\n",
      "===\n",
      "Test set results\n",
      "Accuracy: 0.780\n",
      "---\n",
      "Confusion Matrix\n",
      "[[148   7  14]\n",
      " [ 24  39   6]\n",
      " [ 13   2  47]]\n",
      "---\n",
      "Classification Report\n",
      "              precision    recall  f1-score   support\n",
      "\n",
      "           0       0.80      0.88      0.84       169\n",
      "           1       0.81      0.57      0.67        69\n",
      "           2       0.70      0.76      0.73        62\n",
      "\n",
      "   micro avg       0.78      0.78      0.78       300\n",
      "   macro avg       0.77      0.73      0.74       300\n",
      "weighted avg       0.78      0.78      0.77       300\n",
      "\n"
     ]
    }
   ],
   "source": [
    "from sklearn.svm import LinearSVC\n",
    "\n",
    "clf = LinearSVC()\n",
    "best_clf, scores_svc = cross_val(Xtrain, ytrain, clf)\n",
    "test_eval(Xtest, ytest, best_clf)"
   ]
  },
  {
   "cell_type": "code",
   "execution_count": 40,
   "metadata": {},
   "outputs": [
    {
     "name": "stdout",
     "output_type": "stream",
     "text": [
      "fold 0, score: 0.614\n",
      "fold 1, score: 0.629\n",
      "fold 2, score: 0.614\n",
      "fold 3, score: 0.543\n",
      "fold 4, score: 0.529\n",
      "fold 5, score: 0.529\n",
      "fold 6, score: 0.557\n",
      "fold 7, score: 0.571\n",
      "fold 8, score: 0.686\n",
      "fold 9, score: 0.614\n",
      "===\n",
      "Test set results\n",
      "Accuracy: 0.823\n",
      "---\n",
      "Confusion Matrix\n",
      "[[155   4  10]\n",
      " [ 20  44   5]\n",
      " [ 10   4  48]]\n",
      "---\n",
      "Classification Report\n",
      "              precision    recall  f1-score   support\n",
      "\n",
      "           0       0.84      0.92      0.88       169\n",
      "           1       0.85      0.64      0.73        69\n",
      "           2       0.76      0.77      0.77        62\n",
      "\n",
      "   micro avg       0.82      0.82      0.82       300\n",
      "   macro avg       0.82      0.78      0.79       300\n",
      "weighted avg       0.82      0.82      0.82       300\n",
      "\n"
     ]
    }
   ],
   "source": [
    "from sklearn.svm import SVC\n",
    "\n",
    "clf = SVC(kernel='linear', C=5)\n",
    "best_clf, scores_svc = cross_val(Xtrain, ytrain, clf)\n",
    "test_eval(Xtest, ytest, best_clf)"
   ]
  },
  {
   "cell_type": "code",
   "execution_count": null,
   "metadata": {},
   "outputs": [],
   "source": []
  }
 ],
 "metadata": {
  "kernelspec": {
   "display_name": "Python 3",
   "language": "python",
   "name": "python3"
  },
  "language_info": {
   "codemirror_mode": {
    "name": "ipython",
    "version": 3
   },
   "file_extension": ".py",
   "mimetype": "text/x-python",
   "name": "python",
   "nbconvert_exporter": "python",
   "pygments_lexer": "ipython3",
   "version": "3.6.8"
  }
 },
 "nbformat": 4,
 "nbformat_minor": 2
}
